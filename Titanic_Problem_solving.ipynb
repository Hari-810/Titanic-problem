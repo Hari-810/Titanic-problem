{
  "nbformat": 4,
  "nbformat_minor": 0,
  "metadata": {
    "accelerator": "GPU",
    "colab": {
      "name": "Titanic Problem.ipynb",
      "provenance": [],
      "collapsed_sections": [
        "GPk29r-ThqR9",
        "P-FwTfe5hqR-",
        "Bg5zad2lhqSB",
        "rxxKfcUthqSE",
        "Y5ZTQ6nShqSM",
        "8f7E_m3phqSM",
        "ebIiwLQ1hqSO",
        "8ZnqK7tMhqSP",
        "MDIipuhmhqSY",
        "NTThwF3OhqSq",
        "DZcQ41rkhqSq"
      ],
      "toc_visible": true
    },
    "kernelspec": {
      "display_name": "Python 3",
      "language": "python",
      "name": "python3"
    },
    "language_info": {
      "codemirror_mode": {
        "name": "ipython",
        "version": 3
      },
      "file_extension": ".py",
      "mimetype": "text/x-python",
      "name": "python",
      "nbconvert_exporter": "python",
      "pygments_lexer": "ipython3",
      "version": "3.7.4"
    }
  },
  "cells": [
    {
      "cell_type": "markdown",
      "metadata": {
        "id": "sZD6v21ThqRS"
      },
      "source": [
        "# Titanic: Machine Learning Model\n"
      ]
    },
    {
      "cell_type": "markdown",
      "metadata": {
        "id": "vmJIPoOhhqRY"
      },
      "source": [
        "# OVERVIEW :"
      ]
    },
    {
      "cell_type": "markdown",
      "metadata": {
        "id": "Fk6u6KOVhqRa"
      },
      "source": [
        "# General Information on the Data:\n",
        "\n",
        "\n",
        "The sinking of the Titanic is one of the most infamous shipwrecks in history.\n",
        "\n",
        "On April 15, 1912, during her maiden voyage, the widely considered “unsinkable” RMS Titanic sank after colliding with an iceberg. Unfortunately, there weren’t enough lifeboats for everyone onboard, resulting in the death of 1502 out of 2224 passengers and crew.\n",
        "\n",
        "While there was some element of luck involved in surviving, it seems some groups of people were more likely to survive than others.\n",
        "\n",
        "In this challenge, we ask you to build a predictive model that answers the question: “what sorts of people were more likely to survive?” using passenger data (ie name, age, gender, socio-economic class, etc).\n"
      ]
    },
    {
      "cell_type": "markdown",
      "metadata": {
        "id": "wNrCv8x0hqRs"
      },
      "source": [
        "# Goal:\n",
        "\n",
        "To predict whether a passenger  was survived in the sinking of the Titanic or not.\n",
        "Predict 0 or 1 value for the variable.\n",
        "\n"
      ]
    },
    {
      "cell_type": "markdown",
      "metadata": {
        "id": "JZI_Qa7EhqRt"
      },
      "source": [
        "# Source : https://www.kaggle.com/c/titanic/data"
      ]
    },
    {
      "cell_type": "markdown",
      "metadata": {
        "id": "pNTYqV0shqRu"
      },
      "source": [
        "# Attributes Description :\n",
        "\n",
        "Survival - Survival (0 = No; 1 = Yes)\n",
        "\n",
        "PassengerId-Passengers ID\n",
        "\n",
        "Class - Passenger Class (1 = 1st; 2 = 2nd; 3 = 3rd)\n",
        "\n",
        "Name - Name\n",
        "\n",
        "Sex - Sex\n",
        "\n",
        "Age - Age\n",
        "\n",
        "Sibsp - Number of Siblings/Spouses Aboard\n",
        "\n",
        "Parch - Number of Parents/Children Aboard\n",
        "\n",
        "Ticket - Ticket Number\n",
        "\n",
        "Fare - Passenger Fare\n",
        "\n",
        "Cabin - Cabin\n",
        "\n",
        "Embarked - Port of Embarkation (C = Cherbourg; Q = Queenstown; S = Southampton)\n",
        "\n"
      ]
    },
    {
      "cell_type": "markdown",
      "metadata": {
        "id": "RUeS2NWIhqRv"
      },
      "source": [
        "# Life Cycle :\n",
        "\n",
        "1) Data Acquisition\n",
        "\n",
        "2) Exploratry Data Analysis (EDA)\n",
        "\n",
        "3) Data Visulaization\n",
        "\n",
        "4) Data Preprocessing\n",
        "\n",
        "5) Feature Engineering\n",
        "\n",
        "6) Feature Scaling\n",
        "\n",
        "7) Model Building\n",
        "\n",
        "8) Optimaization\n",
        "\n",
        "9) Conclusion"
      ]
    },
    {
      "cell_type": "markdown",
      "metadata": {
        "id": "aO2asz33hqRw"
      },
      "source": [
        "# Importing Necessary Libraries\n"
      ]
    },
    {
      "cell_type": "code",
      "metadata": {
        "id": "EqDrH008hqRx"
      },
      "source": [
        "import pandas as pd\n",
        "import numpy as np\n",
        "import matplotlib.pyplot as plt\n",
        "import seaborn as sns \n",
        "%matplotlib inline\n",
        "sns.set()\n",
        "from time import time\n",
        "\n",
        "\n",
        "from sklearn.preprocessing import LabelEncoder\n",
        "\n",
        "from sklearn.model_selection import train_test_split\n",
        "from sklearn.model_selection import GridSearchCV\n",
        "\n",
        "from sklearn.linear_model import LogisticRegression\n",
        "\n",
        "from sklearn.tree import DecisionTreeClassifier\n",
        "from sklearn.tree import plot_tree, export_text\n",
        "from sklearn.tree import DecisionTreeClassifier\n",
        "\n",
        "\n",
        "\n",
        "from sklearn.naive_bayes import GaussianNB, BernoulliNB,MultinomialNB\n",
        "\n",
        "\n",
        "from sklearn.ensemble import AdaBoostClassifier\n",
        "from sklearn.ensemble import GradientBoostingClassifier\n",
        "from sklearn.ensemble import BaggingClassifier\n",
        "from sklearn.ensemble import RandomForestClassifier\n",
        "\n",
        "from sklearn import metrics\n",
        "from sklearn.metrics import confusion_matrix,roc_auc_score,roc_curve,accuracy_score\n",
        "\n",
        "\n",
        "import warnings\n",
        "warnings.filterwarnings(\"ignore\", category=FutureWarning)\n",
        "warnings.filterwarnings(\"ignore\", category=DeprecationWarning)\n",
        "warnings.filterwarnings(\"ignore\")"
      ],
      "execution_count": 1,
      "outputs": []
    },
    {
      "cell_type": "markdown",
      "metadata": {
        "id": "O45t19oAhqRz"
      },
      "source": [
        "# Process-1 Data Acquisition"
      ]
    },
    {
      "cell_type": "code",
      "metadata": {
        "colab": {
          "base_uri": "https://localhost:8080/",
          "height": 194
        },
        "id": "6VBlDYEGhqR0",
        "outputId": "0e7ccdbd-0074-4f78-a9af-1b8e8fbf4e81"
      },
      "source": [
        "#Load datain csv format\n",
        "titanic=pd.read_csv('/content/train.csv')\n",
        "titanic.head()"
      ],
      "execution_count": 2,
      "outputs": [
        {
          "output_type": "execute_result",
          "data": {
            "text/html": [
              "<div>\n",
              "<style scoped>\n",
              "    .dataframe tbody tr th:only-of-type {\n",
              "        vertical-align: middle;\n",
              "    }\n",
              "\n",
              "    .dataframe tbody tr th {\n",
              "        vertical-align: top;\n",
              "    }\n",
              "\n",
              "    .dataframe thead th {\n",
              "        text-align: right;\n",
              "    }\n",
              "</style>\n",
              "<table border=\"1\" class=\"dataframe\">\n",
              "  <thead>\n",
              "    <tr style=\"text-align: right;\">\n",
              "      <th></th>\n",
              "      <th>PassengerId</th>\n",
              "      <th>Survived</th>\n",
              "      <th>Pclass</th>\n",
              "      <th>Name</th>\n",
              "      <th>Sex</th>\n",
              "      <th>Age</th>\n",
              "      <th>SibSp</th>\n",
              "      <th>Parch</th>\n",
              "      <th>Ticket</th>\n",
              "      <th>Fare</th>\n",
              "      <th>Cabin</th>\n",
              "      <th>Embarked</th>\n",
              "    </tr>\n",
              "  </thead>\n",
              "  <tbody>\n",
              "    <tr>\n",
              "      <th>0</th>\n",
              "      <td>1</td>\n",
              "      <td>0</td>\n",
              "      <td>3</td>\n",
              "      <td>Braund, Mr. Owen Harris</td>\n",
              "      <td>male</td>\n",
              "      <td>22.0</td>\n",
              "      <td>1</td>\n",
              "      <td>0</td>\n",
              "      <td>A/5 21171</td>\n",
              "      <td>7.2500</td>\n",
              "      <td>NaN</td>\n",
              "      <td>S</td>\n",
              "    </tr>\n",
              "    <tr>\n",
              "      <th>1</th>\n",
              "      <td>2</td>\n",
              "      <td>1</td>\n",
              "      <td>1</td>\n",
              "      <td>Cumings, Mrs. John Bradley (Florence Briggs Th...</td>\n",
              "      <td>female</td>\n",
              "      <td>38.0</td>\n",
              "      <td>1</td>\n",
              "      <td>0</td>\n",
              "      <td>PC 17599</td>\n",
              "      <td>71.2833</td>\n",
              "      <td>C85</td>\n",
              "      <td>C</td>\n",
              "    </tr>\n",
              "    <tr>\n",
              "      <th>2</th>\n",
              "      <td>3</td>\n",
              "      <td>1</td>\n",
              "      <td>3</td>\n",
              "      <td>Heikkinen, Miss. Laina</td>\n",
              "      <td>female</td>\n",
              "      <td>26.0</td>\n",
              "      <td>0</td>\n",
              "      <td>0</td>\n",
              "      <td>STON/O2. 3101282</td>\n",
              "      <td>7.9250</td>\n",
              "      <td>NaN</td>\n",
              "      <td>S</td>\n",
              "    </tr>\n",
              "    <tr>\n",
              "      <th>3</th>\n",
              "      <td>4</td>\n",
              "      <td>1</td>\n",
              "      <td>1</td>\n",
              "      <td>Futrelle, Mrs. Jacques Heath (Lily May Peel)</td>\n",
              "      <td>female</td>\n",
              "      <td>35.0</td>\n",
              "      <td>1</td>\n",
              "      <td>0</td>\n",
              "      <td>113803</td>\n",
              "      <td>53.1000</td>\n",
              "      <td>C123</td>\n",
              "      <td>S</td>\n",
              "    </tr>\n",
              "    <tr>\n",
              "      <th>4</th>\n",
              "      <td>5</td>\n",
              "      <td>0</td>\n",
              "      <td>3</td>\n",
              "      <td>Allen, Mr. William Henry</td>\n",
              "      <td>male</td>\n",
              "      <td>35.0</td>\n",
              "      <td>0</td>\n",
              "      <td>0</td>\n",
              "      <td>373450</td>\n",
              "      <td>8.0500</td>\n",
              "      <td>NaN</td>\n",
              "      <td>S</td>\n",
              "    </tr>\n",
              "  </tbody>\n",
              "</table>\n",
              "</div>"
            ],
            "text/plain": [
              "   PassengerId  Survived  Pclass  ...     Fare Cabin  Embarked\n",
              "0            1         0       3  ...   7.2500   NaN         S\n",
              "1            2         1       1  ...  71.2833   C85         C\n",
              "2            3         1       3  ...   7.9250   NaN         S\n",
              "3            4         1       1  ...  53.1000  C123         S\n",
              "4            5         0       3  ...   8.0500   NaN         S\n",
              "\n",
              "[5 rows x 12 columns]"
            ]
          },
          "metadata": {
            "tags": []
          },
          "execution_count": 2
        }
      ]
    },
    {
      "cell_type": "markdown",
      "metadata": {
        "id": "zg82KJDfhqR2"
      },
      "source": [
        "Dataset have totally 11 features as an input(PassengerId,Pclass,Name,Sex,Age,SibSp,Parch,Ticket,Fare,Cabin,Embarked) \n",
        "\n",
        "and 1 feature as output(Survived) \n",
        "\n",
        "(totally 12 features)"
      ]
    },
    {
      "cell_type": "markdown",
      "metadata": {
        "id": "6XjM1aithqR3"
      },
      "source": [
        "# Process-2 EDA"
      ]
    },
    {
      "cell_type": "code",
      "metadata": {
        "colab": {
          "base_uri": "https://localhost:8080/"
        },
        "id": "fsQgegkZmgp2",
        "outputId": "d8009423-17a1-4cec-8994-f2c069d96a06"
      },
      "source": [
        "titanic.info()"
      ],
      "execution_count": 3,
      "outputs": [
        {
          "output_type": "stream",
          "text": [
            "<class 'pandas.core.frame.DataFrame'>\n",
            "RangeIndex: 891 entries, 0 to 890\n",
            "Data columns (total 12 columns):\n",
            " #   Column       Non-Null Count  Dtype  \n",
            "---  ------       --------------  -----  \n",
            " 0   PassengerId  891 non-null    int64  \n",
            " 1   Survived     891 non-null    int64  \n",
            " 2   Pclass       891 non-null    int64  \n",
            " 3   Name         891 non-null    object \n",
            " 4   Sex          891 non-null    object \n",
            " 5   Age          714 non-null    float64\n",
            " 6   SibSp        891 non-null    int64  \n",
            " 7   Parch        891 non-null    int64  \n",
            " 8   Ticket       891 non-null    object \n",
            " 9   Fare         891 non-null    float64\n",
            " 10  Cabin        204 non-null    object \n",
            " 11  Embarked     889 non-null    object \n",
            "dtypes: float64(2), int64(5), object(5)\n",
            "memory usage: 83.7+ KB\n"
          ],
          "name": "stdout"
        }
      ]
    },
    {
      "cell_type": "code",
      "metadata": {
        "id": "Qt8SnatmhqR3"
      },
      "source": [
        "#Dropping the duplicate values\n",
        "titanic = titanic.drop_duplicates()"
      ],
      "execution_count": 4,
      "outputs": []
    },
    {
      "cell_type": "code",
      "metadata": {
        "colab": {
          "base_uri": "https://localhost:8080/"
        },
        "id": "I1oNLsWwhqR3",
        "outputId": "1f2b52d0-2704-4974-ac44-39d4b6b30bd8"
      },
      "source": [
        "#  explore the columns\n",
        "titanic.columns"
      ],
      "execution_count": 5,
      "outputs": [
        {
          "output_type": "execute_result",
          "data": {
            "text/plain": [
              "Index(['PassengerId', 'Survived', 'Pclass', 'Name', 'Sex', 'Age', 'SibSp',\n",
              "       'Parch', 'Ticket', 'Fare', 'Cabin', 'Embarked'],\n",
              "      dtype='object')"
            ]
          },
          "metadata": {
            "tags": []
          },
          "execution_count": 5
        }
      ]
    },
    {
      "cell_type": "code",
      "metadata": {
        "colab": {
          "base_uri": "https://localhost:8080/"
        },
        "id": "xHOSUwcnhqR4",
        "outputId": "9186d016-852a-4fdc-f87f-6ef8ecd4bff5"
      },
      "source": [
        "#Shape of the data\n",
        "\n",
        "print(\"Number Of Rows = %s\" % titanic.shape[0])\n",
        "print(\"Number Of Columns = %s\" % titanic.shape[1])"
      ],
      "execution_count": 6,
      "outputs": [
        {
          "output_type": "stream",
          "text": [
            "Number Of Rows = 891\n",
            "Number Of Columns = 12\n"
          ],
          "name": "stdout"
        }
      ]
    },
    {
      "cell_type": "code",
      "metadata": {
        "id": "xVE0nkR2hqR4"
      },
      "source": [
        "#Using pandas to set float_format to 2 decimals after the point.\n",
        "pd.options.display.float_format = '{:.2f}'.format   "
      ],
      "execution_count": 7,
      "outputs": []
    },
    {
      "cell_type": "code",
      "metadata": {
        "colab": {
          "base_uri": "https://localhost:8080/"
        },
        "id": "5mA7CP1ehqR4",
        "outputId": "fba294a0-ff82-406d-d6d3-79fa6c00d4cb"
      },
      "source": [
        "#Numerical, Categorical and floating features\n",
        "numerical_features = titanic.dtypes[titanic.dtypes == \"int\"].index\n",
        "print(\"Number of Numerical features: \", len(numerical_features))\n",
        "\n",
        "categorical_features = titanic.dtypes[titanic.dtypes == \"object\"].index\n",
        "print(\"Number of Categorical features: \", len(categorical_features))\n",
        "\n",
        "floating_features = titanic.dtypes[titanic.dtypes == \"float\"].index\n",
        "print(\"Number of Categorical features: \", len(floating_features))"
      ],
      "execution_count": 8,
      "outputs": [
        {
          "output_type": "stream",
          "text": [
            "Number of Numerical features:  5\n",
            "Number of Categorical features:  5\n",
            "Number of Categorical features:  2\n"
          ],
          "name": "stdout"
        }
      ]
    },
    {
      "cell_type": "code",
      "metadata": {
        "colab": {
          "base_uri": "https://localhost:8080/",
          "height": 321
        },
        "id": "6uFTxaqthqR5",
        "outputId": "0da47361-f706-4487-c8a7-ba0f736a3496"
      },
      "source": [
        "#Skewness and Kurtosis of the target (depndent) variable\n",
        "\n",
        "sns.distplot(titanic['Survived']);\n",
        "print(\"Skewness: %f\" % titanic['Survived'].skew())\n",
        "print(\"Kurtosis: %f\" % titanic['Survived'].kurt())"
      ],
      "execution_count": 9,
      "outputs": [
        {
          "output_type": "stream",
          "text": [
            "Skewness: 0.478523\n",
            "Kurtosis: -1.775005\n"
          ],
          "name": "stdout"
        },
        {
          "output_type": "display_data",
          "data": {
            "image/png": "[encoded data removed]",
            "text/plain": [
              "<Figure size 432x288 with 1 Axes>"
            ]
          },
          "metadata": {
            "tags": [],
            "needs_background": "light"
          }
        }
      ]
    },
    {
      "cell_type": "markdown",
      "metadata": {
        "id": "ph82cSRAhqR5"
      },
      "source": [
        "Skewness:\n",
        "    \n",
        "Skewness is a measure of symmetry, or more precisely, the lack of symmetry. A distribution, or data set, is symmetric \n",
        "if it looks the same to the left and right of the center point.\n",
        "The skewness for a normal distribution is zero, and any symmetric data should have a skewness near zero.\n",
        "Negative values for the skewness indicate data that are skewed left and positive values for the skewness indicate data \n",
        "that are skewed right.\n",
        "\n",
        "Kurtosis:\n",
        "    \n",
        "Kurtosis is a measure of whether the data are heavy-tailed or light-tailed relative to a normal distribution.\n",
        "Data sets with high kurtosis tend to have heavy tails, or outliers. Data sets with low kurtosis tend to have light tails,\n",
        "or lack of outliers."
      ]
    },
    {
      "cell_type": "code",
      "metadata": {
        "colab": {
          "base_uri": "https://localhost:8080/"
        },
        "id": "ppgpkDNthqR6",
        "outputId": "342d44c5-201f-4652-e122-35bb06eaa7e0"
      },
      "source": [
        "for col in numerical_features:\n",
        "    print('{:15}'.format(col), \n",
        "          'Skewness: {:05.2f}'.format(titanic[col].skew()) , \n",
        "          '   ' ,\n",
        "          'Kurtosis: {:06.2f}'.format(titanic[col].kurt())  \n",
        "         )\n",
        "for col in floating_features:\n",
        "    print('{:15}'.format(col), \n",
        "          'Skewness: {:05.2f}'.format(titanic[col].skew()) , \n",
        "          '   ' ,\n",
        "          'Kurtosis: {:06.2f}'.format(titanic[col].kurt())  \n",
        "         )    "
      ],
      "execution_count": 10,
      "outputs": [
        {
          "output_type": "stream",
          "text": [
            "PassengerId     Skewness: 00.00     Kurtosis: -01.20\n",
            "Survived        Skewness: 00.48     Kurtosis: -01.78\n",
            "Pclass          Skewness: -0.63     Kurtosis: -01.28\n",
            "SibSp           Skewness: 03.70     Kurtosis: 017.88\n",
            "Parch           Skewness: 02.75     Kurtosis: 009.78\n",
            "Age             Skewness: 00.39     Kurtosis: 000.18\n",
            "Fare            Skewness: 04.79     Kurtosis: 033.40\n"
          ],
          "name": "stdout"
        }
      ]
    },
    {
      "cell_type": "code",
      "metadata": {
        "colab": {
          "base_uri": "https://localhost:8080/",
          "height": 164
        },
        "id": "OMbkIxR3hqR6",
        "outputId": "e70ef370-ebb6-49a0-ae5d-e350f9769fca"
      },
      "source": [
        "#Summary of categorical features\n",
        "titanic.describe(include='object')"
      ],
      "execution_count": 11,
      "outputs": [
        {
          "output_type": "execute_result",
          "data": {
            "text/html": [
              "<div>\n",
              "<style scoped>\n",
              "    .dataframe tbody tr th:only-of-type {\n",
              "        vertical-align: middle;\n",
              "    }\n",
              "\n",
              "    .dataframe tbody tr th {\n",
              "        vertical-align: top;\n",
              "    }\n",
              "\n",
              "    .dataframe thead th {\n",
              "        text-align: right;\n",
              "    }\n",
              "</style>\n",
              "<table border=\"1\" class=\"dataframe\">\n",
              "  <thead>\n",
              "    <tr style=\"text-align: right;\">\n",
              "      <th></th>\n",
              "      <th>Name</th>\n",
              "      <th>Sex</th>\n",
              "      <th>Ticket</th>\n",
              "      <th>Cabin</th>\n",
              "      <th>Embarked</th>\n",
              "    </tr>\n",
              "  </thead>\n",
              "  <tbody>\n",
              "    <tr>\n",
              "      <th>count</th>\n",
              "      <td>891</td>\n",
              "      <td>891</td>\n",
              "      <td>891</td>\n",
              "      <td>204</td>\n",
              "      <td>889</td>\n",
              "    </tr>\n",
              "    <tr>\n",
              "      <th>unique</th>\n",
              "      <td>891</td>\n",
              "      <td>2</td>\n",
              "      <td>681</td>\n",
              "      <td>147</td>\n",
              "      <td>3</td>\n",
              "    </tr>\n",
              "    <tr>\n",
              "      <th>top</th>\n",
              "      <td>Taylor, Mr. Elmer Zebley</td>\n",
              "      <td>male</td>\n",
              "      <td>347082</td>\n",
              "      <td>C23 C25 C27</td>\n",
              "      <td>S</td>\n",
              "    </tr>\n",
              "    <tr>\n",
              "      <th>freq</th>\n",
              "      <td>1</td>\n",
              "      <td>577</td>\n",
              "      <td>7</td>\n",
              "      <td>4</td>\n",
              "      <td>644</td>\n",
              "    </tr>\n",
              "  </tbody>\n",
              "</table>\n",
              "</div>"
            ],
            "text/plain": [
              "                            Name   Sex  Ticket        Cabin Embarked\n",
              "count                        891   891     891          204      889\n",
              "unique                       891     2     681          147        3\n",
              "top     Taylor, Mr. Elmer Zebley  male  347082  C23 C25 C27        S\n",
              "freq                           1   577       7            4      644"
            ]
          },
          "metadata": {
            "tags": []
          },
          "execution_count": 11
        }
      ]
    },
    {
      "cell_type": "code",
      "metadata": {
        "colab": {
          "base_uri": "https://localhost:8080/",
          "height": 282
        },
        "id": "d0N9euBghqR7",
        "outputId": "6353edf1-560d-47f4-8a40-f440ef163e99"
      },
      "source": [
        "#Summary of numerical features\n",
        "titanic.describe(include=['int','float64'])"
      ],
      "execution_count": 12,
      "outputs": [
        {
          "output_type": "execute_result",
          "data": {
            "text/html": [
              "<div>\n",
              "<style scoped>\n",
              "    .dataframe tbody tr th:only-of-type {\n",
              "        vertical-align: middle;\n",
              "    }\n",
              "\n",
              "    .dataframe tbody tr th {\n",
              "        vertical-align: top;\n",
              "    }\n",
              "\n",
              "    .dataframe thead th {\n",
              "        text-align: right;\n",
              "    }\n",
              "</style>\n",
              "<table border=\"1\" class=\"dataframe\">\n",
              "  <thead>\n",
              "    <tr style=\"text-align: right;\">\n",
              "      <th></th>\n",
              "      <th>PassengerId</th>\n",
              "      <th>Survived</th>\n",
              "      <th>Pclass</th>\n",
              "      <th>Age</th>\n",
              "      <th>SibSp</th>\n",
              "      <th>Parch</th>\n",
              "      <th>Fare</th>\n",
              "    </tr>\n",
              "  </thead>\n",
              "  <tbody>\n",
              "    <tr>\n",
              "      <th>count</th>\n",
              "      <td>891.00</td>\n",
              "      <td>891.00</td>\n",
              "      <td>891.00</td>\n",
              "      <td>714.00</td>\n",
              "      <td>891.00</td>\n",
              "      <td>891.00</td>\n",
              "      <td>891.00</td>\n",
              "    </tr>\n",
              "    <tr>\n",
              "      <th>mean</th>\n",
              "      <td>446.00</td>\n",
              "      <td>0.38</td>\n",
              "      <td>2.31</td>\n",
              "      <td>29.70</td>\n",
              "      <td>0.52</td>\n",
              "      <td>0.38</td>\n",
              "      <td>32.20</td>\n",
              "    </tr>\n",
              "    <tr>\n",
              "      <th>std</th>\n",
              "      <td>257.35</td>\n",
              "      <td>0.49</td>\n",
              "      <td>0.84</td>\n",
              "      <td>14.53</td>\n",
              "      <td>1.10</td>\n",
              "      <td>0.81</td>\n",
              "      <td>49.69</td>\n",
              "    </tr>\n",
              "    <tr>\n",
              "      <th>min</th>\n",
              "      <td>1.00</td>\n",
              "      <td>0.00</td>\n",
              "      <td>1.00</td>\n",
              "      <td>0.42</td>\n",
              "      <td>0.00</td>\n",
              "      <td>0.00</td>\n",
              "      <td>0.00</td>\n",
              "    </tr>\n",
              "    <tr>\n",
              "      <th>25%</th>\n",
              "      <td>223.50</td>\n",
              "      <td>0.00</td>\n",
              "      <td>2.00</td>\n",
              "      <td>20.12</td>\n",
              "      <td>0.00</td>\n",
              "      <td>0.00</td>\n",
              "      <td>7.91</td>\n",
              "    </tr>\n",
              "    <tr>\n",
              "      <th>50%</th>\n",
              "      <td>446.00</td>\n",
              "      <td>0.00</td>\n",
              "      <td>3.00</td>\n",
              "      <td>28.00</td>\n",
              "      <td>0.00</td>\n",
              "      <td>0.00</td>\n",
              "      <td>14.45</td>\n",
              "    </tr>\n",
              "    <tr>\n",
              "      <th>75%</th>\n",
              "      <td>668.50</td>\n",
              "      <td>1.00</td>\n",
              "      <td>3.00</td>\n",
              "      <td>38.00</td>\n",
              "      <td>1.00</td>\n",
              "      <td>0.00</td>\n",
              "      <td>31.00</td>\n",
              "    </tr>\n",
              "    <tr>\n",
              "      <th>max</th>\n",
              "      <td>891.00</td>\n",
              "      <td>1.00</td>\n",
              "      <td>3.00</td>\n",
              "      <td>80.00</td>\n",
              "      <td>8.00</td>\n",
              "      <td>6.00</td>\n",
              "      <td>512.33</td>\n",
              "    </tr>\n",
              "  </tbody>\n",
              "</table>\n",
              "</div>"
            ],
            "text/plain": [
              "       PassengerId  Survived  Pclass    Age  SibSp  Parch   Fare\n",
              "count       891.00    891.00  891.00 714.00 891.00 891.00 891.00\n",
              "mean        446.00      0.38    2.31  29.70   0.52   0.38  32.20\n",
              "std         257.35      0.49    0.84  14.53   1.10   0.81  49.69\n",
              "min           1.00      0.00    1.00   0.42   0.00   0.00   0.00\n",
              "25%         223.50      0.00    2.00  20.12   0.00   0.00   7.91\n",
              "50%         446.00      0.00    3.00  28.00   0.00   0.00  14.45\n",
              "75%         668.50      1.00    3.00  38.00   1.00   0.00  31.00\n",
              "max         891.00      1.00    3.00  80.00   8.00   6.00 512.33"
            ]
          },
          "metadata": {
            "tags": []
          },
          "execution_count": 12
        }
      ]
    },
    {
      "cell_type": "code",
      "metadata": {
        "colab": {
          "base_uri": "https://localhost:8080/"
        },
        "id": "Kjbvu79PhqR7",
        "outputId": "1c35770f-efa7-41c2-e80e-ef3b9dd2afe1"
      },
      "source": [
        "#Analyzing data for Unique values in the numerical features.\n",
        "for i in titanic.columns:\n",
        "    if(titanic[i].dtype!=type(object)):\n",
        "        print(i,':\\n',titanic[i].unique(),'\\n\\n')"
      ],
      "execution_count": 13,
      "outputs": [
        {
          "output_type": "stream",
          "text": [
            "PassengerId :\n",
            " [  1   2   3   4   5   6   7   8   9  10  11  12  13  14  15  16  17  18\n",
            "  19  20  21  22  23  24  25  26  27  28  29  30  31  32  33  34  35  36\n",
            "  37  38  39  40  41  42  43  44  45  46  47  48  49  50  51  52  53  54\n",
            "  55  56  57  58  59  60  61  62  63  64  65  66  67  68  69  70  71  72\n",
            "  73  74  75  76  77  78  79  80  81  82  83  84  85  86  87  88  89  90\n",
            "  91  92  93  94  95  96  97  98  99 100 101 102 103 104 105 106 107 108\n",
            " 109 110 111 112 113 114 115 116 117 118 119 120 121 122 123 124 125 126\n",
            " 127 128 129 130 131 132 133 134 135 136 137 138 139 140 141 142 143 144\n",
            " 145 146 147 148 149 150 151 152 153 154 155 156 157 158 159 160 161 162\n",
            " 163 164 165 166 167 168 169 170 171 172 173 174 175 176 177 178 179 180\n",
            " 181 182 183 184 185 186 187 188 189 190 191 192 193 194 195 196 197 198\n",
            " 199 200 201 202 203 204 205 206 207 208 209 210 211 212 213 214 215 216\n",
            " 217 218 219 220 221 222 223 224 225 226 227 228 229 230 231 232 233 234\n",
            " 235 236 237 238 239 240 241 242 243 244 245 246 247 248 249 250 251 252\n",
            " 253 254 255 256 257 258 259 260 261 262 263 264 265 266 267 268 269 270\n",
            " 271 272 273 274 275 276 277 278 279 280 281 282 283 284 285 286 287 288\n",
            " 289 290 291 292 293 294 295 296 297 298 299 300 301 302 303 304 305 306\n",
            " 307 308 309 310 311 312 313 314 315 316 317 318 319 320 321 322 323 324\n",
            " 325 326 327 328 329 330 331 332 333 334 335 336 337 338 339 340 341 342\n",
            " 343 344 345 346 347 348 349 350 351 352 353 354 355 356 357 358 359 360\n",
            " 361 362 363 364 365 366 367 368 369 370 371 372 373 374 375 376 377 378\n",
            " 379 380 381 382 383 384 385 386 387 388 389 390 391 392 393 394 395 396\n",
            " 397 398 399 400 401 402 403 404 405 406 407 408 409 410 411 412 413 414\n",
            " 415 416 417 418 419 420 421 422 423 424 425 426 427 428 429 430 431 432\n",
            " 433 434 435 436 437 438 439 440 441 442 443 444 445 446 447 448 449 450\n",
            " 451 452 453 454 455 456 457 458 459 460 461 462 463 464 465 466 467 468\n",
            " 469 470 471 472 473 474 475 476 477 478 479 480 481 482 483 484 485 486\n",
            " 487 488 489 490 491 492 493 494 495 496 497 498 499 500 501 502 503 504\n",
            " 505 506 507 508 509 510 511 512 513 514 515 516 517 518 519 520 521 522\n",
            " 523 524 525 526 527 528 529 530 531 532 533 534 535 536 537 538 539 540\n",
            " 541 542 543 544 545 546 547 548 549 550 551 552 553 554 555 556 557 558\n",
            " 559 560 561 562 563 564 565 566 567 568 569 570 571 572 573 574 575 576\n",
            " 577 578 579 580 581 582 583 584 585 586 587 588 589 590 591 592 593 594\n",
            " 595 596 597 598 599 600 601 602 603 604 605 606 607 608 609 610 611 612\n",
            " 613 614 615 616 617 618 619 620 621 622 623 624 625 626 627 628 629 630\n",
            " 631 632 633 634 635 636 637 638 639 640 641 642 643 644 645 646 647 648\n",
            " 649 650 651 652 653 654 655 656 657 658 659 660 661 662 663 664 665 666\n",
            " 667 668 669 670 671 672 673 674 675 676 677 678 679 680 681 682 683 684\n",
            " 685 686 687 688 689 690 691 692 693 694 695 696 697 698 699 700 701 702\n",
            " 703 704 705 706 707 708 709 710 711 712 713 714 715 716 717 718 719 720\n",
            " 721 722 723 724 725 726 727 728 729 730 731 732 733 734 735 736 737 738\n",
            " 739 740 741 742 743 744 745 746 747 748 749 750 751 752 753 754 755 756\n",
            " 757 758 759 760 761 762 763 764 765 766 767 768 769 770 771 772 773 774\n",
            " 775 776 777 778 779 780 781 782 783 784 785 786 787 788 789 790 791 792\n",
            " 793 794 795 796 797 798 799 800 801 802 803 804 805 806 807 808 809 810\n",
            " 811 812 813 814 815 816 817 818 819 820 821 822 823 824 825 826 827 828\n",
            " 829 830 831 832 833 834 835 836 837 838 839 840 841 842 843 844 845 846\n",
            " 847 848 849 850 851 852 853 854 855 856 857 858 859 860 861 862 863 864\n",
            " 865 866 867 868 869 870 871 872 873 874 875 876 877 878 879 880 881 882\n",
            " 883 884 885 886 887 888 889 890 891] \n",
            "\n",
            "\n",
            "Survived :\n",
            " [0 1] \n",
            "\n",
            "\n",
            "Pclass :\n",
            " [3 1 2] \n",
            "\n",
            "\n",
            "Age :\n",
            " [22.   38.   26.   35.     nan 54.    2.   27.   14.    4.   58.   20.\n",
            " 39.   55.   31.   34.   15.   28.    8.   19.   40.   66.   42.   21.\n",
            " 18.    3.    7.   49.   29.   65.   28.5   5.   11.   45.   17.   32.\n",
            " 16.   25.    0.83 30.   33.   23.   24.   46.   59.   71.   37.   47.\n",
            " 14.5  70.5  32.5  12.    9.   36.5  51.   55.5  40.5  44.    1.   61.\n",
            " 56.   50.   36.   45.5  20.5  62.   41.   52.   63.   23.5   0.92 43.\n",
            " 60.   10.   64.   13.   48.    0.75 53.   57.   80.   70.   24.5   6.\n",
            "  0.67 30.5   0.42 34.5  74.  ] \n",
            "\n",
            "\n",
            "SibSp :\n",
            " [1 0 3 4 2 5 8] \n",
            "\n",
            "\n",
            "Parch :\n",
            " [0 1 2 5 3 4 6] \n",
            "\n",
            "\n",
            "Fare :\n",
            " [  7.25    71.2833   7.925   53.1      8.05     8.4583  51.8625  21.075\n",
            "  11.1333  30.0708  16.7     26.55    31.275    7.8542  16.      29.125\n",
            "  13.      18.       7.225   26.       8.0292  35.5     31.3875 263.\n",
            "   7.8792   7.8958  27.7208 146.5208   7.75    10.5     82.1708  52.\n",
            "   7.2292  11.2417   9.475   21.      41.5792  15.5     21.6792  17.8\n",
            "  39.6875   7.8     76.7292  61.9792  27.75    46.9     80.      83.475\n",
            "  27.9     15.2458   8.1583   8.6625  73.5     14.4542  56.4958   7.65\n",
            "  29.      12.475    9.       9.5      7.7875  47.1     15.85    34.375\n",
            "  61.175   20.575   34.6542  63.3583  23.      77.2875   8.6542   7.775\n",
            "  24.15     9.825   14.4583 247.5208   7.1417  22.3583   6.975    7.05\n",
            "  14.5     15.0458  26.2833   9.2167  79.2      6.75    11.5     36.75\n",
            "   7.7958  12.525   66.6      7.3125  61.3792   7.7333  69.55    16.1\n",
            "  15.75    20.525   55.      25.925   33.5     30.6958  25.4667  28.7125\n",
            "   0.      15.05    39.      22.025   50.       8.4042   6.4958  10.4625\n",
            "  18.7875  31.     113.275   27.      76.2917  90.       9.35    13.5\n",
            "   7.55    26.25    12.275    7.125   52.5542  20.2125  86.5    512.3292\n",
            "  79.65   153.4625 135.6333  19.5     29.7     77.9583  20.25    78.85\n",
            "  91.0792  12.875    8.85   151.55    30.5     23.25    12.35   110.8833\n",
            " 108.9     24.      56.9292  83.1583 262.375   14.     164.8667 134.5\n",
            "   6.2375  57.9792  28.5    133.65    15.9      9.225   35.      75.25\n",
            "  69.3     55.4417 211.5      4.0125 227.525   15.7417   7.7292  12.\n",
            " 120.      12.65    18.75     6.8583  32.5      7.875   14.4     55.9\n",
            "   8.1125  81.8583  19.2583  19.9667  89.1042  38.5      7.725   13.7917\n",
            "   9.8375   7.0458   7.5208  12.2875   9.5875  49.5042  78.2667  15.1\n",
            "   7.6292  22.525   26.2875  59.4      7.4958  34.0208  93.5    221.7792\n",
            " 106.425   49.5     71.      13.8625   7.8292  39.6     17.4     51.4792\n",
            "  26.3875  30.      40.125    8.7125  15.      33.      42.4     15.55\n",
            "  65.      32.3208   7.0542   8.4333  25.5875   9.8417   8.1375  10.1708\n",
            " 211.3375  57.      13.4167   7.7417   9.4833   7.7375   8.3625  23.45\n",
            "  25.9292   8.6833   8.5167   7.8875  37.0042   6.45     6.95     8.3\n",
            "   6.4375  39.4     14.1083  13.8583  50.4958   5.       9.8458  10.5167] \n",
            "\n",
            "\n"
          ],
          "name": "stdout"
        }
      ]
    },
    {
      "cell_type": "code",
      "metadata": {
        "colab": {
          "base_uri": "https://localhost:8080/"
        },
        "id": "PLu45Uz9hqR8",
        "outputId": "5a166df1-9055-4b41-cc93-8c9657b5b88a"
      },
      "source": [
        "#Analyzing data for no of outliers in Numerical column:\n",
        "for i in titanic.columns:\n",
        "    if(titanic[i].dtype!=type(object)):\n",
        "        q1=titanic[i].quantile(0.25)\n",
        "        q3=titanic[i].quantile(0.75)\n",
        "        IQR=q3-q1\n",
        "        ub=q3+(1.5*IQR)\n",
        "        lb=q1-(1.5*IQR)\n",
        "        out_ub=titanic[titanic[i]>ub][i]\n",
        "        out_lb=titanic[titanic[i]<lb][i]\n",
        "        print(\"no of outliers in\",i,\"is\",len(out_ub)+len(out_lb))"
      ],
      "execution_count": 14,
      "outputs": [
        {
          "output_type": "stream",
          "text": [
            "no of outliers in PassengerId is 0\n",
            "no of outliers in Survived is 0\n",
            "no of outliers in Pclass is 0\n",
            "no of outliers in Age is 11\n",
            "no of outliers in SibSp is 46\n",
            "no of outliers in Parch is 213\n",
            "no of outliers in Fare is 116\n"
          ],
          "name": "stdout"
        }
      ]
    },
    {
      "cell_type": "code",
      "metadata": {
        "colab": {
          "base_uri": "https://localhost:8080/",
          "height": 455
        },
        "id": "VU6DagqdhqR8",
        "outputId": "de657bdc-6522-4127-914b-1f1a66fa43c9"
      },
      "source": [
        "#ploting boxplot for all columns to check wheather the outliers are present in dataset or not. \n",
        "plt.figure(figsize=(10,10))\n",
        "\n",
        "\n",
        "plt.subplot(2,3,1)\n",
        "plt.title('Fare')\n",
        "plt.boxplot(titanic['Fare'],patch_artist=True)\n",
        "\n",
        "\n",
        "plt.subplot(2,3,2)\n",
        "plt.title('SibSp')\n",
        "plt.boxplot(titanic['SibSp'],patch_artist=True)\n",
        "\n",
        "plt.subplot(2,3,3)\n",
        "plt.title('Parch')\n",
        "plt.boxplot(titanic['Parch'],patch_artist=True)\n"
      ],
      "execution_count": 15,
      "outputs": [
        {
          "output_type": "execute_result",
          "data": {
            "text/plain": [
              "{'boxes': [<matplotlib.patches.PathPatch at 0x7f3e85f4fa10>],\n",
              " 'caps': [<matplotlib.lines.Line2D at 0x7f3e85f60090>,\n",
              "  <matplotlib.lines.Line2D at 0x7f3e85f605d0>],\n",
              " 'fliers': [<matplotlib.lines.Line2D at 0x7f3e85f680d0>],\n",
              " 'means': [],\n",
              " 'medians': [<matplotlib.lines.Line2D at 0x7f3e85f60b10>],\n",
              " 'whiskers': [<matplotlib.lines.Line2D at 0x7f3e85f58550>,\n",
              "  <matplotlib.lines.Line2D at 0x7f3e85f58b10>]}"
            ]
          },
          "metadata": {
            "tags": []
          },
          "execution_count": 15
        },
        {
          "output_type": "display_data",
          "data": {
            "image/png": "[encoded data removed]",
            "text/plain": [
              "<Figure size 720x720 with 3 Axes>"
            ]
          },
          "metadata": {
            "tags": [],
            "needs_background": "light"
          }
        }
      ]
    },
    {
      "cell_type": "markdown",
      "metadata": {
        "id": "GPk29r-ThqR9"
      },
      "source": [
        "# Process 3 and 4 :  Data PrePreprocessing And Visualization"
      ]
    },
    {
      "cell_type": "markdown",
      "metadata": {
        "id": "6VmsMbvzhqR-"
      },
      "source": [
        "# PassengerID"
      ]
    },
    {
      "cell_type": "code",
      "metadata": {
        "colab": {
          "base_uri": "https://localhost:8080/",
          "height": 194
        },
        "id": "swHO3qTrhqR-",
        "outputId": "2a68e56e-9149-4819-e153-f134ea1e24f4"
      },
      "source": [
        "#Passengerid is a unique identity of passengers \n",
        "# So drop Passengerid feature\n",
        "titanic=titanic.drop(['PassengerId'],1)\n",
        "titanic.head()"
      ],
      "execution_count": 16,
      "outputs": [
        {
          "output_type": "execute_result",
          "data": {
            "text/html": [
              "<div>\n",
              "<style scoped>\n",
              "    .dataframe tbody tr th:only-of-type {\n",
              "        vertical-align: middle;\n",
              "    }\n",
              "\n",
              "    .dataframe tbody tr th {\n",
              "        vertical-align: top;\n",
              "    }\n",
              "\n",
              "    .dataframe thead th {\n",
              "        text-align: right;\n",
              "    }\n",
              "</style>\n",
              "<table border=\"1\" class=\"dataframe\">\n",
              "  <thead>\n",
              "    <tr style=\"text-align: right;\">\n",
              "      <th></th>\n",
              "      <th>Survived</th>\n",
              "      <th>Pclass</th>\n",
              "      <th>Name</th>\n",
              "      <th>Sex</th>\n",
              "      <th>Age</th>\n",
              "      <th>SibSp</th>\n",
              "      <th>Parch</th>\n",
              "      <th>Ticket</th>\n",
              "      <th>Fare</th>\n",
              "      <th>Cabin</th>\n",
              "      <th>Embarked</th>\n",
              "    </tr>\n",
              "  </thead>\n",
              "  <tbody>\n",
              "    <tr>\n",
              "      <th>0</th>\n",
              "      <td>0</td>\n",
              "      <td>3</td>\n",
              "      <td>Braund, Mr. Owen Harris</td>\n",
              "      <td>male</td>\n",
              "      <td>22.00</td>\n",
              "      <td>1</td>\n",
              "      <td>0</td>\n",
              "      <td>A/5 21171</td>\n",
              "      <td>7.25</td>\n",
              "      <td>NaN</td>\n",
              "      <td>S</td>\n",
              "    </tr>\n",
              "    <tr>\n",
              "      <th>1</th>\n",
              "      <td>1</td>\n",
              "      <td>1</td>\n",
              "      <td>Cumings, Mrs. John Bradley (Florence Briggs Th...</td>\n",
              "      <td>female</td>\n",
              "      <td>38.00</td>\n",
              "      <td>1</td>\n",
              "      <td>0</td>\n",
              "      <td>PC 17599</td>\n",
              "      <td>71.28</td>\n",
              "      <td>C85</td>\n",
              "      <td>C</td>\n",
              "    </tr>\n",
              "    <tr>\n",
              "      <th>2</th>\n",
              "      <td>1</td>\n",
              "      <td>3</td>\n",
              "      <td>Heikkinen, Miss. Laina</td>\n",
              "      <td>female</td>\n",
              "      <td>26.00</td>\n",
              "      <td>0</td>\n",
              "      <td>0</td>\n",
              "      <td>STON/O2. 3101282</td>\n",
              "      <td>7.92</td>\n",
              "      <td>NaN</td>\n",
              "      <td>S</td>\n",
              "    </tr>\n",
              "    <tr>\n",
              "      <th>3</th>\n",
              "      <td>1</td>\n",
              "      <td>1</td>\n",
              "      <td>Futrelle, Mrs. Jacques Heath (Lily May Peel)</td>\n",
              "      <td>female</td>\n",
              "      <td>35.00</td>\n",
              "      <td>1</td>\n",
              "      <td>0</td>\n",
              "      <td>113803</td>\n",
              "      <td>53.10</td>\n",
              "      <td>C123</td>\n",
              "      <td>S</td>\n",
              "    </tr>\n",
              "    <tr>\n",
              "      <th>4</th>\n",
              "      <td>0</td>\n",
              "      <td>3</td>\n",
              "      <td>Allen, Mr. William Henry</td>\n",
              "      <td>male</td>\n",
              "      <td>35.00</td>\n",
              "      <td>0</td>\n",
              "      <td>0</td>\n",
              "      <td>373450</td>\n",
              "      <td>8.05</td>\n",
              "      <td>NaN</td>\n",
              "      <td>S</td>\n",
              "    </tr>\n",
              "  </tbody>\n",
              "</table>\n",
              "</div>"
            ],
            "text/plain": [
              "   Survived  Pclass  ... Cabin Embarked\n",
              "0         0       3  ...   NaN        S\n",
              "1         1       1  ...   C85        C\n",
              "2         1       3  ...   NaN        S\n",
              "3         1       1  ...  C123        S\n",
              "4         0       3  ...   NaN        S\n",
              "\n",
              "[5 rows x 11 columns]"
            ]
          },
          "metadata": {
            "tags": []
          },
          "execution_count": 16
        }
      ]
    },
    {
      "cell_type": "markdown",
      "metadata": {
        "id": "P-FwTfe5hqR-"
      },
      "source": [
        "# Pclass"
      ]
    },
    {
      "cell_type": "code",
      "metadata": {
        "colab": {
          "base_uri": "https://localhost:8080/"
        },
        "id": "NQ1uQRAhhqR_",
        "outputId": "0c137c50-efe0-4f4b-dede-8d5256eef9c0"
      },
      "source": [
        "# unique values in Pclass\n",
        "titanic['Pclass'].unique()"
      ],
      "execution_count": 17,
      "outputs": [
        {
          "output_type": "execute_result",
          "data": {
            "text/plain": [
              "array([3, 1, 2])"
            ]
          },
          "metadata": {
            "tags": []
          },
          "execution_count": 17
        }
      ]
    },
    {
      "cell_type": "markdown",
      "metadata": {
        "id": "vdRhd52JhqR_"
      },
      "source": [
        " Pclass id for define Ticket class. Like Business class,Economical class, etc..\n",
        "\n",
        "1) class 3 for higher class\n",
        "\n",
        "2) class 2 for midddel class\n",
        "\n",
        "3) class 1 for lowwer class "
      ]
    },
    {
      "cell_type": "code",
      "metadata": {
        "colab": {
          "base_uri": "https://localhost:8080/",
          "height": 0
        },
        "id": "t_V4ZneAhqR_",
        "outputId": "a909bc7f-6acc-4151-cd3e-ae8f5187ad8e"
      },
      "source": [
        "sns.countplot(x=titanic['Pclass'])"
      ],
      "execution_count": 18,
      "outputs": [
        {
          "output_type": "execute_result",
          "data": {
            "text/plain": [
              "<matplotlib.axes._subplots.AxesSubplot at 0x7f3e88f7c8d0>"
            ]
          },
          "metadata": {
            "tags": []
          },
          "execution_count": 18
        },
        {
          "output_type": "display_data",
          "data": {
            "image/png": "[encoded data removed]",
            "text/plain": [
              "<Figure size 432x288 with 1 Axes>"
            ]
          },
          "metadata": {
            "tags": [],
            "needs_background": "light"
          }
        }
      ]
    },
    {
      "cell_type": "code",
      "metadata": {
        "colab": {
          "base_uri": "https://localhost:8080/",
          "height": 0
        },
        "id": "gQ_d1LkqhqSA",
        "outputId": "43b2a9ae-ae57-433f-983a-7c44959cd230"
      },
      "source": [
        "# we can see that highest number of passengers travelling in class 3,Lets see relation between Pclass and Survival\n",
        "sns.catplot(x='Pclass',y='Survived',data=titanic,kind='bar')\n",
        "#with help of Barplot, we can say that class 1 passengers mostly likely to survive"
      ],
      "execution_count": 19,
      "outputs": [
        {
          "output_type": "execute_result",
          "data": {
            "text/plain": [
              "<seaborn.axisgrid.FacetGrid at 0x7f3e85f85510>"
            ]
          },
          "metadata": {
            "tags": []
          },
          "execution_count": 19
        },
        {
          "output_type": "display_data",
          "data": {
            "image/png": "[encoded data removed]",
            "text/plain": [
              "<Figure size 360x360 with 1 Axes>"
            ]
          },
          "metadata": {
            "tags": [],
            "needs_background": "light"
          }
        }
      ]
    },
    {
      "cell_type": "markdown",
      "metadata": {
        "id": "Bg5zad2lhqSB"
      },
      "source": [
        "# Name"
      ]
    },
    {
      "cell_type": "code",
      "metadata": {
        "colab": {
          "base_uri": "https://localhost:8080/"
        },
        "id": "ZjkRQwVJhqSB",
        "outputId": "1c82eac7-866b-408d-f447-3aa046151060"
      },
      "source": [
        "\n",
        "titanic['Name'].head()"
      ],
      "execution_count": 20,
      "outputs": [
        {
          "output_type": "execute_result",
          "data": {
            "text/plain": [
              "0                              Braund, Mr. Owen Harris\n",
              "1    Cumings, Mrs. John Bradley (Florence Briggs Th...\n",
              "2                               Heikkinen, Miss. Laina\n",
              "3         Futrelle, Mrs. Jacques Heath (Lily May Peel)\n",
              "4                             Allen, Mr. William Henry\n",
              "Name: Name, dtype: object"
            ]
          },
          "metadata": {
            "tags": []
          },
          "execution_count": 20
        }
      ]
    },
    {
      "cell_type": "code",
      "metadata": {
        "colab": {
          "base_uri": "https://localhost:8080/"
        },
        "id": "A-agrrkjhqSB",
        "outputId": "9178edf5-3856-4483-c5a8-d24f83926860"
      },
      "source": [
        "#let extract Titles of Passengers\n",
        "titanic['Title']=titanic['Name'].str.extract('([A-Za-z]+)\\.',)\n",
        "titanic['Title'].unique()"
      ],
      "execution_count": 21,
      "outputs": [
        {
          "output_type": "execute_result",
          "data": {
            "text/plain": [
              "array(['Mr', 'Mrs', 'Miss', 'Master', 'Don', 'Rev', 'Dr', 'Mme', 'Ms',\n",
              "       'Major', 'Lady', 'Sir', 'Mlle', 'Col', 'Capt', 'Countess',\n",
              "       'Jonkheer'], dtype=object)"
            ]
          },
          "metadata": {
            "tags": []
          },
          "execution_count": 21
        }
      ]
    },
    {
      "cell_type": "code",
      "metadata": {
        "colab": {
          "base_uri": "https://localhost:8080/",
          "height": 0
        },
        "id": "x5WdAlzPuXjI",
        "outputId": "680dc43e-69dd-4198-a870-2ab5ff788167"
      },
      "source": [
        "sns.countplot(y=titanic['Title'])"
      ],
      "execution_count": 22,
      "outputs": [
        {
          "output_type": "execute_result",
          "data": {
            "text/plain": [
              "<matplotlib.axes._subplots.AxesSubplot at 0x7f3e85e48750>"
            ]
          },
          "metadata": {
            "tags": []
          },
          "execution_count": 22
        },
        {
          "output_type": "display_data",
          "data": {
            "image/png": "[encoded data removed]",
            "text/plain": [
              "<Figure size 432x288 with 1 Axes>"
            ]
          },
          "metadata": {
            "tags": [],
            "needs_background": "light"
          }
        }
      ]
    },
    {
      "cell_type": "code",
      "metadata": {
        "colab": {
          "base_uri": "https://localhost:8080/",
          "height": 0
        },
        "id": "sx66C4C_hqSC",
        "outputId": "5bdf5777-0693-484b-a292-52a8e174a19b"
      },
      "source": [
        "#above count plot showing number of title we have in our data and  We got all unique titles from names\n",
        "\n",
        "sns.countplot(y=titanic['Title'])"
      ],
      "execution_count": 23,
      "outputs": [
        {
          "output_type": "execute_result",
          "data": {
            "text/plain": [
              "<matplotlib.axes._subplots.AxesSubplot at 0x7f3e7d5e9410>"
            ]
          },
          "metadata": {
            "tags": []
          },
          "execution_count": 23
        },
        {
          "output_type": "display_data",
          "data": {
            "image/png": "[encoded data removed]",
            "text/plain": [
              "<Figure size 432x288 with 1 Axes>"
            ]
          },
          "metadata": {
            "tags": [],
            "needs_background": "light"
          }
        }
      ]
    },
    {
      "cell_type": "code",
      "metadata": {
        "colab": {
          "base_uri": "https://localhost:8080/",
          "height": 0
        },
        "id": "BcmN08NxhqSD",
        "outputId": "dee1dace-33e8-4515-9f74-9e32d7805d83"
      },
      "source": [
        "sns.catplot(y='Title',x='Survived',data=titanic,kind='bar')"
      ],
      "execution_count": 24,
      "outputs": [
        {
          "output_type": "execute_result",
          "data": {
            "text/plain": [
              "<seaborn.axisgrid.FacetGrid at 0x7f3e7d4abc50>"
            ]
          },
          "metadata": {
            "tags": []
          },
          "execution_count": 24
        },
        {
          "output_type": "display_data",
          "data": {
            "image/png": "[encoded data removed]",
            "text/plain": [
              "<Figure size 360x360 with 1 Axes>"
            ]
          },
          "metadata": {
            "tags": [],
            "needs_background": "light"
          }
        }
      ]
    },
    {
      "cell_type": "code",
      "metadata": {
        "colab": {
          "base_uri": "https://localhost:8080/",
          "height": 0
        },
        "id": "4-BKzAGfhqSD",
        "outputId": "9398bd5d-e665-4bb7-8fe3-2e8bba02809e"
      },
      "source": [
        "# we get some meaningfull of title feature\n",
        "#Drop name\n",
        "titanic=titanic.drop(['Name'],1)\n",
        "titanic.head()"
      ],
      "execution_count": 25,
      "outputs": [
        {
          "output_type": "execute_result",
          "data": {
            "text/html": [
              "<div>\n",
              "<style scoped>\n",
              "    .dataframe tbody tr th:only-of-type {\n",
              "        vertical-align: middle;\n",
              "    }\n",
              "\n",
              "    .dataframe tbody tr th {\n",
              "        vertical-align: top;\n",
              "    }\n",
              "\n",
              "    .dataframe thead th {\n",
              "        text-align: right;\n",
              "    }\n",
              "</style>\n",
              "<table border=\"1\" class=\"dataframe\">\n",
              "  <thead>\n",
              "    <tr style=\"text-align: right;\">\n",
              "      <th></th>\n",
              "      <th>Survived</th>\n",
              "      <th>Pclass</th>\n",
              "      <th>Sex</th>\n",
              "      <th>Age</th>\n",
              "      <th>SibSp</th>\n",
              "      <th>Parch</th>\n",
              "      <th>Ticket</th>\n",
              "      <th>Fare</th>\n",
              "      <th>Cabin</th>\n",
              "      <th>Embarked</th>\n",
              "      <th>Title</th>\n",
              "    </tr>\n",
              "  </thead>\n",
              "  <tbody>\n",
              "    <tr>\n",
              "      <th>0</th>\n",
              "      <td>0</td>\n",
              "      <td>3</td>\n",
              "      <td>male</td>\n",
              "      <td>22.00</td>\n",
              "      <td>1</td>\n",
              "      <td>0</td>\n",
              "      <td>A/5 21171</td>\n",
              "      <td>7.25</td>\n",
              "      <td>NaN</td>\n",
              "      <td>S</td>\n",
              "      <td>Mr</td>\n",
              "    </tr>\n",
              "    <tr>\n",
              "      <th>1</th>\n",
              "      <td>1</td>\n",
              "      <td>1</td>\n",
              "      <td>female</td>\n",
              "      <td>38.00</td>\n",
              "      <td>1</td>\n",
              "      <td>0</td>\n",
              "      <td>PC 17599</td>\n",
              "      <td>71.28</td>\n",
              "      <td>C85</td>\n",
              "      <td>C</td>\n",
              "      <td>Mrs</td>\n",
              "    </tr>\n",
              "    <tr>\n",
              "      <th>2</th>\n",
              "      <td>1</td>\n",
              "      <td>3</td>\n",
              "      <td>female</td>\n",
              "      <td>26.00</td>\n",
              "      <td>0</td>\n",
              "      <td>0</td>\n",
              "      <td>STON/O2. 3101282</td>\n",
              "      <td>7.92</td>\n",
              "      <td>NaN</td>\n",
              "      <td>S</td>\n",
              "      <td>Miss</td>\n",
              "    </tr>\n",
              "    <tr>\n",
              "      <th>3</th>\n",
              "      <td>1</td>\n",
              "      <td>1</td>\n",
              "      <td>female</td>\n",
              "      <td>35.00</td>\n",
              "      <td>1</td>\n",
              "      <td>0</td>\n",
              "      <td>113803</td>\n",
              "      <td>53.10</td>\n",
              "      <td>C123</td>\n",
              "      <td>S</td>\n",
              "      <td>Mrs</td>\n",
              "    </tr>\n",
              "    <tr>\n",
              "      <th>4</th>\n",
              "      <td>0</td>\n",
              "      <td>3</td>\n",
              "      <td>male</td>\n",
              "      <td>35.00</td>\n",
              "      <td>0</td>\n",
              "      <td>0</td>\n",
              "      <td>373450</td>\n",
              "      <td>8.05</td>\n",
              "      <td>NaN</td>\n",
              "      <td>S</td>\n",
              "      <td>Mr</td>\n",
              "    </tr>\n",
              "  </tbody>\n",
              "</table>\n",
              "</div>"
            ],
            "text/plain": [
              "   Survived  Pclass     Sex   Age  ...  Fare  Cabin Embarked  Title\n",
              "0         0       3    male 22.00  ...  7.25    NaN        S     Mr\n",
              "1         1       1  female 38.00  ... 71.28    C85        C    Mrs\n",
              "2         1       3  female 26.00  ...  7.92    NaN        S   Miss\n",
              "3         1       1  female 35.00  ... 53.10   C123        S    Mrs\n",
              "4         0       3    male 35.00  ...  8.05    NaN        S     Mr\n",
              "\n",
              "[5 rows x 11 columns]"
            ]
          },
          "metadata": {
            "tags": []
          },
          "execution_count": 25
        }
      ]
    },
    {
      "cell_type": "markdown",
      "metadata": {
        "id": "rxxKfcUthqSE"
      },
      "source": [
        "# Sex"
      ]
    },
    {
      "cell_type": "code",
      "metadata": {
        "colab": {
          "base_uri": "https://localhost:8080/",
          "height": 0
        },
        "id": "kHTWn1JChqSE",
        "outputId": "7233f151-b780-40a0-ce75-538c7f25617a"
      },
      "source": [
        "sns.countplot(titanic['Sex'])\n",
        "#identifying male/female"
      ],
      "execution_count": 26,
      "outputs": [
        {
          "output_type": "execute_result",
          "data": {
            "text/plain": [
              "<matplotlib.axes._subplots.AxesSubplot at 0x7f3e7d480f90>"
            ]
          },
          "metadata": {
            "tags": []
          },
          "execution_count": 26
        },
        {
          "output_type": "display_data",
          "data": {
            "image/png": "[encoded data removed]",
            "text/plain": [
              "<Figure size 432x288 with 1 Axes>"
            ]
          },
          "metadata": {
            "tags": [],
            "needs_background": "light"
          }
        }
      ]
    },
    {
      "cell_type": "code",
      "metadata": {
        "colab": {
          "base_uri": "https://localhost:8080/",
          "height": 0
        },
        "id": "aNtCYR1uhqSF",
        "outputId": "73bfdf50-9e3d-4ecc-8730-97ed303ed6b9"
      },
      "source": [
        "#identifying survival rate base on sex\n",
        "sns.catplot(x='Sex',y='Survived',data=titanic,kind='bar')\n",
        "#female are survived most"
      ],
      "execution_count": 27,
      "outputs": [
        {
          "output_type": "execute_result",
          "data": {
            "text/plain": [
              "<seaborn.axisgrid.FacetGrid at 0x7f3e7d353c90>"
            ]
          },
          "metadata": {
            "tags": []
          },
          "execution_count": 27
        },
        {
          "output_type": "display_data",
          "data": {
            "image/png": "[encoded data removed]",
            "text/plain": [
              "<Figure size 360x360 with 1 Axes>"
            ]
          },
          "metadata": {
            "tags": [],
            "needs_background": "light"
          }
        }
      ]
    },
    {
      "cell_type": "code",
      "metadata": {
        "colab": {
          "base_uri": "https://localhost:8080/",
          "height": 0
        },
        "id": "jQE24FEshqSF",
        "outputId": "20b3d428-d02d-428c-8b79-24ff6275333a"
      },
      "source": [
        "#survival plot base on Pclass along with gender\n",
        "sns.catplot(x='Sex',y='Survived',data=titanic,kind='bar',hue='Pclass')\n",
        "#relationship between Sex-Pclass-Survived"
      ],
      "execution_count": 28,
      "outputs": [
        {
          "output_type": "execute_result",
          "data": {
            "text/plain": [
              "<seaborn.axisgrid.FacetGrid at 0x7f3e7d35ab90>"
            ]
          },
          "metadata": {
            "tags": []
          },
          "execution_count": 28
        },
        {
          "output_type": "display_data",
          "data": {
            "image/png": "[encoded data removed]",
            "text/plain": [
              "<Figure size 406.6x360 with 1 Axes>"
            ]
          },
          "metadata": {
            "tags": [],
            "needs_background": "light"
          }
        }
      ]
    },
    {
      "cell_type": "code",
      "metadata": {
        "id": "MjTLZ-iDhqSG"
      },
      "source": [
        "#covert categorical values into numeric values using mapping technique\n",
        "titanic['Sex']=titanic['Sex'].map({'male':0,'female':1})\n"
      ],
      "execution_count": 29,
      "outputs": []
    },
    {
      "cell_type": "markdown",
      "metadata": {
        "id": "mtK58tNShqSG"
      },
      "source": [
        "# Data Preprocessing"
      ]
    },
    {
      "cell_type": "code",
      "metadata": {
        "colab": {
          "base_uri": "https://localhost:8080/"
        },
        "id": "yFD-3rV-81wE",
        "outputId": "4c42cf86-7f7c-4589-975b-489d1c795721"
      },
      "source": [
        "titanic.isnull().sum()"
      ],
      "execution_count": 30,
      "outputs": [
        {
          "output_type": "execute_result",
          "data": {
            "text/plain": [
              "Survived      0\n",
              "Pclass        0\n",
              "Sex           0\n",
              "Age         177\n",
              "SibSp         0\n",
              "Parch         0\n",
              "Ticket        0\n",
              "Fare          0\n",
              "Cabin       687\n",
              "Embarked      2\n",
              "Title         0\n",
              "dtype: int64"
            ]
          },
          "metadata": {
            "tags": []
          },
          "execution_count": 30
        }
      ]
    },
    {
      "cell_type": "code",
      "metadata": {
        "colab": {
          "base_uri": "https://localhost:8080/"
        },
        "id": "j8rrX1AlhqSG",
        "outputId": "51ea7852-82c0-4e9e-fb08-ee9abd8ac07b"
      },
      "source": [
        "print(titanic.Pclass.unique())\n",
        "print(titanic.Sex.unique())"
      ],
      "execution_count": 31,
      "outputs": [
        {
          "output_type": "stream",
          "text": [
            "[3 1 2]\n",
            "[0 1]\n"
          ],
          "name": "stdout"
        }
      ]
    },
    {
      "cell_type": "code",
      "metadata": {
        "id": "wSr-2EfihqSH",
        "colab": {
          "base_uri": "https://localhost:8080/"
        },
        "outputId": "79f7bcb7-fc92-47d8-88b4-e686ce5886d6"
      },
      "source": [
        "#Age feature having some missing values so we need to process them\n",
        "for i in range(0,2):\n",
        "    for j in range(0,3):\n",
        "        print(i,j+1)\n",
        "        temp_dataset=titanic[(titanic['Sex']==i) &  (titanic['Pclass']==j+1)]['Age'].dropna()\n",
        "        print(temp_dataset)\n",
        "        #print(str(temp_dataset.median())+\"  \"+str(i)+\"  \"+str(j+1))\n",
        "        titanic.loc[(titanic.Age.isnull()) & (titanic.Sex==i) & (titanic.Pclass==j+1),'Age']=int(temp_dataset.median())"
      ],
      "execution_count": 32,
      "outputs": [
        {
          "output_type": "stream",
          "text": [
            "0 1\n",
            "6     54.00\n",
            "23    28.00\n",
            "27    19.00\n",
            "30    40.00\n",
            "34    28.00\n",
            "       ... \n",
            "822   38.00\n",
            "857   51.00\n",
            "867   31.00\n",
            "872   33.00\n",
            "889   26.00\n",
            "Name: Age, Length: 101, dtype: float64\n",
            "0 2\n",
            "20    35.00\n",
            "21    34.00\n",
            "33    66.00\n",
            "70    32.00\n",
            "72    21.00\n",
            "       ... \n",
            "848   28.00\n",
            "861   21.00\n",
            "864   24.00\n",
            "883   28.00\n",
            "886   27.00\n",
            "Name: Age, Length: 99, dtype: float64\n",
            "0 3\n",
            "0     22.00\n",
            "4     35.00\n",
            "7      2.00\n",
            "12    20.00\n",
            "13    39.00\n",
            "       ... \n",
            "876   20.00\n",
            "877   19.00\n",
            "881   33.00\n",
            "884   25.00\n",
            "890   32.00\n",
            "Name: Age, Length: 253, dtype: float64\n",
            "1 1\n",
            "1     38.00\n",
            "3     35.00\n",
            "11    58.00\n",
            "52    49.00\n",
            "61    38.00\n",
            "       ... \n",
            "856   45.00\n",
            "862   48.00\n",
            "871   47.00\n",
            "879   56.00\n",
            "887   19.00\n",
            "Name: Age, Length: 85, dtype: float64\n",
            "1 2\n",
            "9     14.00\n",
            "15    55.00\n",
            "41    27.00\n",
            "43     3.00\n",
            "53    29.00\n",
            "       ... \n",
            "854   44.00\n",
            "865   42.00\n",
            "866   27.00\n",
            "874   28.00\n",
            "880   25.00\n",
            "Name: Age, Length: 74, dtype: float64\n",
            "1 3\n",
            "2     26.00\n",
            "8     27.00\n",
            "10     4.00\n",
            "14    14.00\n",
            "18    31.00\n",
            "       ... \n",
            "855   18.00\n",
            "858   24.00\n",
            "875   15.00\n",
            "882   22.00\n",
            "885   39.00\n",
            "Name: Age, Length: 102, dtype: float64\n"
          ],
          "name": "stdout"
        }
      ]
    },
    {
      "cell_type": "code",
      "metadata": {
        "colab": {
          "base_uri": "https://localhost:8080/"
        },
        "id": "5KK7AuXw8vWe",
        "outputId": "c38beb32-4a32-4f19-f37b-9fadd0c797f1"
      },
      "source": [
        "titanic[\"Sex\"].isnull().sum()"
      ],
      "execution_count": 33,
      "outputs": [
        {
          "output_type": "execute_result",
          "data": {
            "text/plain": [
              "0"
            ]
          },
          "metadata": {
            "tags": []
          },
          "execution_count": 33
        }
      ]
    },
    {
      "cell_type": "markdown",
      "metadata": {
        "id": "6EC3-mWShqSH"
      },
      "source": [
        "# Fare"
      ]
    },
    {
      "cell_type": "code",
      "metadata": {
        "id": "7UpHutQqhqSH"
      },
      "source": [
        "#fare depend on Pclass,Sex, and age\n",
        "titanic['Fare']=titanic['Fare'].fillna(titanic.loc[(titanic['Pclass']==3) & (titanic['Sex']==\"male\") & (titanic['Age']<65) & (titanic['Age']>55)].dropna()['Fare'].mean())"
      ],
      "execution_count": 34,
      "outputs": []
    },
    {
      "cell_type": "code",
      "metadata": {
        "colab": {
          "base_uri": "https://localhost:8080/"
        },
        "id": "k6WOlhmBhqSH",
        "outputId": "9144caae-5974-4fd3-9cb0-9b74f1c9ff7a"
      },
      "source": [
        "titanic['Fare_Band']=pd.cut(titanic['Fare'],3)\n",
        "titanic['Fare_Band'].unique()"
      ],
      "execution_count": 35,
      "outputs": [
        {
          "output_type": "execute_result",
          "data": {
            "text/plain": [
              "[(-0.512, 170.776], (170.776, 341.553], (341.553, 512.329]]\n",
              "Categories (3, interval[float64]): [(-0.512, 170.776] < (170.776, 341.553] < (341.553, 512.329]]"
            ]
          },
          "metadata": {
            "tags": []
          },
          "execution_count": 35
        }
      ]
    },
    {
      "cell_type": "code",
      "metadata": {
        "id": "LfNqWCbRhqSI"
      },
      "source": [
        "titanic.loc[(titanic['Fare']<=170.776),'Fare']=1\n",
        "titanic.loc[(titanic['Fare']>170.776) & (titanic['Fare']<=314.553),'Fare']=2\n",
        "titanic.loc[(titanic['Fare']>314.553) & (titanic['Fare']<=513),'Fare']=3\n",
        "titanic=titanic.drop(['Fare_Band'],1)"
      ],
      "execution_count": 36,
      "outputs": []
    },
    {
      "cell_type": "code",
      "metadata": {
        "colab": {
          "base_uri": "https://localhost:8080/"
        },
        "id": "VTWmPRrthqSI",
        "outputId": "913d7c11-cb7e-4d08-9520-f0c828bfa336"
      },
      "source": [
        "titanic['Fare'].value_counts()"
      ],
      "execution_count": 37,
      "outputs": [
        {
          "output_type": "execute_result",
          "data": {
            "text/plain": [
              "1.00    871\n",
              "2.00     17\n",
              "3.00      3\n",
              "Name: Fare, dtype: int64"
            ]
          },
          "metadata": {
            "tags": []
          },
          "execution_count": 37
        }
      ]
    },
    {
      "cell_type": "markdown",
      "metadata": {
        "id": "1JPFbdMvhqSI"
      },
      "source": [
        "# Age"
      ]
    },
    {
      "cell_type": "code",
      "metadata": {
        "colab": {
          "base_uri": "https://localhost:8080/",
          "height": 404
        },
        "id": "Efj1jDA5hqSJ",
        "outputId": "92f94f22-34cd-45ae-f4bf-2ab83db040c1"
      },
      "source": [
        "titanic['Age_Band']=pd.cut(titanic['Age'],5)\n",
        "titanic['Age_Band'].unique()\n",
        "sns.catplot(y=\"Age_Band\",x='Survived',data=titanic,kind='bar')\n",
        "\n",
        "### lower age passengers are more likely to survive and higger age likely to not survive"
      ],
      "execution_count": 38,
      "outputs": [
        {
          "output_type": "execute_result",
          "data": {
            "text/plain": [
              "<seaborn.axisgrid.FacetGrid at 0x7f3e85f850d0>"
            ]
          },
          "metadata": {
            "tags": []
          },
          "execution_count": 38
        },
        {
          "output_type": "display_data",
          "data": {
            "image/png": "[encoded data removed]",
            "text/plain": [
              "<Figure size 360x360 with 1 Axes>"
            ]
          },
          "metadata": {
            "tags": [],
            "needs_background": "light"
          }
        }
      ]
    },
    {
      "cell_type": "code",
      "metadata": {
        "colab": {
          "base_uri": "https://localhost:8080/",
          "height": 404
        },
        "id": "EhdYBk7chqSJ",
        "outputId": "3bd67c63-e95f-4e44-ac43-4d5c30c0c8bd"
      },
      "source": [
        "#relationship between Age_band,Survival,Pclass\n",
        "sns.catplot(y=\"Age_Band\",x='Survived',data=titanic,kind='bar',hue='Pclass')"
      ],
      "execution_count": 39,
      "outputs": [
        {
          "output_type": "execute_result",
          "data": {
            "text/plain": [
              "<seaborn.axisgrid.FacetGrid at 0x7f3e85f85a50>"
            ]
          },
          "metadata": {
            "tags": []
          },
          "execution_count": 39
        },
        {
          "output_type": "display_data",
          "data": {
            "image/png": "[encoded data removed]",
            "text/plain": [
              "<Figure size 406.6x360 with 1 Axes>"
            ]
          },
          "metadata": {
            "tags": [],
            "needs_background": "light"
          }
        }
      ]
    },
    {
      "cell_type": "code",
      "metadata": {
        "colab": {
          "base_uri": "https://localhost:8080/",
          "height": 243
        },
        "id": "F5Do8CLghqSK",
        "outputId": "66bd6730-4f9a-4cd5-a024-d6db41879b79"
      },
      "source": [
        "g = sns.FacetGrid(titanic, col='Survived')\n",
        "g.map(plt.hist, 'Age', bins=20)\n"
      ],
      "execution_count": 40,
      "outputs": [
        {
          "output_type": "execute_result",
          "data": {
            "text/plain": [
              "<seaborn.axisgrid.FacetGrid at 0x7f3e7d13b3d0>"
            ]
          },
          "metadata": {
            "tags": []
          },
          "execution_count": 40
        },
        {
          "output_type": "display_data",
          "data": {
            "image/png": "[encoded data removed]",
            "text/plain": [
              "<Figure size 432x216 with 2 Axes>"
            ]
          },
          "metadata": {
            "tags": [],
            "needs_background": "light"
          }
        }
      ]
    },
    {
      "cell_type": "code",
      "metadata": {
        "colab": {
          "base_uri": "https://localhost:8080/",
          "height": 459
        },
        "id": "2GGB6m4RhqSK",
        "outputId": "11cbf40f-5d62-48d8-f34b-4062c417aa6e"
      },
      "source": [
        "g = sns.FacetGrid(titanic, col='Survived',row='Sex')\n",
        "g.map(plt.hist, 'Age', bins=20)\n",
        "\n",
        "#here Sex=0 represents Male and Sex=1 represents Female\n"
      ],
      "execution_count": 41,
      "outputs": [
        {
          "output_type": "execute_result",
          "data": {
            "text/plain": [
              "<seaborn.axisgrid.FacetGrid at 0x7f3e7cfd4d10>"
            ]
          },
          "metadata": {
            "tags": []
          },
          "execution_count": 41
        },
        {
          "output_type": "display_data",
          "data": {
            "image/png": "[encoded data removed]",
            "text/plain": [
              "<Figure size 432x432 with 4 Axes>"
            ]
          },
          "metadata": {
            "tags": [],
            "needs_background": "light"
          }
        }
      ]
    },
    {
      "cell_type": "code",
      "metadata": {
        "colab": {
          "base_uri": "https://localhost:8080/",
          "height": 459
        },
        "id": "4VzU8f2ihqSK",
        "outputId": "a6cdb711-e246-4cb1-aee9-f6d4d845d60d"
      },
      "source": [
        "#relation between Survived and Pclass individually\n",
        "\n",
        "g = sns.FacetGrid(titanic, row='Survived',col='Pclass')\n",
        "g.map(plt.hist, 'Age', bins=20)"
      ],
      "execution_count": 42,
      "outputs": [
        {
          "output_type": "execute_result",
          "data": {
            "text/plain": [
              "<seaborn.axisgrid.FacetGrid at 0x7f3e7cd73210>"
            ]
          },
          "metadata": {
            "tags": []
          },
          "execution_count": 42
        },
        {
          "output_type": "display_data",
          "data": {
            "image/png": "[encoded data removed]",
            "text/plain": [
              "<Figure size 648x432 with 6 Axes>"
            ]
          },
          "metadata": {
            "tags": [],
            "needs_background": "light"
          }
        }
      ]
    },
    {
      "cell_type": "code",
      "metadata": {
        "colab": {
          "base_uri": "https://localhost:8080/",
          "height": 459
        },
        "id": "1cGBVrKQhqSL",
        "outputId": "7d1572bb-0a6a-4f90-805a-57cd765a9fc0"
      },
      "source": [
        "#relation between survived and Embarked indvidually\n",
        "\n",
        "g = sns.FacetGrid(titanic, row='Survived',col='Embarked')\n",
        "g.map(plt.hist, 'Age', bins=20)"
      ],
      "execution_count": 43,
      "outputs": [
        {
          "output_type": "execute_result",
          "data": {
            "text/plain": [
              "<seaborn.axisgrid.FacetGrid at 0x7f3e7c9d8210>"
            ]
          },
          "metadata": {
            "tags": []
          },
          "execution_count": 43
        },
        {
          "output_type": "display_data",
          "data": {
            "image/png": "[encoded data removed]",
            "text/plain": [
              "<Figure size 648x432 with 6 Axes>"
            ]
          },
          "metadata": {
            "tags": [],
            "needs_background": "light"
          }
        }
      ]
    },
    {
      "cell_type": "code",
      "metadata": {
        "colab": {
          "base_uri": "https://localhost:8080/",
          "height": 503
        },
        "id": "hQNnaSBphqSL",
        "outputId": "d73f654b-7e57-4705-cc8d-b7459ae70556"
      },
      "source": [
        "grid = sns.FacetGrid(titanic, row='Embarked', size=2.2, aspect=1.6)\n",
        "grid.map(sns.pointplot, 'Pclass', 'Survived', 'Sex')\n",
        "grid.add_legend()"
      ],
      "execution_count": 44,
      "outputs": [
        {
          "output_type": "execute_result",
          "data": {
            "text/plain": [
              "<seaborn.axisgrid.FacetGrid at 0x7f3e7c6d4d10>"
            ]
          },
          "metadata": {
            "tags": []
          },
          "execution_count": 44
        },
        {
          "output_type": "display_data",
          "data": {
            "image/png": "[encoded data removed]",
            "text/plain": [
              "<Figure size 300.04x475.2 with 3 Axes>"
            ]
          },
          "metadata": {
            "tags": [],
            "needs_background": "light"
          }
        }
      ]
    },
    {
      "cell_type": "code",
      "metadata": {
        "id": "6H1ytWaPhqSL"
      },
      "source": [
        "titanic=titanic.drop(['Age_Band'],1)"
      ],
      "execution_count": 45,
      "outputs": []
    },
    {
      "cell_type": "code",
      "metadata": {
        "colab": {
          "base_uri": "https://localhost:8080/"
        },
        "id": "Jv-2ja5GhqSM",
        "outputId": "cd9651b1-3dd5-4e59-8dd1-a01610edf470"
      },
      "source": [
        "titanic.loc[(titanic['Age']<=16.136),'Age']=1\n",
        "titanic.loc[(titanic['Age']>16.136) & (titanic['Age']<=32.102),'Age']=2\n",
        "titanic.loc[(titanic['Age']>32.102) & (titanic['Age']<=48.068),'Age']=3\n",
        "titanic.loc[(titanic['Age']>48.068) & (titanic['Age']<=64.034),'Age']=4\n",
        "titanic.loc[(titanic['Age']>64.034) & (titanic['Age']<=80.),'Age']=5\n",
        "titanic['Age'].unique()"
      ],
      "execution_count": 46,
      "outputs": [
        {
          "output_type": "execute_result",
          "data": {
            "text/plain": [
              "array([2., 3., 4., 1., 5.])"
            ]
          },
          "metadata": {
            "tags": []
          },
          "execution_count": 46
        }
      ]
    },
    {
      "cell_type": "markdown",
      "metadata": {
        "id": "Y5ZTQ6nShqSM"
      },
      "source": [
        "# Process 5: Feature Engineering  Along with Data Visualization"
      ]
    },
    {
      "cell_type": "markdown",
      "metadata": {
        "id": "8f7E_m3phqSM"
      },
      "source": [
        "# SibSp/Parch"
      ]
    },
    {
      "cell_type": "markdown",
      "metadata": {
        "id": "JVdwLQUOhqSN"
      },
      "source": [
        "Sibsb:Number of Sibling\n",
        "    \n",
        "Parch:Number of Parents\n",
        "\n",
        "using this features we can create new fature Family"
      ]
    },
    {
      "cell_type": "code",
      "metadata": {
        "id": "4cKaXArdhqSN"
      },
      "source": [
        "titanic['FamilySize']=titanic['SibSp']+titanic['Parch']+1\n",
        "titanic=titanic.drop(['SibSp','Parch'],1)"
      ],
      "execution_count": 47,
      "outputs": []
    },
    {
      "cell_type": "code",
      "metadata": {
        "colab": {
          "base_uri": "https://localhost:8080/",
          "height": 0
        },
        "id": "oKnXwIMAhqSN",
        "outputId": "ac3fc747-3f96-4279-d8fa-d73aec0cfc34"
      },
      "source": [
        "sns.catplot(x='FamilySize',y='Survived',data=titanic,kind='bar')"
      ],
      "execution_count": 48,
      "outputs": [
        {
          "output_type": "execute_result",
          "data": {
            "text/plain": [
              "<seaborn.axisgrid.FacetGrid at 0x7f3e7d35af50>"
            ]
          },
          "metadata": {
            "tags": []
          },
          "execution_count": 48
        },
        {
          "output_type": "display_data",
          "data": {
            "image/png": "[encoded data removed]",
            "text/plain": [
              "<Figure size 360x360 with 1 Axes>"
            ]
          },
          "metadata": {
            "tags": [],
            "needs_background": "light"
          }
        }
      ]
    },
    {
      "cell_type": "code",
      "metadata": {
        "colab": {
          "base_uri": "https://localhost:8080/",
          "height": 0
        },
        "id": "UGmlcuIihqSO",
        "outputId": "95066288-8d52-4ec7-ad1b-70f317f9f5d7"
      },
      "source": [
        "#Survival probility as per familysize\n",
        "sns.catplot(x='FamilySize',y='Survived',data=titanic,kind='bar',hue='Sex')"
      ],
      "execution_count": 49,
      "outputs": [
        {
          "output_type": "execute_result",
          "data": {
            "text/plain": [
              "<seaborn.axisgrid.FacetGrid at 0x7f3e7c74f550>"
            ]
          },
          "metadata": {
            "tags": []
          },
          "execution_count": 49
        },
        {
          "output_type": "display_data",
          "data": {
            "image/png": "[encoded data removed]",
            "text/plain": [
              "<Figure size 406.6x360 with 1 Axes>"
            ]
          },
          "metadata": {
            "tags": [],
            "needs_background": "light"
          }
        }
      ]
    },
    {
      "cell_type": "code",
      "metadata": {
        "colab": {
          "base_uri": "https://localhost:8080/",
          "height": 0
        },
        "id": "XxssFGGqhqSO",
        "outputId": "faaf253f-87d6-4398-cca2-902bbec102fd"
      },
      "source": [
        "sns.catplot(x='FamilySize',y='Survived',data=titanic,kind='bar',hue='Pclass')"
      ],
      "execution_count": 50,
      "outputs": [
        {
          "output_type": "execute_result",
          "data": {
            "text/plain": [
              "<seaborn.axisgrid.FacetGrid at 0x7f3e7c3fddd0>"
            ]
          },
          "metadata": {
            "tags": []
          },
          "execution_count": 50
        },
        {
          "output_type": "display_data",
          "data": {
            "image/png": "[encoded data removed]",
            "text/plain": [
              "<Figure size 406.6x360 with 1 Axes>"
            ]
          },
          "metadata": {
            "tags": [],
            "needs_background": "light"
          }
        }
      ]
    },
    {
      "cell_type": "markdown",
      "metadata": {
        "id": "ebIiwLQ1hqSO"
      },
      "source": [
        "# FEATURE SELECTION"
      ]
    },
    {
      "cell_type": "code",
      "metadata": {
        "colab": {
          "base_uri": "https://localhost:8080/",
          "height": 0
        },
        "id": "4h11RCw6hqSP",
        "outputId": "c22ceae2-5560-438c-dc10-dac95dd3562d"
      },
      "source": [
        "#Ticket  does not matter to Survivel of Passengers \n",
        "#let drop it\n",
        "titanic=titanic.drop(['Ticket'],1)\n",
        "titanic.head()"
      ],
      "execution_count": 51,
      "outputs": [
        {
          "output_type": "execute_result",
          "data": {
            "text/html": [
              "<div>\n",
              "<style scoped>\n",
              "    .dataframe tbody tr th:only-of-type {\n",
              "        vertical-align: middle;\n",
              "    }\n",
              "\n",
              "    .dataframe tbody tr th {\n",
              "        vertical-align: top;\n",
              "    }\n",
              "\n",
              "    .dataframe thead th {\n",
              "        text-align: right;\n",
              "    }\n",
              "</style>\n",
              "<table border=\"1\" class=\"dataframe\">\n",
              "  <thead>\n",
              "    <tr style=\"text-align: right;\">\n",
              "      <th></th>\n",
              "      <th>Survived</th>\n",
              "      <th>Pclass</th>\n",
              "      <th>Sex</th>\n",
              "      <th>Age</th>\n",
              "      <th>Fare</th>\n",
              "      <th>Cabin</th>\n",
              "      <th>Embarked</th>\n",
              "      <th>Title</th>\n",
              "      <th>FamilySize</th>\n",
              "    </tr>\n",
              "  </thead>\n",
              "  <tbody>\n",
              "    <tr>\n",
              "      <th>0</th>\n",
              "      <td>0</td>\n",
              "      <td>3</td>\n",
              "      <td>0</td>\n",
              "      <td>2.00</td>\n",
              "      <td>1.00</td>\n",
              "      <td>NaN</td>\n",
              "      <td>S</td>\n",
              "      <td>Mr</td>\n",
              "      <td>2</td>\n",
              "    </tr>\n",
              "    <tr>\n",
              "      <th>1</th>\n",
              "      <td>1</td>\n",
              "      <td>1</td>\n",
              "      <td>1</td>\n",
              "      <td>3.00</td>\n",
              "      <td>1.00</td>\n",
              "      <td>C85</td>\n",
              "      <td>C</td>\n",
              "      <td>Mrs</td>\n",
              "      <td>2</td>\n",
              "    </tr>\n",
              "    <tr>\n",
              "      <th>2</th>\n",
              "      <td>1</td>\n",
              "      <td>3</td>\n",
              "      <td>1</td>\n",
              "      <td>2.00</td>\n",
              "      <td>1.00</td>\n",
              "      <td>NaN</td>\n",
              "      <td>S</td>\n",
              "      <td>Miss</td>\n",
              "      <td>1</td>\n",
              "    </tr>\n",
              "    <tr>\n",
              "      <th>3</th>\n",
              "      <td>1</td>\n",
              "      <td>1</td>\n",
              "      <td>1</td>\n",
              "      <td>3.00</td>\n",
              "      <td>1.00</td>\n",
              "      <td>C123</td>\n",
              "      <td>S</td>\n",
              "      <td>Mrs</td>\n",
              "      <td>2</td>\n",
              "    </tr>\n",
              "    <tr>\n",
              "      <th>4</th>\n",
              "      <td>0</td>\n",
              "      <td>3</td>\n",
              "      <td>0</td>\n",
              "      <td>3.00</td>\n",
              "      <td>1.00</td>\n",
              "      <td>NaN</td>\n",
              "      <td>S</td>\n",
              "      <td>Mr</td>\n",
              "      <td>1</td>\n",
              "    </tr>\n",
              "  </tbody>\n",
              "</table>\n",
              "</div>"
            ],
            "text/plain": [
              "   Survived  Pclass  Sex  Age  Fare Cabin Embarked Title  FamilySize\n",
              "0         0       3    0 2.00  1.00   NaN        S    Mr           2\n",
              "1         1       1    1 3.00  1.00   C85        C   Mrs           2\n",
              "2         1       3    1 2.00  1.00   NaN        S  Miss           1\n",
              "3         1       1    1 3.00  1.00  C123        S   Mrs           2\n",
              "4         0       3    0 3.00  1.00   NaN        S    Mr           1"
            ]
          },
          "metadata": {
            "tags": []
          },
          "execution_count": 51
        }
      ]
    },
    {
      "cell_type": "markdown",
      "metadata": {
        "id": "8ZnqK7tMhqSP"
      },
      "source": [
        "# Cabin"
      ]
    },
    {
      "cell_type": "code",
      "metadata": {
        "id": "l_bL6pkEhqSQ"
      },
      "source": [
        "#This feature is to hard to find is it usefull for use or not? So, Let's do some oprations and find the meaningfull data"
      ],
      "execution_count": 52,
      "outputs": []
    },
    {
      "cell_type": "code",
      "metadata": {
        "colab": {
          "base_uri": "https://localhost:8080/"
        },
        "id": "RcK08IhqhqSQ",
        "outputId": "1eabb4b6-f875-4df8-f024-4836c4155e17"
      },
      "source": [
        "titanic['Cabin'].isnull().sum()"
      ],
      "execution_count": 53,
      "outputs": [
        {
          "output_type": "execute_result",
          "data": {
            "text/plain": [
              "687"
            ]
          },
          "metadata": {
            "tags": []
          },
          "execution_count": 53
        }
      ]
    },
    {
      "cell_type": "code",
      "metadata": {
        "colab": {
          "base_uri": "https://localhost:8080/"
        },
        "id": "nx6ezq0VhqSQ",
        "outputId": "4c325b70-12da-40ee-df80-923206b42c9d"
      },
      "source": [
        "titanic['Cabin'].unique()"
      ],
      "execution_count": 54,
      "outputs": [
        {
          "output_type": "execute_result",
          "data": {
            "text/plain": [
              "array([nan, 'C85', 'C123', 'E46', 'G6', 'C103', 'D56', 'A6',\n",
              "       'C23 C25 C27', 'B78', 'D33', 'B30', 'C52', 'B28', 'C83', 'F33',\n",
              "       'F G73', 'E31', 'A5', 'D10 D12', 'D26', 'C110', 'B58 B60', 'E101',\n",
              "       'F E69', 'D47', 'B86', 'F2', 'C2', 'E33', 'B19', 'A7', 'C49', 'F4',\n",
              "       'A32', 'B4', 'B80', 'A31', 'D36', 'D15', 'C93', 'C78', 'D35',\n",
              "       'C87', 'B77', 'E67', 'B94', 'C125', 'C99', 'C118', 'D7', 'A19',\n",
              "       'B49', 'D', 'C22 C26', 'C106', 'C65', 'E36', 'C54',\n",
              "       'B57 B59 B63 B66', 'C7', 'E34', 'C32', 'B18', 'C124', 'C91', 'E40',\n",
              "       'T', 'C128', 'D37', 'B35', 'E50', 'C82', 'B96 B98', 'E10', 'E44',\n",
              "       'A34', 'C104', 'C111', 'C92', 'E38', 'D21', 'E12', 'E63', 'A14',\n",
              "       'B37', 'C30', 'D20', 'B79', 'E25', 'D46', 'B73', 'C95', 'B38',\n",
              "       'B39', 'B22', 'C86', 'C70', 'A16', 'C101', 'C68', 'A10', 'E68',\n",
              "       'B41', 'A20', 'D19', 'D50', 'D9', 'A23', 'B50', 'A26', 'D48',\n",
              "       'E58', 'C126', 'B71', 'B51 B53 B55', 'D49', 'B5', 'B20', 'F G63',\n",
              "       'C62 C64', 'E24', 'C90', 'C45', 'E8', 'B101', 'D45', 'C46', 'D30',\n",
              "       'E121', 'D11', 'E77', 'F38', 'B3', 'D6', 'B82 B84', 'D17', 'A36',\n",
              "       'B102', 'B69', 'E49', 'C47', 'D28', 'E17', 'A24', 'C50', 'B42',\n",
              "       'C148'], dtype=object)"
            ]
          },
          "metadata": {
            "tags": []
          },
          "execution_count": 54
        }
      ]
    },
    {
      "cell_type": "code",
      "metadata": {
        "id": "lqhj1rvMhqSR"
      },
      "source": [
        "#Filling missing datas as  \"Z\"\n",
        "titanic['Cabin']=titanic['Cabin'].fillna('Z')\n",
        "\n",
        "#take first character \n",
        "titanic['Cabin']=titanic['Cabin'].astype(str).str[0]"
      ],
      "execution_count": 55,
      "outputs": []
    },
    {
      "cell_type": "code",
      "metadata": {
        "colab": {
          "base_uri": "https://localhost:8080/"
        },
        "id": "-IPuatqshqSR",
        "outputId": "f843f953-7897-4e51-8b2a-6666609abb05"
      },
      "source": [
        "titanic.Cabin.unique()"
      ],
      "execution_count": 56,
      "outputs": [
        {
          "output_type": "execute_result",
          "data": {
            "text/plain": [
              "array(['Z', 'C', 'E', 'G', 'D', 'A', 'B', 'F', 'T'], dtype=object)"
            ]
          },
          "metadata": {
            "tags": []
          },
          "execution_count": 56
        }
      ]
    },
    {
      "cell_type": "code",
      "metadata": {
        "colab": {
          "base_uri": "https://localhost:8080/",
          "height": 0
        },
        "id": "wVbSxaWohqSS",
        "outputId": "371b2701-3c89-42ba-d5f8-cab0a3d17133"
      },
      "source": [
        "#survival based on Cabin\n",
        "sns.catplot(x='Cabin',y='Survived',data=titanic,kind='bar')"
      ],
      "execution_count": 57,
      "outputs": [
        {
          "output_type": "execute_result",
          "data": {
            "text/plain": [
              "<seaborn.axisgrid.FacetGrid at 0x7f3e7c2912d0>"
            ]
          },
          "metadata": {
            "tags": []
          },
          "execution_count": 57
        },
        {
          "output_type": "display_data",
          "data": {
            "image/png": "[encoded data removed]",
            "text/plain": [
              "<Figure size 360x360 with 1 Axes>"
            ]
          },
          "metadata": {
            "tags": [],
            "needs_background": "light"
          }
        }
      ]
    },
    {
      "cell_type": "code",
      "metadata": {
        "colab": {
          "base_uri": "https://localhost:8080/",
          "height": 0
        },
        "id": "lq5ZH_trhqSS",
        "outputId": "ca12b636-3dfc-426e-a339-7d0b87d40b78"
      },
      "source": [
        "#survival based on Cabin and Sex\n",
        "sns.catplot(x='Cabin',y='Survived',data=titanic,col='Sex',kind='bar')"
      ],
      "execution_count": 58,
      "outputs": [
        {
          "output_type": "execute_result",
          "data": {
            "text/plain": [
              "<seaborn.axisgrid.FacetGrid at 0x7f3e7c2c1190>"
            ]
          },
          "metadata": {
            "tags": []
          },
          "execution_count": 58
        },
        {
          "output_type": "display_data",
          "data": {
            "image/png": "[encoded data removed]",
            "text/plain": [
              "<Figure size 720x360 with 2 Axes>"
            ]
          },
          "metadata": {
            "tags": [],
            "needs_background": "light"
          }
        }
      ]
    },
    {
      "cell_type": "code",
      "metadata": {
        "colab": {
          "base_uri": "https://localhost:8080/",
          "height": 0
        },
        "id": "vrGALT8MhqSS",
        "outputId": "c9e52409-486e-4a49-eea1-374224ec5b94"
      },
      "source": [
        "#survival based on Cabin  and Pclass\n",
        "sns.catplot(x='Cabin',y='Survived',data=titanic,col='Pclass',kind='bar')"
      ],
      "execution_count": 59,
      "outputs": [
        {
          "output_type": "execute_result",
          "data": {
            "text/plain": [
              "<seaborn.axisgrid.FacetGrid at 0x7f3e7c105e50>"
            ]
          },
          "metadata": {
            "tags": []
          },
          "execution_count": 59
        },
        {
          "output_type": "display_data",
          "data": {
            "image/png": "[encoded data removed]",
            "text/plain": [
              "<Figure size 1080x360 with 3 Axes>"
            ]
          },
          "metadata": {
            "tags": [],
            "needs_background": "light"
          }
        }
      ]
    },
    {
      "cell_type": "code",
      "metadata": {
        "colab": {
          "base_uri": "https://localhost:8080/",
          "height": 0
        },
        "id": "gN3V_oJshqST",
        "outputId": "1099e7dc-c296-484c-e929-793a64bc45c2"
      },
      "source": [
        "#survival based on Cabin, Pclass and Sex\n",
        "sns.catplot(x='Cabin',y='Survived',data=titanic,col='Pclass',row='Sex',kind='bar')"
      ],
      "execution_count": 60,
      "outputs": [
        {
          "output_type": "execute_result",
          "data": {
            "text/plain": [
              "<seaborn.axisgrid.FacetGrid at 0x7f3e7c276290>"
            ]
          },
          "metadata": {
            "tags": []
          },
          "execution_count": 60
        },
        {
          "output_type": "display_data",
          "data": {
            "image/png": "[encoded data removed]",
            "text/plain": [
              "<Figure size 1080x720 with 6 Axes>"
            ]
          },
          "metadata": {
            "tags": [],
            "needs_background": "light"
          }
        }
      ]
    },
    {
      "cell_type": "code",
      "metadata": {
        "id": "i6-jELPphqST"
      },
      "source": [
        "#after preprocessing the Cabin feature we having lot of null values,and it hard to handle them\n",
        "#So, dropping would be a vital solution\n"
      ],
      "execution_count": 61,
      "outputs": []
    },
    {
      "cell_type": "code",
      "metadata": {
        "colab": {
          "base_uri": "https://localhost:8080/",
          "height": 0
        },
        "id": "XSMIWNEzhqST",
        "outputId": "70281cef-e4aa-4db9-8eef-298e03da9ca5"
      },
      "source": [
        "titanic=titanic.drop(['Cabin'],1)\n",
        "titanic.head()"
      ],
      "execution_count": 62,
      "outputs": [
        {
          "output_type": "execute_result",
          "data": {
            "text/html": [
              "<div>\n",
              "<style scoped>\n",
              "    .dataframe tbody tr th:only-of-type {\n",
              "        vertical-align: middle;\n",
              "    }\n",
              "\n",
              "    .dataframe tbody tr th {\n",
              "        vertical-align: top;\n",
              "    }\n",
              "\n",
              "    .dataframe thead th {\n",
              "        text-align: right;\n",
              "    }\n",
              "</style>\n",
              "<table border=\"1\" class=\"dataframe\">\n",
              "  <thead>\n",
              "    <tr style=\"text-align: right;\">\n",
              "      <th></th>\n",
              "      <th>Survived</th>\n",
              "      <th>Pclass</th>\n",
              "      <th>Sex</th>\n",
              "      <th>Age</th>\n",
              "      <th>Fare</th>\n",
              "      <th>Embarked</th>\n",
              "      <th>Title</th>\n",
              "      <th>FamilySize</th>\n",
              "    </tr>\n",
              "  </thead>\n",
              "  <tbody>\n",
              "    <tr>\n",
              "      <th>0</th>\n",
              "      <td>0</td>\n",
              "      <td>3</td>\n",
              "      <td>0</td>\n",
              "      <td>2.00</td>\n",
              "      <td>1.00</td>\n",
              "      <td>S</td>\n",
              "      <td>Mr</td>\n",
              "      <td>2</td>\n",
              "    </tr>\n",
              "    <tr>\n",
              "      <th>1</th>\n",
              "      <td>1</td>\n",
              "      <td>1</td>\n",
              "      <td>1</td>\n",
              "      <td>3.00</td>\n",
              "      <td>1.00</td>\n",
              "      <td>C</td>\n",
              "      <td>Mrs</td>\n",
              "      <td>2</td>\n",
              "    </tr>\n",
              "    <tr>\n",
              "      <th>2</th>\n",
              "      <td>1</td>\n",
              "      <td>3</td>\n",
              "      <td>1</td>\n",
              "      <td>2.00</td>\n",
              "      <td>1.00</td>\n",
              "      <td>S</td>\n",
              "      <td>Miss</td>\n",
              "      <td>1</td>\n",
              "    </tr>\n",
              "    <tr>\n",
              "      <th>3</th>\n",
              "      <td>1</td>\n",
              "      <td>1</td>\n",
              "      <td>1</td>\n",
              "      <td>3.00</td>\n",
              "      <td>1.00</td>\n",
              "      <td>S</td>\n",
              "      <td>Mrs</td>\n",
              "      <td>2</td>\n",
              "    </tr>\n",
              "    <tr>\n",
              "      <th>4</th>\n",
              "      <td>0</td>\n",
              "      <td>3</td>\n",
              "      <td>0</td>\n",
              "      <td>3.00</td>\n",
              "      <td>1.00</td>\n",
              "      <td>S</td>\n",
              "      <td>Mr</td>\n",
              "      <td>1</td>\n",
              "    </tr>\n",
              "  </tbody>\n",
              "</table>\n",
              "</div>"
            ],
            "text/plain": [
              "   Survived  Pclass  Sex  Age  Fare Embarked Title  FamilySize\n",
              "0         0       3    0 2.00  1.00        S    Mr           2\n",
              "1         1       1    1 3.00  1.00        C   Mrs           2\n",
              "2         1       3    1 2.00  1.00        S  Miss           1\n",
              "3         1       1    1 3.00  1.00        S   Mrs           2\n",
              "4         0       3    0 3.00  1.00        S    Mr           1"
            ]
          },
          "metadata": {
            "tags": []
          },
          "execution_count": 62
        }
      ]
    },
    {
      "cell_type": "markdown",
      "metadata": {
        "id": "t06hf6n5hqSU"
      },
      "source": [
        "# Embarked"
      ]
    },
    {
      "cell_type": "code",
      "metadata": {
        "colab": {
          "base_uri": "https://localhost:8080/"
        },
        "id": "-X3iVs06hqSU",
        "outputId": "4e20d9d2-5f20-42cd-b020-2d4a42a78ce2"
      },
      "source": [
        "print(titanic['Embarked'].unique())\n",
        "print(titanic['Embarked'].isnull().sum())"
      ],
      "execution_count": 63,
      "outputs": [
        {
          "output_type": "stream",
          "text": [
            "['S' 'C' 'Q' nan]\n",
            "2\n"
          ],
          "name": "stdout"
        }
      ]
    },
    {
      "cell_type": "code",
      "metadata": {
        "colab": {
          "base_uri": "https://localhost:8080/"
        },
        "id": "QOLd02-LhqSV",
        "outputId": "772f27cf-f35c-4b41-b662-70153a729c51"
      },
      "source": [
        "# We having only  2 missing values, so let's replace it with most frequent value\n",
        "\n",
        "titanic['Embarked']=titanic['Embarked'].fillna(titanic['Embarked'].value_counts().index[0]) \n",
        "print(titanic['Embarked'].unique())"
      ],
      "execution_count": 64,
      "outputs": [
        {
          "output_type": "stream",
          "text": [
            "['S' 'C' 'Q']\n"
          ],
          "name": "stdout"
        }
      ]
    },
    {
      "cell_type": "code",
      "metadata": {
        "colab": {
          "base_uri": "https://localhost:8080/",
          "height": 404
        },
        "id": "cD3KBkX7hqSV",
        "outputId": "e908bdb3-475a-4b12-abb8-71afeacb12b9"
      },
      "source": [
        "#relation betweeen Embarked and Survived\n",
        "sns.catplot(x='Embarked',y='Survived',data=titanic,kind='bar')"
      ],
      "execution_count": 65,
      "outputs": [
        {
          "output_type": "execute_result",
          "data": {
            "text/plain": [
              "<seaborn.axisgrid.FacetGrid at 0x7f3e7bd1e510>"
            ]
          },
          "metadata": {
            "tags": []
          },
          "execution_count": 65
        },
        {
          "output_type": "display_data",
          "data": {
            "image/png": "[encoded data removed]",
            "text/plain": [
              "<Figure size 360x360 with 1 Axes>"
            ]
          },
          "metadata": {
            "tags": [],
            "needs_background": "light"
          }
        }
      ]
    },
    {
      "cell_type": "markdown",
      "metadata": {
        "id": "yCCsPhTghqSW"
      },
      "source": [
        "# Statistical Analysis On Numerical Columns"
      ]
    },
    {
      "cell_type": "code",
      "metadata": {
        "colab": {
          "base_uri": "https://localhost:8080/",
          "height": 616
        },
        "id": "U2pnNzrMhqSW",
        "outputId": "8d1d7d5a-dafb-443b-c19b-a8687f10b30c"
      },
      "source": [
        "# Correlation between variable using correlation plot.\n",
        "plt.figure(figsize=(10,10))\n",
        "sns.heatmap(titanic.corr(), annot=True,cmap=\"RdYlGn\")\n"
      ],
      "execution_count": 66,
      "outputs": [
        {
          "output_type": "execute_result",
          "data": {
            "text/plain": [
              "<matplotlib.axes._subplots.AxesSubplot at 0x7f3e7c2ab810>"
            ]
          },
          "metadata": {
            "tags": []
          },
          "execution_count": 66
        },
        {
          "output_type": "display_data",
          "data": {
            "image/png": "[encoded data removed]",
            "text/plain": [
              "<Figure size 720x720 with 2 Axes>"
            ]
          },
          "metadata": {
            "tags": [],
            "needs_background": "light"
          }
        }
      ]
    },
    {
      "cell_type": "markdown",
      "metadata": {
        "id": "xzgp-HE0hqSX"
      },
      "source": [
        "# Label Encoding"
      ]
    },
    {
      "cell_type": "code",
      "metadata": {
        "colab": {
          "base_uri": "https://localhost:8080/",
          "height": 214
        },
        "id": "CxgxOaz1hqSX",
        "outputId": "dc07f6e8-1db3-49c9-b99d-3790e0ddce55"
      },
      "source": [
        "titanic=pd.get_dummies(columns=['Pclass','Sex','Embarked','Title','Age','Fare'],data=titanic)\n",
        "titanic.head()"
      ],
      "execution_count": 67,
      "outputs": [
        {
          "output_type": "execute_result",
          "data": {
            "text/html": [
              "<div>\n",
              "<style scoped>\n",
              "    .dataframe tbody tr th:only-of-type {\n",
              "        vertical-align: middle;\n",
              "    }\n",
              "\n",
              "    .dataframe tbody tr th {\n",
              "        vertical-align: top;\n",
              "    }\n",
              "\n",
              "    .dataframe thead th {\n",
              "        text-align: right;\n",
              "    }\n",
              "</style>\n",
              "<table border=\"1\" class=\"dataframe\">\n",
              "  <thead>\n",
              "    <tr style=\"text-align: right;\">\n",
              "      <th></th>\n",
              "      <th>Survived</th>\n",
              "      <th>FamilySize</th>\n",
              "      <th>Pclass_1</th>\n",
              "      <th>Pclass_2</th>\n",
              "      <th>Pclass_3</th>\n",
              "      <th>Sex_0</th>\n",
              "      <th>Sex_1</th>\n",
              "      <th>Embarked_C</th>\n",
              "      <th>Embarked_Q</th>\n",
              "      <th>Embarked_S</th>\n",
              "      <th>Title_Capt</th>\n",
              "      <th>Title_Col</th>\n",
              "      <th>Title_Countess</th>\n",
              "      <th>Title_Don</th>\n",
              "      <th>Title_Dr</th>\n",
              "      <th>Title_Jonkheer</th>\n",
              "      <th>Title_Lady</th>\n",
              "      <th>Title_Major</th>\n",
              "      <th>Title_Master</th>\n",
              "      <th>Title_Miss</th>\n",
              "      <th>Title_Mlle</th>\n",
              "      <th>Title_Mme</th>\n",
              "      <th>Title_Mr</th>\n",
              "      <th>Title_Mrs</th>\n",
              "      <th>Title_Ms</th>\n",
              "      <th>Title_Rev</th>\n",
              "      <th>Title_Sir</th>\n",
              "      <th>Age_1.0</th>\n",
              "      <th>Age_2.0</th>\n",
              "      <th>Age_3.0</th>\n",
              "      <th>Age_4.0</th>\n",
              "      <th>Age_5.0</th>\n",
              "      <th>Fare_1.0</th>\n",
              "      <th>Fare_2.0</th>\n",
              "      <th>Fare_3.0</th>\n",
              "    </tr>\n",
              "  </thead>\n",
              "  <tbody>\n",
              "    <tr>\n",
              "      <th>0</th>\n",
              "      <td>0</td>\n",
              "      <td>2</td>\n",
              "      <td>0</td>\n",
              "      <td>0</td>\n",
              "      <td>1</td>\n",
              "      <td>1</td>\n",
              "      <td>0</td>\n",
              "      <td>0</td>\n",
              "      <td>0</td>\n",
              "      <td>1</td>\n",
              "      <td>0</td>\n",
              "      <td>0</td>\n",
              "      <td>0</td>\n",
              "      <td>0</td>\n",
              "      <td>0</td>\n",
              "      <td>0</td>\n",
              "      <td>0</td>\n",
              "      <td>0</td>\n",
              "      <td>0</td>\n",
              "      <td>0</td>\n",
              "      <td>0</td>\n",
              "      <td>0</td>\n",
              "      <td>1</td>\n",
              "      <td>0</td>\n",
              "      <td>0</td>\n",
              "      <td>0</td>\n",
              "      <td>0</td>\n",
              "      <td>0</td>\n",
              "      <td>1</td>\n",
              "      <td>0</td>\n",
              "      <td>0</td>\n",
              "      <td>0</td>\n",
              "      <td>1</td>\n",
              "      <td>0</td>\n",
              "      <td>0</td>\n",
              "    </tr>\n",
              "    <tr>\n",
              "      <th>1</th>\n",
              "      <td>1</td>\n",
              "      <td>2</td>\n",
              "      <td>1</td>\n",
              "      <td>0</td>\n",
              "      <td>0</td>\n",
              "      <td>0</td>\n",
              "      <td>1</td>\n",
              "      <td>1</td>\n",
              "      <td>0</td>\n",
              "      <td>0</td>\n",
              "      <td>0</td>\n",
              "      <td>0</td>\n",
              "      <td>0</td>\n",
              "      <td>0</td>\n",
              "      <td>0</td>\n",
              "      <td>0</td>\n",
              "      <td>0</td>\n",
              "      <td>0</td>\n",
              "      <td>0</td>\n",
              "      <td>0</td>\n",
              "      <td>0</td>\n",
              "      <td>0</td>\n",
              "      <td>0</td>\n",
              "      <td>1</td>\n",
              "      <td>0</td>\n",
              "      <td>0</td>\n",
              "      <td>0</td>\n",
              "      <td>0</td>\n",
              "      <td>0</td>\n",
              "      <td>1</td>\n",
              "      <td>0</td>\n",
              "      <td>0</td>\n",
              "      <td>1</td>\n",
              "      <td>0</td>\n",
              "      <td>0</td>\n",
              "    </tr>\n",
              "    <tr>\n",
              "      <th>2</th>\n",
              "      <td>1</td>\n",
              "      <td>1</td>\n",
              "      <td>0</td>\n",
              "      <td>0</td>\n",
              "      <td>1</td>\n",
              "      <td>0</td>\n",
              "      <td>1</td>\n",
              "      <td>0</td>\n",
              "      <td>0</td>\n",
              "      <td>1</td>\n",
              "      <td>0</td>\n",
              "      <td>0</td>\n",
              "      <td>0</td>\n",
              "      <td>0</td>\n",
              "      <td>0</td>\n",
              "      <td>0</td>\n",
              "      <td>0</td>\n",
              "      <td>0</td>\n",
              "      <td>0</td>\n",
              "      <td>1</td>\n",
              "      <td>0</td>\n",
              "      <td>0</td>\n",
              "      <td>0</td>\n",
              "      <td>0</td>\n",
              "      <td>0</td>\n",
              "      <td>0</td>\n",
              "      <td>0</td>\n",
              "      <td>0</td>\n",
              "      <td>1</td>\n",
              "      <td>0</td>\n",
              "      <td>0</td>\n",
              "      <td>0</td>\n",
              "      <td>1</td>\n",
              "      <td>0</td>\n",
              "      <td>0</td>\n",
              "    </tr>\n",
              "    <tr>\n",
              "      <th>3</th>\n",
              "      <td>1</td>\n",
              "      <td>2</td>\n",
              "      <td>1</td>\n",
              "      <td>0</td>\n",
              "      <td>0</td>\n",
              "      <td>0</td>\n",
              "      <td>1</td>\n",
              "      <td>0</td>\n",
              "      <td>0</td>\n",
              "      <td>1</td>\n",
              "      <td>0</td>\n",
              "      <td>0</td>\n",
              "      <td>0</td>\n",
              "      <td>0</td>\n",
              "      <td>0</td>\n",
              "      <td>0</td>\n",
              "      <td>0</td>\n",
              "      <td>0</td>\n",
              "      <td>0</td>\n",
              "      <td>0</td>\n",
              "      <td>0</td>\n",
              "      <td>0</td>\n",
              "      <td>0</td>\n",
              "      <td>1</td>\n",
              "      <td>0</td>\n",
              "      <td>0</td>\n",
              "      <td>0</td>\n",
              "      <td>0</td>\n",
              "      <td>0</td>\n",
              "      <td>1</td>\n",
              "      <td>0</td>\n",
              "      <td>0</td>\n",
              "      <td>1</td>\n",
              "      <td>0</td>\n",
              "      <td>0</td>\n",
              "    </tr>\n",
              "    <tr>\n",
              "      <th>4</th>\n",
              "      <td>0</td>\n",
              "      <td>1</td>\n",
              "      <td>0</td>\n",
              "      <td>0</td>\n",
              "      <td>1</td>\n",
              "      <td>1</td>\n",
              "      <td>0</td>\n",
              "      <td>0</td>\n",
              "      <td>0</td>\n",
              "      <td>1</td>\n",
              "      <td>0</td>\n",
              "      <td>0</td>\n",
              "      <td>0</td>\n",
              "      <td>0</td>\n",
              "      <td>0</td>\n",
              "      <td>0</td>\n",
              "      <td>0</td>\n",
              "      <td>0</td>\n",
              "      <td>0</td>\n",
              "      <td>0</td>\n",
              "      <td>0</td>\n",
              "      <td>0</td>\n",
              "      <td>1</td>\n",
              "      <td>0</td>\n",
              "      <td>0</td>\n",
              "      <td>0</td>\n",
              "      <td>0</td>\n",
              "      <td>0</td>\n",
              "      <td>0</td>\n",
              "      <td>1</td>\n",
              "      <td>0</td>\n",
              "      <td>0</td>\n",
              "      <td>1</td>\n",
              "      <td>0</td>\n",
              "      <td>0</td>\n",
              "    </tr>\n",
              "  </tbody>\n",
              "</table>\n",
              "</div>"
            ],
            "text/plain": [
              "   Survived  FamilySize  Pclass_1  ...  Fare_1.0  Fare_2.0  Fare_3.0\n",
              "0         0           2         0  ...         1         0         0\n",
              "1         1           2         1  ...         1         0         0\n",
              "2         1           1         0  ...         1         0         0\n",
              "3         1           2         1  ...         1         0         0\n",
              "4         0           1         0  ...         1         0         0\n",
              "\n",
              "[5 rows x 35 columns]"
            ]
          },
          "metadata": {
            "tags": []
          },
          "execution_count": 67
        }
      ]
    },
    {
      "cell_type": "markdown",
      "metadata": {
        "id": "MDIipuhmhqSY"
      },
      "source": [
        "# Process 6: Feature Scaling  Standardization Of Data "
      ]
    },
    {
      "cell_type": "code",
      "metadata": {
        "colab": {
          "base_uri": "https://localhost:8080/"
        },
        "id": "CLyP6lLRhqSY",
        "outputId": "d74e7c62-34c5-4a52-e7d1-16824dc85c06"
      },
      "source": [
        "from sklearn.preprocessing import StandardScaler\n",
        "scaler=StandardScaler()\n",
        "from sklearn.model_selection import train_test_split\n",
        "\n",
        "\n",
        "X = titanic.drop(['Survived'],axis=1)\n",
        "y = titanic['Survived']\n",
        "\n",
        "\n",
        "X_train, X_test, y_train, y_test = train_test_split(X, y,test_size=.20,random_state =123)\n",
        "scaler.fit(X_train)\n",
        "X_train=scaler.transform(X_train)\n",
        "X_train"
      ],
      "execution_count": 68,
      "outputs": [
        {
          "output_type": "execute_result",
          "data": {
            "text/plain": [
              "array([[ 0.07728104,  1.81360322, -0.51444498, ...,  0.16104844,\n",
              "        -0.1466997 , -0.06504853],\n",
              "       [-0.54799284, -0.55138852, -0.51444498, ...,  0.16104844,\n",
              "        -0.1466997 , -0.06504853],\n",
              "       [-0.54799284, -0.55138852, -0.51444498, ...,  0.16104844,\n",
              "        -0.1466997 , -0.06504853],\n",
              "       ...,\n",
              "       [-0.54799284, -0.55138852, -0.51444498, ...,  0.16104844,\n",
              "        -0.1466997 , -0.06504853],\n",
              "       [-0.54799284, -0.55138852, -0.51444498, ...,  0.16104844,\n",
              "        -0.1466997 , -0.06504853],\n",
              "       [-0.54799284, -0.55138852, -0.51444498, ...,  0.16104844,\n",
              "        -0.1466997 , -0.06504853]])"
            ]
          },
          "metadata": {
            "tags": []
          },
          "execution_count": 68
        }
      ]
    },
    {
      "cell_type": "code",
      "metadata": {
        "colab": {
          "base_uri": "https://localhost:8080/"
        },
        "id": "KAuIPj0ihqSY",
        "outputId": "4368ab4a-0ec0-455f-a707-9f48035acafb"
      },
      "source": [
        "X_test=scaler.transform(X_test)\n",
        "X_test"
      ],
      "execution_count": 69,
      "outputs": [
        {
          "output_type": "execute_result",
          "data": {
            "text/plain": [
              "array([[ 0.70255492, -0.55138852, -0.51444498, ...,  0.16104844,\n",
              "        -0.1466997 , -0.06504853],\n",
              "       [-0.54799284, -0.55138852, -0.51444498, ...,  0.16104844,\n",
              "        -0.1466997 , -0.06504853],\n",
              "       [-0.54799284,  1.81360322, -0.51444498, ...,  0.16104844,\n",
              "        -0.1466997 , -0.06504853],\n",
              "       ...,\n",
              "       [ 0.70255492, -0.55138852,  1.94384246, ...,  0.16104844,\n",
              "        -0.1466997 , -0.06504853],\n",
              "       [-0.54799284, -0.55138852, -0.51444498, ...,  0.16104844,\n",
              "        -0.1466997 , -0.06504853],\n",
              "       [-0.54799284, -0.55138852,  1.94384246, ...,  0.16104844,\n",
              "        -0.1466997 , -0.06504853]])"
            ]
          },
          "metadata": {
            "tags": []
          },
          "execution_count": 69
        }
      ]
    },
    {
      "cell_type": "markdown",
      "metadata": {
        "id": "coeI8neFhqSZ"
      },
      "source": [
        "# Process 7: Model Building"
      ]
    },
    {
      "cell_type": "code",
      "metadata": {
        "colab": {
          "base_uri": "https://localhost:8080/"
        },
        "id": "2fUhRqaVhqSZ",
        "outputId": "70f3625d-137d-49be-fa63-95713ab18e9c"
      },
      "source": [
        "from sklearn.model_selection import train_test_split\n",
        "\n",
        "#assign train and test datas\n",
        "X = titanic.drop(['Survived'],axis=1)\n",
        "y = titanic['Survived']\n",
        "\n",
        "#split the data into train and test\n",
        "X_train, X_test, y_train, y_test = train_test_split(X, y,test_size=.20,random_state =123)\n",
        "\n",
        "#apply Logistic Regression model \n",
        "from sklearn.linear_model import LogisticRegression\n",
        "lr=LogisticRegression(C=0.01)\n",
        "lr.fit(X_train,y_train)\n",
        "print('Logistic Regression Train Score :',lr.score(X_train,y_train))\n",
        "print('Logistic Regression Test Score :',lr.score(X_test,y_test))"
      ],
      "execution_count": 70,
      "outputs": [
        {
          "output_type": "stream",
          "text": [
            "Logistic Regression Train Score : 0.797752808988764\n",
            "Logistic Regression Test Score : 0.8324022346368715\n"
          ],
          "name": "stdout"
        }
      ]
    },
    {
      "cell_type": "code",
      "metadata": {
        "colab": {
          "base_uri": "https://localhost:8080/"
        },
        "id": "NMhS9dJ8hqSZ",
        "outputId": "d670d1ea-abe0-43d8-b875-3394c01b69c1"
      },
      "source": [
        "#predict the test data\n",
        "y_predict_lr=lr.predict(X_test)\n",
        "\n",
        "print('y Predict: ',y_predict_lr)"
      ],
      "execution_count": 71,
      "outputs": [
        {
          "output_type": "stream",
          "text": [
            "y Predict:  [1 0 0 0 0 0 1 1 1 0 1 1 1 0 1 1 1 0 0 0 0 1 0 0 0 0 0 1 0 0 1 1 0 0 0 0 0\n",
            " 0 1 0 1 0 1 1 0 0 1 0 0 1 1 0 0 0 0 0 0 0 0 0 1 1 0 1 0 0 0 0 0 1 1 0 0 0\n",
            " 0 0 0 0 1 1 1 0 0 0 0 0 1 0 0 0 1 0 0 0 0 0 1 1 0 1 0 0 0 1 0 0 0 0 0 1 0\n",
            " 0 1 0 0 0 0 0 0 0 0 0 0 0 0 0 0 0 1 0 1 0 0 1 1 0 1 1 0 1 0 0 0 0 1 0 0 0\n",
            " 0 1 0 0 1 0 1 0 1 1 1 1 1 0 0 1 0 1 1 0 1 0 0 0 0 0 0 0 0 0 0]\n"
          ],
          "name": "stdout"
        }
      ]
    },
    {
      "cell_type": "code",
      "metadata": {
        "colab": {
          "base_uri": "https://localhost:8080/",
          "height": 322
        },
        "id": "mTUpDE9HhqSZ",
        "outputId": "7cabc202-06d2-4383-f59e-2eafccf59db2"
      },
      "source": [
        "\n",
        "from sklearn.metrics import confusion_matrix\n",
        "cm_lr=confusion_matrix(y_test,y_predict_lr)\n",
        "print(cm_lr)\n",
        "sns.heatmap(cm_lr,center=True,annot=True)"
      ],
      "execution_count": 72,
      "outputs": [
        {
          "output_type": "stream",
          "text": [
            "[[103  11]\n",
            " [ 19  46]]\n"
          ],
          "name": "stdout"
        },
        {
          "output_type": "execute_result",
          "data": {
            "text/plain": [
              "<matplotlib.axes._subplots.AxesSubplot at 0x7f3e7c4b4b90>"
            ]
          },
          "metadata": {
            "tags": []
          },
          "execution_count": 72
        },
        {
          "output_type": "display_data",
          "data": {
            "image/png": "[encoded data removed]",
            "text/plain": [
              "<Figure size 432x288 with 2 Axes>"
            ]
          },
          "metadata": {
            "tags": [],
            "needs_background": "light"
          }
        }
      ]
    },
    {
      "cell_type": "code",
      "metadata": {
        "colab": {
          "base_uri": "https://localhost:8080/"
        },
        "id": "ayZ8MlkbhqSa",
        "outputId": "497f5566-763f-4178-c8b8-8cd83dcba340"
      },
      "source": [
        "#accuracy score\n",
        "from sklearn.metrics import accuracy_score\n",
        "acc_lr=accuracy_score(y_test,y_predict_lr)\n",
        "print(acc_lr)"
      ],
      "execution_count": 73,
      "outputs": [
        {
          "output_type": "stream",
          "text": [
            "0.8324022346368715\n"
          ],
          "name": "stdout"
        }
      ]
    },
    {
      "cell_type": "code",
      "metadata": {
        "colab": {
          "base_uri": "https://localhost:8080/"
        },
        "id": "iy61iO83hqSa",
        "outputId": "5d53cd85-659d-4bcf-a7dc-428b9feb8fcf"
      },
      "source": [
        "#classification report\n",
        "from sklearn.metrics import classification_report\n",
        "cr_lr=classification_report(y_test,y_predict_lr)\n",
        "print(cr_lr)"
      ],
      "execution_count": 74,
      "outputs": [
        {
          "output_type": "stream",
          "text": [
            "              precision    recall  f1-score   support\n",
            "\n",
            "           0       0.84      0.90      0.87       114\n",
            "           1       0.81      0.71      0.75        65\n",
            "\n",
            "    accuracy                           0.83       179\n",
            "   macro avg       0.83      0.81      0.81       179\n",
            "weighted avg       0.83      0.83      0.83       179\n",
            "\n"
          ],
          "name": "stdout"
        }
      ]
    },
    {
      "cell_type": "code",
      "metadata": {
        "colab": {
          "base_uri": "https://localhost:8080/",
          "height": 556
        },
        "id": "aXVHBduihqSb",
        "outputId": "34a63d0b-5a81-4966-d00c-3dfb026c5fb7"
      },
      "source": [
        "from sklearn.metrics import roc_curve,auc\n",
        "lr_tpr,lr_fpr,threshold=roc_curve(y_test,y_predict_lr)\n",
        "lr_auc = auc(lr_tpr, lr_fpr)\n",
        "print('LR_tpr: ',lr_tpr)\n",
        "print('LR_fpr: ',lr_fpr)\n",
        "print('threshold: ',threshold)\n",
        "\n",
        "#ROC Curve && AUC [Area Under The Curve]\n",
        "plt.figure(figsize=(9, 8))\n",
        "plt.plot(lr_tpr, lr_fpr, marker='o', label='Logistic Regression (auc = %0.3f)' % lr_auc)\n",
        "plt.ylabel('True Positive Rate -->')\n",
        "plt.xlabel('False Positive Rate -->')\n",
        "\n",
        "plt.legend()\n",
        "\n",
        "plt.show()"
      ],
      "execution_count": 75,
      "outputs": [
        {
          "output_type": "stream",
          "text": [
            "LR_tpr:  [0.         0.09649123 1.        ]\n",
            "LR_fpr:  [0.         0.70769231 1.        ]\n",
            "threshold:  [2 1 0]\n"
          ],
          "name": "stdout"
        },
        {
          "output_type": "display_data",
          "data": {
            "image/png": "[encoded data removed]",
            "text/plain": [
              "<Figure size 648x576 with 1 Axes>"
            ]
          },
          "metadata": {
            "tags": [],
            "needs_background": "light"
          }
        }
      ]
    },
    {
      "cell_type": "markdown",
      "metadata": {
        "id": "O8mC6XXGxGVm"
      },
      "source": [
        "# Support Vector Machine - Model building"
      ]
    },
    {
      "cell_type": "code",
      "metadata": {
        "colab": {
          "base_uri": "https://localhost:8080/"
        },
        "id": "wYORRDxjhqSb",
        "outputId": "3f4da3f4-13e6-4b49-c369-162f705bb4dd"
      },
      "source": [
        "#Support vector machine\n",
        "from sklearn.svm import SVC\n",
        "svc=SVC(C=1,kernel='rbf')\n",
        "svc.fit(X_train,y_train)\n",
        "print('Logistic Regression Train Score :',svc.score(X_train,y_train))\n",
        "print('Logistic Regression Test Score :',svc.score(X_test,y_test))"
      ],
      "execution_count": 76,
      "outputs": [
        {
          "output_type": "stream",
          "text": [
            "Logistic Regression Train Score : 0.8286516853932584\n",
            "Logistic Regression Test Score : 0.8659217877094972\n"
          ],
          "name": "stdout"
        }
      ]
    },
    {
      "cell_type": "code",
      "metadata": {
        "colab": {
          "base_uri": "https://localhost:8080/"
        },
        "id": "TRjYStmWhqSc",
        "outputId": "85a0a6a9-360d-4045-dbf9-595d82766b02"
      },
      "source": [
        "y_predict_svc=svc.predict(X_test)\n",
        "print(y_predict_svc)"
      ],
      "execution_count": 77,
      "outputs": [
        {
          "output_type": "stream",
          "text": [
            "[1 0 0 0 0 0 1 1 1 0 0 1 1 0 1 1 1 0 0 0 0 1 0 0 0 0 0 1 0 0 0 1 0 0 0 0 0\n",
            " 0 1 0 1 0 1 1 0 0 1 0 0 1 1 0 0 0 0 0 0 0 0 0 1 1 1 1 0 0 0 0 0 1 1 0 0 0\n",
            " 0 0 0 0 1 1 1 0 0 0 0 0 1 0 0 0 1 0 0 0 0 0 1 1 0 1 0 0 0 1 0 0 0 0 0 1 1\n",
            " 0 1 0 0 0 0 0 0 0 0 0 0 0 0 0 0 0 1 0 1 0 0 1 1 0 1 1 0 1 0 0 0 1 1 0 0 0\n",
            " 0 1 0 0 1 0 1 0 1 1 1 1 1 0 0 1 0 1 1 0 1 0 0 0 0 0 0 0 1 0 0]\n"
          ],
          "name": "stdout"
        }
      ]
    },
    {
      "cell_type": "code",
      "metadata": {
        "colab": {
          "base_uri": "https://localhost:8080/",
          "height": 322
        },
        "id": "umyv6-b6hqSc",
        "outputId": "bc1942cf-8f18-4c05-ef2c-6d0ac5b9748d"
      },
      "source": [
        "from sklearn.metrics import  confusion_matrix\n",
        "cm_svc=confusion_matrix(y_test,y_predict_svc)\n",
        "print(cm_svc)\n",
        "sns.heatmap(cm_svc,center=True,annot=True)"
      ],
      "execution_count": 78,
      "outputs": [
        {
          "output_type": "stream",
          "text": [
            "[[105   9]\n",
            " [ 15  50]]\n"
          ],
          "name": "stdout"
        },
        {
          "output_type": "execute_result",
          "data": {
            "text/plain": [
              "<matplotlib.axes._subplots.AxesSubplot at 0x7f3e7ba64850>"
            ]
          },
          "metadata": {
            "tags": []
          },
          "execution_count": 78
        },
        {
          "output_type": "display_data",
          "data": {
            "image/png": "[encoded data removed]",
            "text/plain": [
              "<Figure size 432x288 with 2 Axes>"
            ]
          },
          "metadata": {
            "tags": [],
            "needs_background": "light"
          }
        }
      ]
    },
    {
      "cell_type": "code",
      "metadata": {
        "colab": {
          "base_uri": "https://localhost:8080/"
        },
        "id": "E7BV8PF0hqSc",
        "outputId": "f24e5105-afd5-4c0f-f8b3-74cc4e96875d"
      },
      "source": [
        "from sklearn.metrics import accuracy_score\n",
        "acc_svm=accuracy_score(y_test,y_predict_svc)\n",
        "print(acc_svm)"
      ],
      "execution_count": 79,
      "outputs": [
        {
          "output_type": "stream",
          "text": [
            "0.8659217877094972\n"
          ],
          "name": "stdout"
        }
      ]
    },
    {
      "cell_type": "code",
      "metadata": {
        "colab": {
          "base_uri": "https://localhost:8080/"
        },
        "id": "tAcH3AsWhqSd",
        "outputId": "009466dc-1ad0-474d-9de2-e5189ce278cc"
      },
      "source": [
        "from sklearn.metrics import classification_report\n",
        "cr_svm=classification_report(y_test,y_predict_svc)\n",
        "print(cr_svm)"
      ],
      "execution_count": 80,
      "outputs": [
        {
          "output_type": "stream",
          "text": [
            "              precision    recall  f1-score   support\n",
            "\n",
            "           0       0.88      0.92      0.90       114\n",
            "           1       0.85      0.77      0.81        65\n",
            "\n",
            "    accuracy                           0.87       179\n",
            "   macro avg       0.86      0.85      0.85       179\n",
            "weighted avg       0.86      0.87      0.86       179\n",
            "\n"
          ],
          "name": "stdout"
        }
      ]
    },
    {
      "cell_type": "code",
      "metadata": {
        "colab": {
          "base_uri": "https://localhost:8080/",
          "height": 392
        },
        "id": "wggjvT0PhqSd",
        "outputId": "e4cde848-ddf8-4967-c755-d6510a574861"
      },
      "source": [
        "from sklearn.metrics import roc_curve,auc\n",
        "svm_tpr,svm_fpr,threshold=roc_curve(y_test,y_predict_svc)\n",
        "svm_auc=auc(svm_tpr,svm_fpr)\n",
        "print('svm_tpr',svm_tpr)\n",
        "print('svm_fpr',svm_fpr)\n",
        "print('threshold',threshold)\n",
        "\n",
        "\n",
        "# ROC Curve && AUC [Area Under The Curve]\n",
        "plt.figure(figsize=(9, 5))\n",
        "plt.plot(svm_tpr, svm_fpr, linestyle=':', label='SVM (auc = %0.3f)' % svm_auc)\n",
        "\n",
        "plt.xlabel('False Positive Rate -->')\n",
        "plt.ylabel('True Positive Rate -->')\n",
        "\n",
        "plt.legend()\n",
        "\n",
        "plt.show()"
      ],
      "execution_count": 81,
      "outputs": [
        {
          "output_type": "stream",
          "text": [
            "svm_tpr [0.         0.07894737 1.        ]\n",
            "svm_fpr [0.         0.76923077 1.        ]\n",
            "threshold [2 1 0]\n"
          ],
          "name": "stdout"
        },
        {
          "output_type": "display_data",
          "data": {
            "image/png": "[encoded data removed]",
            "text/plain": [
              "<Figure size 648x360 with 1 Axes>"
            ]
          },
          "metadata": {
            "tags": [],
            "needs_background": "light"
          }
        }
      ]
    },
    {
      "cell_type": "markdown",
      "metadata": {
        "id": "Ed8yhmIvyj8p"
      },
      "source": [
        "# KNeighborsClassifier - Model building"
      ]
    },
    {
      "cell_type": "code",
      "metadata": {
        "colab": {
          "base_uri": "https://localhost:8080/"
        },
        "id": "yjm0dhrDhqSd",
        "outputId": "51f65cfa-c775-42c6-f28a-4a77446bd7ea"
      },
      "source": [
        "from sklearn.neighbors import KNeighborsClassifier\n",
        "knn=KNeighborsClassifier(n_neighbors=13,metric = 'minkowski', p = 1)\n",
        "knn.fit(X_train,y_train)\n",
        "print('KNN Train Score :',knn.score(X_train,y_train))\n",
        "print('KNN Test Score :',knn.score(X_test,y_test))"
      ],
      "execution_count": 82,
      "outputs": [
        {
          "output_type": "stream",
          "text": [
            "KNN Train Score : 0.8286516853932584\n",
            "KNN Test Score : 0.8715083798882681\n"
          ],
          "name": "stdout"
        }
      ]
    },
    {
      "cell_type": "code",
      "metadata": {
        "colab": {
          "base_uri": "https://localhost:8080/"
        },
        "id": "XjSx5RgOhqSe",
        "outputId": "c137481c-92ba-49db-e5f9-90b5b8949d2d"
      },
      "source": [
        "y_predict_knn=knn.predict(X_test)\n",
        "print(y_predict_knn)"
      ],
      "execution_count": 83,
      "outputs": [
        {
          "output_type": "stream",
          "text": [
            "[0 0 0 0 0 0 1 1 1 0 0 0 1 0 1 1 1 0 0 0 0 1 0 0 0 0 0 1 0 0 0 1 0 0 0 0 0\n",
            " 0 1 0 1 0 1 1 0 0 1 0 0 1 1 0 0 0 0 0 0 0 0 0 1 1 1 1 0 0 0 0 0 1 1 0 0 0\n",
            " 0 0 0 0 1 1 1 0 0 0 0 0 1 0 0 0 0 0 0 0 0 0 1 1 0 1 0 0 0 1 0 0 0 0 0 1 1\n",
            " 0 1 0 0 0 0 0 0 0 0 0 0 0 0 0 0 0 1 0 1 0 0 1 1 0 1 1 0 1 0 1 0 1 1 0 0 0\n",
            " 0 1 1 0 0 0 1 0 1 0 1 1 1 0 0 1 0 1 1 0 1 0 0 0 0 0 0 0 1 0 0]\n"
          ],
          "name": "stdout"
        }
      ]
    },
    {
      "cell_type": "code",
      "metadata": {
        "colab": {
          "base_uri": "https://localhost:8080/",
          "height": 322
        },
        "id": "K1L-z96KhqSe",
        "outputId": "c8b1d4b1-171c-42d5-ca9c-df56b97449d0"
      },
      "source": [
        "from sklearn.metrics import confusion_matrix\n",
        "cm_knn=confusion_matrix(y_test,y_predict_knn)\n",
        "print(cm_knn)\n",
        "sns.heatmap(cm_knn,center=True,annot=True)"
      ],
      "execution_count": 84,
      "outputs": [
        {
          "output_type": "stream",
          "text": [
            "[[107   7]\n",
            " [ 16  49]]\n"
          ],
          "name": "stdout"
        },
        {
          "output_type": "execute_result",
          "data": {
            "text/plain": [
              "<matplotlib.axes._subplots.AxesSubplot at 0x7f3e7b844350>"
            ]
          },
          "metadata": {
            "tags": []
          },
          "execution_count": 84
        },
        {
          "output_type": "display_data",
          "data": {
            "image/png": "[encoded data removed]",
            "text/plain": [
              "<Figure size 432x288 with 2 Axes>"
            ]
          },
          "metadata": {
            "tags": [],
            "needs_background": "light"
          }
        }
      ]
    },
    {
      "cell_type": "code",
      "metadata": {
        "colab": {
          "base_uri": "https://localhost:8080/"
        },
        "id": "R1KqG26BhqSf",
        "outputId": "478ad6af-487a-43e5-c99d-caf8489c4273"
      },
      "source": [
        "from sklearn.metrics import accuracy_score\n",
        "acc_knn=accuracy_score(y_test,y_predict_knn)\n",
        "print(acc_knn)"
      ],
      "execution_count": 85,
      "outputs": [
        {
          "output_type": "stream",
          "text": [
            "0.8715083798882681\n"
          ],
          "name": "stdout"
        }
      ]
    },
    {
      "cell_type": "code",
      "metadata": {
        "colab": {
          "base_uri": "https://localhost:8080/"
        },
        "id": "krPCQb0OhqSf",
        "outputId": "2d5a2a24-49d3-47b1-a05a-c424851ac245"
      },
      "source": [
        "from sklearn.metrics import classification_report\n",
        "cr_knn=classification_report(y_test,y_predict_knn)\n",
        "print(cr_knn)"
      ],
      "execution_count": 86,
      "outputs": [
        {
          "output_type": "stream",
          "text": [
            "              precision    recall  f1-score   support\n",
            "\n",
            "           0       0.87      0.94      0.90       114\n",
            "           1       0.88      0.75      0.81        65\n",
            "\n",
            "    accuracy                           0.87       179\n",
            "   macro avg       0.87      0.85      0.86       179\n",
            "weighted avg       0.87      0.87      0.87       179\n",
            "\n"
          ],
          "name": "stdout"
        }
      ]
    },
    {
      "cell_type": "code",
      "metadata": {
        "colab": {
          "base_uri": "https://localhost:8080/",
          "height": 392
        },
        "id": "jaky8GvvhqSf",
        "outputId": "f0a1fe4b-5575-41c0-e6f6-84db9ad170b4"
      },
      "source": [
        "from sklearn.metrics import roc_curve,auc\n",
        "knn_tpr,knn_fpr,threshold=roc_curve(y_test,y_predict_knn)\n",
        "print('True Positive Rate',knn_tpr)\n",
        "print('False Positive Rate',knn_fpr)\n",
        "print('threshold',threshold)\n",
        "\n",
        "knn_auc=auc(knn_tpr,knn_fpr)\n",
        "\n",
        "#ROC Curve && AUC [Area Under The Curve]\n",
        "plt.figure(figsize=(9, 5))\n",
        "plt.plot(knn_tpr, knn_fpr, linestyle='--', label='KNN (auc = %0.3f)' %knn_auc)\n",
        "\n",
        "plt.xlabel('False Positive Rate -->')\n",
        "plt.ylabel('True Positive Rate -->')\n",
        "\n",
        "plt.legend()\n",
        "\n",
        "plt.show()"
      ],
      "execution_count": 87,
      "outputs": [
        {
          "output_type": "stream",
          "text": [
            "True Positive Rate [0.         0.06140351 1.        ]\n",
            "False Positive Rate [0.         0.75384615 1.        ]\n",
            "threshold [2 1 0]\n"
          ],
          "name": "stdout"
        },
        {
          "output_type": "display_data",
          "data": {
            "image/png": "[encoded data removed]",
            "text/plain": [
              "<Figure size 648x360 with 1 Axes>"
            ]
          },
          "metadata": {
            "tags": [],
            "needs_background": "light"
          }
        }
      ]
    },
    {
      "cell_type": "markdown",
      "metadata": {
        "id": "f4WkMIMWy-io"
      },
      "source": [
        "# DecisionTreeClassifier - Model Building"
      ]
    },
    {
      "cell_type": "code",
      "metadata": {
        "colab": {
          "base_uri": "https://localhost:8080/"
        },
        "id": "g-Bl-2WhhqSg",
        "outputId": "4ec633c3-71a2-4b23-f5d6-a7ea3b0016f7"
      },
      "source": [
        "from sklearn.tree import DecisionTreeClassifier\n",
        "dt=DecisionTreeClassifier(max_depth=7)\n",
        "dt.fit(X_train,y_train)\n",
        "print(' DecisionTree Train Score :',dt.score(X_train,y_train))\n",
        "print(' DecisionTree Test Score :',dt.score(X_test,y_test))"
      ],
      "execution_count": 88,
      "outputs": [
        {
          "output_type": "stream",
          "text": [
            " DecisionTree Train Score : 0.851123595505618\n",
            " DecisionTree Test Score : 0.8324022346368715\n"
          ],
          "name": "stdout"
        }
      ]
    },
    {
      "cell_type": "code",
      "metadata": {
        "colab": {
          "base_uri": "https://localhost:8080/"
        },
        "id": "C0FVVI3whqSg",
        "outputId": "e2d66c9a-d769-45ff-e524-7f248f53d9bc"
      },
      "source": [
        "y_predict_dt=dt.predict(X_test)\n",
        "print(y_predict_dt)"
      ],
      "execution_count": 89,
      "outputs": [
        {
          "output_type": "stream",
          "text": [
            "[0 0 0 0 0 0 1 1 1 0 0 0 1 0 1 1 1 0 0 0 0 1 0 0 0 0 0 1 0 0 0 1 0 0 0 0 0\n",
            " 0 1 0 1 1 1 1 0 0 1 0 0 1 1 0 0 0 0 0 0 0 0 0 1 1 1 1 0 0 0 0 0 1 1 0 0 0\n",
            " 0 0 0 0 1 1 1 0 0 0 0 0 1 0 0 0 0 0 1 0 0 0 1 1 0 1 0 0 1 1 0 0 0 0 0 1 1\n",
            " 0 1 0 0 0 1 0 0 0 0 0 0 0 0 0 0 0 1 0 1 0 0 1 1 0 1 1 0 1 0 0 1 1 1 0 0 0\n",
            " 0 1 1 0 0 0 1 0 1 0 1 1 1 1 0 1 0 1 1 0 1 0 0 0 0 0 0 0 1 0 0]\n"
          ],
          "name": "stdout"
        }
      ]
    },
    {
      "cell_type": "code",
      "metadata": {
        "colab": {
          "base_uri": "https://localhost:8080/"
        },
        "id": "jsFJzdv6hqSg",
        "outputId": "e4c8f26f-adcc-4c9a-87cf-286693c955e0"
      },
      "source": [
        "from sklearn.metrics import accuracy_score\n",
        "acc_dt=accuracy_score(y_test,y_predict_dt)\n",
        "print(acc_dt)"
      ],
      "execution_count": 90,
      "outputs": [
        {
          "output_type": "stream",
          "text": [
            "0.8324022346368715\n"
          ],
          "name": "stdout"
        }
      ]
    },
    {
      "cell_type": "code",
      "metadata": {
        "colab": {
          "base_uri": "https://localhost:8080/",
          "height": 323
        },
        "id": "X3lLBJObhqSh",
        "outputId": "a222c78a-25bb-4ad0-d44e-3b630cbf788f"
      },
      "source": [
        "from sklearn.metrics import confusion_matrix\n",
        "cm_dt=confusion_matrix(y_test,y_predict_dt)\n",
        "print(cm_dt)\n",
        "sns.heatmap(cm_dt,center=True,annot=True)"
      ],
      "execution_count": 91,
      "outputs": [
        {
          "output_type": "stream",
          "text": [
            "[[101  13]\n",
            " [ 17  48]]\n"
          ],
          "name": "stdout"
        },
        {
          "output_type": "execute_result",
          "data": {
            "text/plain": [
              "<matplotlib.axes._subplots.AxesSubplot at 0x7f3e7b6dc5d0>"
            ]
          },
          "metadata": {
            "tags": []
          },
          "execution_count": 91
        },
        {
          "output_type": "display_data",
          "data": {
            "image/png": "[encoded data removed]",
            "text/plain": [
              "<Figure size 432x288 with 2 Axes>"
            ]
          },
          "metadata": {
            "tags": [],
            "needs_background": "light"
          }
        }
      ]
    },
    {
      "cell_type": "code",
      "metadata": {
        "colab": {
          "base_uri": "https://localhost:8080/"
        },
        "id": "coK8cs2bhqSh",
        "outputId": "99642ab4-cb55-4759-9b6c-1b1872a96c80"
      },
      "source": [
        "from sklearn.metrics import classification_report\n",
        "cr_dt=classification_report(y_test,y_predict_dt)\n",
        "print(cr_dt)"
      ],
      "execution_count": 92,
      "outputs": [
        {
          "output_type": "stream",
          "text": [
            "              precision    recall  f1-score   support\n",
            "\n",
            "           0       0.86      0.89      0.87       114\n",
            "           1       0.79      0.74      0.76        65\n",
            "\n",
            "    accuracy                           0.83       179\n",
            "   macro avg       0.82      0.81      0.82       179\n",
            "weighted avg       0.83      0.83      0.83       179\n",
            "\n"
          ],
          "name": "stdout"
        }
      ]
    },
    {
      "cell_type": "code",
      "metadata": {
        "colab": {
          "base_uri": "https://localhost:8080/",
          "height": 392
        },
        "id": "nBmSDPGOhqSh",
        "outputId": "94199005-ab2d-4fa4-a469-ca35a9b1e9ba"
      },
      "source": [
        "from sklearn.metrics import roc_curve,auc\n",
        "dt_tpr,dt_fpr,threshold=roc_curve(y_test,y_predict_dt)\n",
        "print('True Positive Rate',dt_tpr)\n",
        "print('False Positive Rate',dt_fpr)\n",
        "print('threshold',threshold)\n",
        "\n",
        "dt_auc=auc(dt_tpr,dt_fpr)\n",
        "\n",
        "#Draw ROC Curve && AUC [Area Under The Curve]\n",
        "plt.figure(figsize=(9, 5))\n",
        "plt.plot(dt_tpr, dt_fpr, linestyle='--', label='DT (auc = %0.3f)' %dt_auc)\n",
        "\n",
        "plt.xlabel('False Positive Rate -->')\n",
        "plt.ylabel('True Positive Rate -->')\n",
        "\n",
        "plt.legend()\n",
        "\n",
        "plt.show()"
      ],
      "execution_count": 93,
      "outputs": [
        {
          "output_type": "stream",
          "text": [
            "True Positive Rate [0.         0.11403509 1.        ]\n",
            "False Positive Rate [0.         0.73846154 1.        ]\n",
            "threshold [2 1 0]\n"
          ],
          "name": "stdout"
        },
        {
          "output_type": "display_data",
          "data": {
            "image/png": "[encoded data removed]",
            "text/plain": [
              "<Figure size 648x360 with 1 Axes>"
            ]
          },
          "metadata": {
            "tags": [],
            "needs_background": "light"
          }
        }
      ]
    },
    {
      "cell_type": "markdown",
      "metadata": {
        "id": "QU7pcBPHzhpB"
      },
      "source": [
        "#RandomForestClassifier - Model Building\n"
      ]
    },
    {
      "cell_type": "code",
      "metadata": {
        "colab": {
          "base_uri": "https://localhost:8080/"
        },
        "id": "hMpY8K3QhqSi",
        "outputId": "78161fb3-55ad-47a5-ee03-13655273480a"
      },
      "source": [
        "from sklearn.ensemble import RandomForestClassifier \n",
        "rf=RandomForestClassifier(criterion = 'entropy',max_depth=6,n_estimators=9)\n",
        "rf.fit(X_train,y_train)\n",
        "print('Random Force Train Score :',rf.score(X_train,y_train))\n",
        "print('Random Force Test Score :',rf.score(X_test,y_test))\n"
      ],
      "execution_count": 94,
      "outputs": [
        {
          "output_type": "stream",
          "text": [
            "Random Force Train Score : 0.8370786516853933\n",
            "Random Force Test Score : 0.8659217877094972\n"
          ],
          "name": "stdout"
        }
      ]
    },
    {
      "cell_type": "code",
      "metadata": {
        "colab": {
          "base_uri": "https://localhost:8080/"
        },
        "id": "VmpCCHu4hqSi",
        "outputId": "71dddb0a-95d2-4b77-999d-71772e70ac6d"
      },
      "source": [
        "y_pred_rf=rf.predict(X_test)\n",
        "print('y Pred',y_pred_rf)"
      ],
      "execution_count": 95,
      "outputs": [
        {
          "output_type": "stream",
          "text": [
            "y Pred [1 0 0 0 0 0 1 1 1 0 0 1 1 0 1 1 1 0 0 0 1 1 0 0 0 0 0 1 0 0 0 1 0 0 0 0 0\n",
            " 0 1 0 1 0 1 1 0 0 1 0 0 1 1 0 0 0 0 0 0 0 0 0 1 1 1 1 0 0 0 0 0 1 1 0 0 0\n",
            " 0 0 0 0 1 1 1 0 0 0 0 0 1 0 0 0 1 0 0 0 0 0 1 1 0 1 0 0 1 1 0 0 0 0 0 1 1\n",
            " 0 1 0 0 0 0 0 0 0 0 0 0 0 0 0 0 0 1 0 1 0 0 1 1 0 1 1 0 1 0 1 0 1 1 0 0 0\n",
            " 0 1 1 0 1 0 1 0 1 1 1 1 1 0 0 1 0 1 1 0 1 0 0 0 0 0 0 0 1 0 0]\n"
          ],
          "name": "stdout"
        }
      ]
    },
    {
      "cell_type": "code",
      "metadata": {
        "colab": {
          "base_uri": "https://localhost:8080/",
          "height": 357
        },
        "id": "IdVmpJlXhqSi",
        "outputId": "2aac3f0c-82e2-4273-8c3f-caaa888fdff4"
      },
      "source": [
        "from sklearn.metrics import confusion_matrix\n",
        "cm=confusion_matrix(y_test,y_pred_rf)\n",
        "print(cm)\n",
        "plt.figure(figsize=(9,5))\n",
        "sns.heatmap(cm,center=True,annot=True)\n",
        "plt.show()"
      ],
      "execution_count": 96,
      "outputs": [
        {
          "output_type": "stream",
          "text": [
            "[[103  11]\n",
            " [ 13  52]]\n"
          ],
          "name": "stdout"
        },
        {
          "output_type": "display_data",
          "data": {
            "image/png": "[encoded data removed]",
            "text/plain": [
              "<Figure size 648x360 with 2 Axes>"
            ]
          },
          "metadata": {
            "tags": [],
            "needs_background": "light"
          }
        }
      ]
    },
    {
      "cell_type": "code",
      "metadata": {
        "colab": {
          "base_uri": "https://localhost:8080/"
        },
        "id": "XvviGQTThqSj",
        "outputId": "04e821f0-8fa2-4ef1-d125-59cd3dfb9479"
      },
      "source": [
        "from sklearn.metrics import accuracy_score\n",
        "acc_rf=accuracy_score(y_test,y_pred_rf)\n",
        "print('Accuracy Score',acc_rf)"
      ],
      "execution_count": 97,
      "outputs": [
        {
          "output_type": "stream",
          "text": [
            "Accuracy Score 0.8659217877094972\n"
          ],
          "name": "stdout"
        }
      ]
    },
    {
      "cell_type": "code",
      "metadata": {
        "colab": {
          "base_uri": "https://localhost:8080/"
        },
        "id": "INcG60KfhqSj",
        "outputId": "a86269b2-03d8-4936-b08e-11f95a119736"
      },
      "source": [
        "from sklearn.metrics import classification_report\n",
        "cr=classification_report(y_test,y_pred_rf)\n",
        "print(cr)"
      ],
      "execution_count": 98,
      "outputs": [
        {
          "output_type": "stream",
          "text": [
            "              precision    recall  f1-score   support\n",
            "\n",
            "           0       0.89      0.90      0.90       114\n",
            "           1       0.83      0.80      0.81        65\n",
            "\n",
            "    accuracy                           0.87       179\n",
            "   macro avg       0.86      0.85      0.85       179\n",
            "weighted avg       0.87      0.87      0.87       179\n",
            "\n"
          ],
          "name": "stdout"
        }
      ]
    },
    {
      "cell_type": "code",
      "metadata": {
        "colab": {
          "base_uri": "https://localhost:8080/",
          "height": 519
        },
        "id": "angc3109hqSj",
        "outputId": "4a31fa83-c5d2-470e-8843-19a61a89877c"
      },
      "source": [
        "from sklearn.metrics import roc_curve,auc\n",
        "rf_tpr,rf_fpr,threshold=roc_curve(y_test,y_pred_rf)\n",
        "rf_auc=auc(rf_tpr,rf_fpr)\n",
        "print('rf_tpr Value  : ', rf_tpr)\n",
        "print('rf_fpr Value  : ', rf_fpr)\n",
        "print('thresholds Value  : ', threshold)\n",
        "\n",
        "#Draw ROC Curve && AUC [Area Under The Curve]\n",
        "\n",
        "plt.figure(figsize=(5, 5), dpi=100)\n",
        "plt.plot(rf_tpr, rf_fpr, linestyle='-', label='Random Forest (auc = %0.3f)' % rf_auc)\n",
        "\n",
        "plt.xlabel('True Positive Rate -->')\n",
        "plt.ylabel('False Positive Rate -->')\n",
        "\n",
        "plt.legend()\n",
        "plt.show()"
      ],
      "execution_count": 99,
      "outputs": [
        {
          "output_type": "stream",
          "text": [
            "rf_tpr Value  :  [0.         0.09649123 1.        ]\n",
            "rf_fpr Value  :  [0.  0.8 1. ]\n",
            "thresholds Value  :  [2 1 0]\n"
          ],
          "name": "stdout"
        },
        {
          "output_type": "display_data",
          "data": {
            "image/png": "[encoded data removed]",
            "text/plain": [
              "<Figure size 500x500 with 1 Axes>"
            ]
          },
          "metadata": {
            "tags": [],
            "needs_background": "light"
          }
        }
      ]
    },
    {
      "cell_type": "markdown",
      "metadata": {
        "id": "0aWtZOnRzzl5"
      },
      "source": [
        "#XGBClassifier - Model Building"
      ]
    },
    {
      "cell_type": "code",
      "metadata": {
        "colab": {
          "base_uri": "https://localhost:8080/"
        },
        "id": "mFBJDX_rhqSk",
        "outputId": "1380a6b1-063b-4a6d-dc7c-bc7afbd02fc0"
      },
      "source": [
        "from xgboost import XGBClassifier\n",
        "xgb=XGBClassifier()\n",
        "xgb.fit(X_train,y_train)\n",
        "print('XGB Train Score :',xgb.score(X_train,y_train))\n",
        "print('XGB Test Score :',xgb.score(X_test,y_test))"
      ],
      "execution_count": 100,
      "outputs": [
        {
          "output_type": "stream",
          "text": [
            "XGB Train Score : 0.8370786516853933\n",
            "XGB Test Score : 0.8659217877094972\n"
          ],
          "name": "stdout"
        }
      ]
    },
    {
      "cell_type": "code",
      "metadata": {
        "colab": {
          "base_uri": "https://localhost:8080/"
        },
        "id": "HLg-lV1qhqSk",
        "outputId": "500baaee-d4a4-480a-9a22-adaedfdc8596"
      },
      "source": [
        "y_pred_xgb=xgb.predict(X_test)\n",
        "print('Y Pred',y_pred_xgb)"
      ],
      "execution_count": 101,
      "outputs": [
        {
          "output_type": "stream",
          "text": [
            "Y Pred [1 0 0 0 0 0 1 1 1 0 0 1 1 0 1 1 1 0 0 0 1 1 0 0 0 0 0 1 0 0 0 1 0 0 0 0 0\n",
            " 0 1 0 1 0 1 1 0 0 1 0 0 1 1 0 0 0 0 0 0 0 1 0 1 1 1 1 0 0 0 0 0 1 1 0 0 0\n",
            " 0 0 0 0 1 1 1 0 0 0 0 0 1 0 0 0 1 0 0 0 0 0 1 1 0 1 0 0 0 1 0 1 0 0 0 1 1\n",
            " 1 1 0 0 0 0 0 0 1 0 0 0 0 0 0 0 0 1 0 1 0 0 1 1 0 1 1 0 1 0 1 0 1 1 0 0 0\n",
            " 0 1 1 0 1 0 1 0 1 1 1 1 1 0 1 1 0 1 1 0 1 0 0 0 0 0 0 0 1 0 0]\n"
          ],
          "name": "stdout"
        }
      ]
    },
    {
      "cell_type": "code",
      "metadata": {
        "colab": {
          "base_uri": "https://localhost:8080/",
          "height": 358
        },
        "id": "F3ToaDXGhqSk",
        "outputId": "6c04b919-3931-4205-9686-4c982dcda49c"
      },
      "source": [
        "from sklearn.metrics import confusion_matrix\n",
        "cm=confusion_matrix(y_test,y_pred_xgb)\n",
        "print(cm)\n",
        "plt.figure(figsize=(9,5))\n",
        "sns.heatmap(cm,center=True,annot=True)\n",
        "plt.show()"
      ],
      "execution_count": 102,
      "outputs": [
        {
          "output_type": "stream",
          "text": [
            "[[101  13]\n",
            " [ 11  54]]\n"
          ],
          "name": "stdout"
        },
        {
          "output_type": "display_data",
          "data": {
            "image/png": "[encoded data removed]",
            "text/plain": [
              "<Figure size 648x360 with 2 Axes>"
            ]
          },
          "metadata": {
            "tags": [],
            "needs_background": "light"
          }
        }
      ]
    },
    {
      "cell_type": "code",
      "metadata": {
        "colab": {
          "base_uri": "https://localhost:8080/"
        },
        "id": "5XvnCcxihqSl",
        "outputId": "0e36e6fe-3055-48e8-e9b7-22764e4820db"
      },
      "source": [
        "from sklearn.metrics import accuracy_score\n",
        "acc_xgb=accuracy_score(y_test,y_pred_xgb)\n",
        "print('Accuracy Score',acc_xgb)"
      ],
      "execution_count": 103,
      "outputs": [
        {
          "output_type": "stream",
          "text": [
            "Accuracy Score 0.8659217877094972\n"
          ],
          "name": "stdout"
        }
      ]
    },
    {
      "cell_type": "code",
      "metadata": {
        "colab": {
          "base_uri": "https://localhost:8080/"
        },
        "id": "YDl7WpNGhqSl",
        "outputId": "bec477fb-ce5b-4001-edfc-59e44de9253b"
      },
      "source": [
        "from sklearn.metrics import classification_report\n",
        "cr=classification_report(y_test,y_pred_xgb)\n",
        "print(cr)"
      ],
      "execution_count": 104,
      "outputs": [
        {
          "output_type": "stream",
          "text": [
            "              precision    recall  f1-score   support\n",
            "\n",
            "           0       0.90      0.89      0.89       114\n",
            "           1       0.81      0.83      0.82        65\n",
            "\n",
            "    accuracy                           0.87       179\n",
            "   macro avg       0.85      0.86      0.86       179\n",
            "weighted avg       0.87      0.87      0.87       179\n",
            "\n"
          ],
          "name": "stdout"
        }
      ]
    },
    {
      "cell_type": "code",
      "metadata": {
        "colab": {
          "base_uri": "https://localhost:8080/",
          "height": 519
        },
        "id": "PYGT59MfhqSl",
        "outputId": "72d31954-5d55-4169-c3e8-45d2d41ad18a"
      },
      "source": [
        "from sklearn.metrics import roc_curve,auc\n",
        "xgb_tpr,xgb_fpr,threshold=roc_curve(y_test,y_pred_xgb)\n",
        "xgb_auc=auc(xgb_tpr,xgb_fpr)\n",
        "print('xgb_tpr Value  : ', xgb_tpr)\n",
        "print('xgb_fpr Value  : ', xgb_fpr)\n",
        "print('thresholds Value  : ', threshold)\n",
        "\n",
        "#Draw ROC Curve && AUC [Area Under The Curve]\n",
        "\n",
        "plt.figure(figsize=(5, 5), dpi=100)\n",
        "plt.plot(xgb_tpr, xgb_fpr, linestyle='-', label='XGBOOST (auc = %0.3f)' % xgb_auc)\n",
        "\n",
        "plt.xlabel('True Positive Rate -->')\n",
        "plt.ylabel('False Positive Rate -->')\n",
        "\n",
        "plt.legend()\n",
        "plt.show()"
      ],
      "execution_count": 105,
      "outputs": [
        {
          "output_type": "stream",
          "text": [
            "xgb_tpr Value  :  [0.         0.11403509 1.        ]\n",
            "xgb_fpr Value  :  [0.         0.83076923 1.        ]\n",
            "thresholds Value  :  [2 1 0]\n"
          ],
          "name": "stdout"
        },
        {
          "output_type": "display_data",
          "data": {
            "image/png": "[encoded data removed]",
            "text/plain": [
              "<Figure size 500x500 with 1 Axes>"
            ]
          },
          "metadata": {
            "tags": [],
            "needs_background": "light"
          }
        }
      ]
    },
    {
      "cell_type": "markdown",
      "metadata": {
        "id": "I9gVGI2Hz_D3"
      },
      "source": [
        "#Bernoulli Navie Bayes - Model Building"
      ]
    },
    {
      "cell_type": "code",
      "metadata": {
        "colab": {
          "base_uri": "https://localhost:8080/"
        },
        "id": "Ha4sAnizhqSm",
        "outputId": "714de0fb-e435-4332-d30d-8821c59bf7dc"
      },
      "source": [
        "from sklearn.naive_bayes import BernoulliNB\n",
        "nb=BernoulliNB()\n",
        "nb.fit(X_train,y_train)\n",
        "print('Naive Bayse Train Score',nb.score(X_train,y_train))\n",
        "print('Naive Bayse Test Score',nb.score(X_test,y_test))"
      ],
      "execution_count": 106,
      "outputs": [
        {
          "output_type": "stream",
          "text": [
            "Naive Bayse Train Score 0.7949438202247191\n",
            "Naive Bayse Test Score 0.8156424581005587\n"
          ],
          "name": "stdout"
        }
      ]
    },
    {
      "cell_type": "code",
      "metadata": {
        "colab": {
          "base_uri": "https://localhost:8080/"
        },
        "id": "RlO4e84yhqSm",
        "outputId": "eac8aa08-1cc9-427d-ba7d-a7bbe1e5d543"
      },
      "source": [
        "\n",
        "y_pred_nb = nb.predict(X_test)\n",
        "y_pred_prob = nb.predict_proba(X_test)\n",
        "y_pred_prob2=y_pred_prob.astype(int)\n",
        "print('y Test' ,y_test)\n",
        "print('Predicted Value for BernoulliNBModel is : ' , y_pred_nb)\n",
        "print('Prediction Probabilities Value for BernoulliNBModel is : \\n' , y_pred_prob2)\n"
      ],
      "execution_count": 107,
      "outputs": [
        {
          "output_type": "stream",
          "text": [
            "y Test 172    1\n",
            "524    0\n",
            "452    0\n",
            "170    0\n",
            "620    0\n",
            "      ..\n",
            "388    0\n",
            "338    1\n",
            "827    1\n",
            "773    0\n",
            "221    0\n",
            "Name: Survived, Length: 179, dtype: int64\n",
            "Predicted Value for BernoulliNBModel is :  [1 0 0 0 0 0 1 1 1 1 1 1 1 0 1 1 1 0 1 0 1 1 0 0 0 0 0 1 0 0 1 1 0 0 0 0 0\n",
            " 0 1 0 1 0 1 1 0 0 1 0 0 1 1 1 0 0 0 0 0 0 0 0 1 1 1 1 0 0 0 0 0 1 1 0 0 0\n",
            " 0 0 0 0 1 1 1 0 0 0 0 0 1 0 0 0 1 0 0 0 0 0 1 1 0 1 0 0 1 1 0 0 0 0 0 1 1\n",
            " 0 1 0 0 0 1 0 0 0 0 0 0 0 0 0 1 0 1 0 1 0 0 1 1 0 1 1 0 1 0 1 0 1 1 0 0 0\n",
            " 0 1 1 0 1 0 1 0 1 1 1 1 1 1 0 1 0 1 1 0 1 0 0 0 1 0 0 0 1 0 0]\n",
            "Prediction Probabilities Value for BernoulliNBModel is : \n",
            " [[0 0]\n",
            " [0 0]\n",
            " [0 0]\n",
            " [0 0]\n",
            " [0 0]\n",
            " [0 0]\n",
            " [0 0]\n",
            " [0 0]\n",
            " [0 0]\n",
            " [0 0]\n",
            " [0 0]\n",
            " [0 0]\n",
            " [0 0]\n",
            " [0 0]\n",
            " [0 0]\n",
            " [0 0]\n",
            " [0 0]\n",
            " [0 0]\n",
            " [0 0]\n",
            " [0 0]\n",
            " [0 0]\n",
            " [0 0]\n",
            " [0 0]\n",
            " [0 0]\n",
            " [0 0]\n",
            " [0 0]\n",
            " [0 0]\n",
            " [0 0]\n",
            " [0 0]\n",
            " [0 0]\n",
            " [0 0]\n",
            " [0 0]\n",
            " [0 0]\n",
            " [0 0]\n",
            " [0 0]\n",
            " [0 0]\n",
            " [0 0]\n",
            " [0 0]\n",
            " [0 0]\n",
            " [0 0]\n",
            " [0 0]\n",
            " [0 0]\n",
            " [0 0]\n",
            " [0 0]\n",
            " [0 0]\n",
            " [0 0]\n",
            " [0 0]\n",
            " [0 0]\n",
            " [0 0]\n",
            " [0 0]\n",
            " [0 0]\n",
            " [0 0]\n",
            " [0 0]\n",
            " [0 0]\n",
            " [0 0]\n",
            " [0 0]\n",
            " [0 0]\n",
            " [0 0]\n",
            " [0 0]\n",
            " [0 0]\n",
            " [0 0]\n",
            " [0 0]\n",
            " [0 0]\n",
            " [0 0]\n",
            " [0 0]\n",
            " [0 0]\n",
            " [0 0]\n",
            " [0 0]\n",
            " [0 0]\n",
            " [0 0]\n",
            " [0 0]\n",
            " [0 0]\n",
            " [0 0]\n",
            " [0 0]\n",
            " [0 0]\n",
            " [0 0]\n",
            " [0 0]\n",
            " [0 0]\n",
            " [0 0]\n",
            " [0 0]\n",
            " [0 0]\n",
            " [0 0]\n",
            " [0 0]\n",
            " [0 0]\n",
            " [0 0]\n",
            " [0 0]\n",
            " [0 0]\n",
            " [0 0]\n",
            " [0 0]\n",
            " [0 0]\n",
            " [0 0]\n",
            " [0 0]\n",
            " [0 0]\n",
            " [0 0]\n",
            " [0 0]\n",
            " [0 0]\n",
            " [0 0]\n",
            " [0 0]\n",
            " [0 0]\n",
            " [0 0]\n",
            " [0 0]\n",
            " [0 0]\n",
            " [0 0]\n",
            " [0 0]\n",
            " [0 0]\n",
            " [0 0]\n",
            " [0 0]\n",
            " [0 0]\n",
            " [0 0]\n",
            " [0 0]\n",
            " [0 0]\n",
            " [0 0]\n",
            " [0 0]\n",
            " [0 0]\n",
            " [0 0]\n",
            " [0 0]\n",
            " [0 0]\n",
            " [0 0]\n",
            " [0 0]\n",
            " [0 0]\n",
            " [0 0]\n",
            " [0 0]\n",
            " [0 0]\n",
            " [0 0]\n",
            " [0 0]\n",
            " [0 0]\n",
            " [0 0]\n",
            " [0 0]\n",
            " [0 0]\n",
            " [0 0]\n",
            " [0 0]\n",
            " [0 0]\n",
            " [0 0]\n",
            " [0 0]\n",
            " [0 0]\n",
            " [0 0]\n",
            " [0 0]\n",
            " [0 0]\n",
            " [0 0]\n",
            " [0 0]\n",
            " [0 0]\n",
            " [0 0]\n",
            " [0 0]\n",
            " [0 0]\n",
            " [0 0]\n",
            " [0 0]\n",
            " [0 0]\n",
            " [0 0]\n",
            " [0 0]\n",
            " [0 0]\n",
            " [0 0]\n",
            " [0 0]\n",
            " [0 0]\n",
            " [0 0]\n",
            " [0 0]\n",
            " [0 0]\n",
            " [0 0]\n",
            " [0 0]\n",
            " [0 0]\n",
            " [0 0]\n",
            " [0 0]\n",
            " [0 0]\n",
            " [0 0]\n",
            " [0 0]\n",
            " [0 0]\n",
            " [0 0]\n",
            " [0 0]\n",
            " [0 0]\n",
            " [0 0]\n",
            " [0 0]\n",
            " [0 0]\n",
            " [0 0]\n",
            " [0 0]\n",
            " [0 0]\n",
            " [0 0]\n",
            " [0 0]\n",
            " [0 0]\n",
            " [0 0]\n",
            " [0 0]]\n"
          ],
          "name": "stdout"
        }
      ]
    },
    {
      "cell_type": "code",
      "metadata": {
        "colab": {
          "base_uri": "https://localhost:8080/",
          "height": 375
        },
        "id": "P9htICtlhqSm",
        "outputId": "13bfbc4e-7dcf-422a-95f1-a330ac5babc3"
      },
      "source": [
        "from sklearn.metrics import confusion_matrix\n",
        "cm=confusion_matrix(y_test,y_pred_nb)\n",
        "print(cm)\n",
        "plt.figure(figsize=(9,5))\n",
        "sns.heatmap(cm,center=True,annot=True)"
      ],
      "execution_count": 108,
      "outputs": [
        {
          "output_type": "stream",
          "text": [
            "[[94 20]\n",
            " [13 52]]\n"
          ],
          "name": "stdout"
        },
        {
          "output_type": "execute_result",
          "data": {
            "text/plain": [
              "<matplotlib.axes._subplots.AxesSubplot at 0x7f3e5ff2a410>"
            ]
          },
          "metadata": {
            "tags": []
          },
          "execution_count": 108
        },
        {
          "output_type": "display_data",
          "data": {
            "image/png": "[encoded data removed]",
            "text/plain": [
              "<Figure size 648x360 with 2 Axes>"
            ]
          },
          "metadata": {
            "tags": [],
            "needs_background": "light"
          }
        }
      ]
    },
    {
      "cell_type": "code",
      "metadata": {
        "colab": {
          "base_uri": "https://localhost:8080/"
        },
        "id": "YD6fFvtKhqSn",
        "outputId": "c3dc2495-cc65-48a8-8c9f-e4a586635c6a"
      },
      "source": [
        "from sklearn.metrics import accuracy_score\n",
        "acc_nb=accuracy_score(y_test,y_pred_nb)\n",
        "print(acc_nb)"
      ],
      "execution_count": 109,
      "outputs": [
        {
          "output_type": "stream",
          "text": [
            "0.8156424581005587\n"
          ],
          "name": "stdout"
        }
      ]
    },
    {
      "cell_type": "code",
      "metadata": {
        "colab": {
          "base_uri": "https://localhost:8080/"
        },
        "id": "9Gr5ToNmhqSn",
        "outputId": "a29cc15d-99aa-4838-dd4a-561e27a6b2cd"
      },
      "source": [
        "from sklearn.metrics import classification_report\n",
        "cr=classification_report(y_test,y_pred_nb)\n",
        "print(cr)"
      ],
      "execution_count": 110,
      "outputs": [
        {
          "output_type": "stream",
          "text": [
            "              precision    recall  f1-score   support\n",
            "\n",
            "           0       0.88      0.82      0.85       114\n",
            "           1       0.72      0.80      0.76        65\n",
            "\n",
            "    accuracy                           0.82       179\n",
            "   macro avg       0.80      0.81      0.80       179\n",
            "weighted avg       0.82      0.82      0.82       179\n",
            "\n"
          ],
          "name": "stdout"
        }
      ]
    },
    {
      "cell_type": "code",
      "metadata": {
        "colab": {
          "base_uri": "https://localhost:8080/",
          "height": 519
        },
        "id": "wJBbdcWohqSn",
        "outputId": "0ebed144-a289-4b2b-c1d2-b7f03ce75bff"
      },
      "source": [
        "from sklearn.metrics import roc_curve,auc\n",
        "nb_tpr,nb_fpr,threshold=roc_curve(y_test,y_pred_nb)\n",
        "nb_auc=auc(nb_tpr,nb_fpr)\n",
        "print('nb_tpr Value  : ', nb_tpr)\n",
        "print('nb_fpr Value  : ', nb_fpr)\n",
        "print('thresholds Value  : ', threshold)\n",
        "\n",
        "#Draw ROC Curve && AUC [Area Under The Curve]\n",
        "\n",
        "plt.figure(figsize=(5, 5), dpi=100)\n",
        "plt.plot(rf_tpr, rf_fpr, linestyle='-', label='Naive Baias (auc = %0.3f)' % nb_auc)\n",
        "\n",
        "plt.xlabel('True Positive Rate -->')\n",
        "plt.ylabel('False Positive Rate -->')\n",
        "\n",
        "plt.legend()\n",
        "plt.show()"
      ],
      "execution_count": 111,
      "outputs": [
        {
          "output_type": "stream",
          "text": [
            "nb_tpr Value  :  [0.        0.1754386 1.       ]\n",
            "nb_fpr Value  :  [0.  0.8 1. ]\n",
            "thresholds Value  :  [2 1 0]\n"
          ],
          "name": "stdout"
        },
        {
          "output_type": "display_data",
          "data": {
            "image/png": "[encoded data removed]",
            "text/plain": [
              "<Figure size 500x500 with 1 Axes>"
            ]
          },
          "metadata": {
            "tags": [],
            "needs_background": "light"
          }
        }
      ]
    },
    {
      "cell_type": "code",
      "metadata": {
        "colab": {
          "base_uri": "https://localhost:8080/",
          "height": 356
        },
        "id": "Rx2Kyf6uhqSo",
        "outputId": "2ee9d91c-947a-43e3-cb09-7ca7ac3dc3c3"
      },
      "source": [
        "from sklearn.metrics import roc_curve, auc\n",
        "\n",
        "LR_tpr,LR_fpr,threshold=roc_curve(y_test,y_predict_lr)\n",
        "LR_auc = auc(lr_tpr, lr_fpr)\n",
        "\n",
        "svm_fpr, svm_tpr, threshold = roc_curve(y_test, y_predict_svc)\n",
        "auc_svm = auc(svm_fpr, svm_tpr)\n",
        "\n",
        "knn_fpr, knn_tpr, threshold = roc_curve(y_test, y_predict_knn)\n",
        "auc_knn = auc(knn_fpr, knn_tpr)\n",
        "\n",
        "dt_fpr, dt_tpr, threshold = roc_curve(y_test, y_predict_dt)\n",
        "auc_dt = auc(dt_fpr, dt_tpr)\n",
        "\n",
        "rf_fpr, rf_tpr, threshold = roc_curve(y_test, y_pred_rf)\n",
        "auc_rf = auc(rf_fpr, rf_tpr)\n",
        "\n",
        "\n",
        "nb_fpr, nb_tpr, threshold = roc_curve(y_test, y_pred_nb)\n",
        "auc_nb = auc(nb_fpr, nb_tpr)\n",
        "\n",
        "xgb_fpr, xgb_tpr, threshold = roc_curve(y_test, y_pred_xgb)\n",
        "auc_xgb = auc(xgb_fpr, xgb_tpr)\n",
        "\n",
        "plt.figure(figsize=(9, 5))\n",
        "plt.plot(LR_tpr, LR_fpr, marker='o', label='Logistic Regression (auc = %0.3f)' % LR_auc)\n",
        "plt.plot(svm_fpr, svm_tpr, linestyle='--', label='SVM (auc = %0.3f)' % auc_svm)\n",
        "plt.plot(knn_fpr, knn_tpr, linestyle=':', label='KNN (auc = %0.3f)' % auc_knn)\n",
        "plt.plot(dt_fpr, dt_tpr, linestyle='-', label='DT (auc = %0.3f)' % auc_dt)\n",
        "plt.plot(rf_fpr, rf_tpr, linestyle='-', label='RF (auc = %0.3f)' % auc_rf)\n",
        "plt.plot(nb_fpr, nb_tpr, linestyle='--', label='NB (auc = %0.3f)' % auc_nb)\n",
        "plt.plot(xgb_fpr, xgb_tpr, linestyle='--', label='XGB (auc = %0.3f)' % auc_xgb)\n",
        "\n",
        "\n",
        "\n",
        "plt.xlabel('False Positive Rate -->')\n",
        "plt.ylabel('True Positive Rate -->')\n",
        "\n",
        "plt.legend()"
      ],
      "execution_count": 112,
      "outputs": [
        {
          "output_type": "execute_result",
          "data": {
            "text/plain": [
              "<matplotlib.legend.Legend at 0x7f3e5fdd65d0>"
            ]
          },
          "metadata": {
            "tags": []
          },
          "execution_count": 112
        },
        {
          "output_type": "display_data",
          "data": {
            "image/png": "[encoded data removed]",
            "text/plain": [
              "<Figure size 648x360 with 1 Axes>"
            ]
          },
          "metadata": {
            "tags": [],
            "needs_background": "light"
          }
        }
      ]
    },
    {
      "cell_type": "markdown",
      "metadata": {
        "id": "mOyv-SyFhqSo"
      },
      "source": [
        "# Process 8: Optimization Using Grid Search CV"
      ]
    },
    {
      "cell_type": "code",
      "metadata": {
        "id": "1f2XYRPahqSo"
      },
      "source": [
        "#KNN ,SVM, RF  are almost the same for optimization  so lets choose best model among them and\n",
        "#apply optimization to all"
      ],
      "execution_count": 113,
      "outputs": []
    },
    {
      "cell_type": "code",
      "metadata": {
        "colab": {
          "base_uri": "https://localhost:8080/"
        },
        "id": "_UVEcohghqSo",
        "outputId": "07774960-4c0b-4efb-82ed-536d91ce0e27"
      },
      "source": [
        "from sklearn.model_selection import RepeatedStratifiedKFold\n",
        "from sklearn.model_selection import GridSearchCV\n",
        "from sklearn.neighbors import KNeighborsClassifier\n",
        "model = KNeighborsClassifier()\n",
        "n_neighbors = range(1, 31)\n",
        "weights = ['uniform', 'distance']\n",
        "metric = ['euclidean', 'manhattan', 'minkowski']\n",
        "# define grid search\n",
        "grid = dict(n_neighbors=n_neighbors,weights=weights,metric=metric)\n",
        "cv = RepeatedStratifiedKFold(n_splits=10, n_repeats=3, random_state=1)\n",
        "grid_search = GridSearchCV(estimator=model, param_grid=grid, n_jobs=-1, cv=cv, scoring='accuracy',error_score=0)\n",
        "grid_result = grid_search.fit(X, y)\n",
        "# summarize results\n",
        "print(\"Best: %f using %s\" % (grid_result.best_score_, grid_result.best_params_))\n",
        "means = grid_result.cv_results_['mean_test_score']\n",
        "stds = grid_result.cv_results_['std_test_score']\n",
        "params = grid_result.cv_results_['params']\n",
        "for mean, stdev, param in zip(means, stds, params):\n",
        "    print(\"%f (%f) with: %r\" % (mean, stdev, param))"
      ],
      "execution_count": 114,
      "outputs": [
        {
          "output_type": "stream",
          "text": [
            "Best: 0.834648 using {'metric': 'manhattan', 'n_neighbors': 23, 'weights': 'uniform'}\n",
            "0.773275 (0.055580) with: {'metric': 'euclidean', 'n_neighbors': 1, 'weights': 'uniform'}\n",
            "0.773275 (0.055580) with: {'metric': 'euclidean', 'n_neighbors': 1, 'weights': 'distance'}\n",
            "0.784515 (0.047835) with: {'metric': 'euclidean', 'n_neighbors': 2, 'weights': 'uniform'}\n",
            "0.789738 (0.048905) with: {'metric': 'euclidean', 'n_neighbors': 2, 'weights': 'distance'}\n",
            "0.798722 (0.044366) with: {'metric': 'euclidean', 'n_neighbors': 3, 'weights': 'uniform'}\n",
            "0.790104 (0.045270) with: {'metric': 'euclidean', 'n_neighbors': 3, 'weights': 'distance'}\n",
            "0.812206 (0.039053) with: {'metric': 'euclidean', 'n_neighbors': 4, 'weights': 'uniform'}\n",
            "0.812555 (0.041474) with: {'metric': 'euclidean', 'n_neighbors': 4, 'weights': 'distance'}\n",
            "0.817070 (0.043724) with: {'metric': 'euclidean', 'n_neighbors': 5, 'weights': 'uniform'}\n",
            "0.808456 (0.044781) with: {'metric': 'euclidean', 'n_neighbors': 5, 'weights': 'distance'}\n",
            "0.816696 (0.039293) with: {'metric': 'euclidean', 'n_neighbors': 6, 'weights': 'uniform'}\n",
            "0.810695 (0.039513) with: {'metric': 'euclidean', 'n_neighbors': 6, 'weights': 'distance'}\n",
            "0.816334 (0.040498) with: {'metric': 'euclidean', 'n_neighbors': 7, 'weights': 'uniform'}\n",
            "0.809201 (0.041495) with: {'metric': 'euclidean', 'n_neighbors': 7, 'weights': 'distance'}\n",
            "0.815934 (0.038430) with: {'metric': 'euclidean', 'n_neighbors': 8, 'weights': 'uniform'}\n",
            "0.810699 (0.039271) with: {'metric': 'euclidean', 'n_neighbors': 8, 'weights': 'distance'}\n",
            "0.817066 (0.037236) with: {'metric': 'euclidean', 'n_neighbors': 9, 'weights': 'uniform'}\n",
            "0.809954 (0.039487) with: {'metric': 'euclidean', 'n_neighbors': 9, 'weights': 'distance'}\n",
            "0.818556 (0.032937) with: {'metric': 'euclidean', 'n_neighbors': 10, 'weights': 'uniform'}\n",
            "0.813317 (0.037818) with: {'metric': 'euclidean', 'n_neighbors': 10, 'weights': 'distance'}\n",
            "0.818548 (0.034711) with: {'metric': 'euclidean', 'n_neighbors': 11, 'weights': 'uniform'}\n",
            "0.810695 (0.038852) with: {'metric': 'euclidean', 'n_neighbors': 11, 'weights': 'distance'}\n",
            "0.822680 (0.034166) with: {'metric': 'euclidean', 'n_neighbors': 12, 'weights': 'uniform'}\n",
            "0.812206 (0.040688) with: {'metric': 'euclidean', 'n_neighbors': 12, 'weights': 'distance'}\n",
            "0.820416 (0.036561) with: {'metric': 'euclidean', 'n_neighbors': 13, 'weights': 'uniform'}\n",
            "0.810333 (0.040221) with: {'metric': 'euclidean', 'n_neighbors': 13, 'weights': 'distance'}\n",
            "0.826421 (0.033461) with: {'metric': 'euclidean', 'n_neighbors': 14, 'weights': 'uniform'}\n",
            "0.813333 (0.038391) with: {'metric': 'euclidean', 'n_neighbors': 14, 'weights': 'distance'}\n",
            "0.820799 (0.032956) with: {'metric': 'euclidean', 'n_neighbors': 15, 'weights': 'uniform'}\n",
            "0.808086 (0.038217) with: {'metric': 'euclidean', 'n_neighbors': 15, 'weights': 'distance'}\n",
            "0.823046 (0.030344) with: {'metric': 'euclidean', 'n_neighbors': 16, 'weights': 'uniform'}\n",
            "0.809958 (0.037041) with: {'metric': 'euclidean', 'n_neighbors': 16, 'weights': 'distance'}\n",
            "0.823791 (0.031639) with: {'metric': 'euclidean', 'n_neighbors': 17, 'weights': 'uniform'}\n",
            "0.809580 (0.037698) with: {'metric': 'euclidean', 'n_neighbors': 17, 'weights': 'distance'}\n",
            "0.821914 (0.031200) with: {'metric': 'euclidean', 'n_neighbors': 18, 'weights': 'uniform'}\n",
            "0.808826 (0.037275) with: {'metric': 'euclidean', 'n_neighbors': 18, 'weights': 'distance'}\n",
            "0.823034 (0.034394) with: {'metric': 'euclidean', 'n_neighbors': 19, 'weights': 'uniform'}\n",
            "0.811448 (0.038457) with: {'metric': 'euclidean', 'n_neighbors': 19, 'weights': 'distance'}\n",
            "0.826796 (0.030698) with: {'metric': 'euclidean', 'n_neighbors': 20, 'weights': 'uniform'}\n",
            "0.811457 (0.037982) with: {'metric': 'euclidean', 'n_neighbors': 20, 'weights': 'distance'}\n",
            "0.825302 (0.032285) with: {'metric': 'euclidean', 'n_neighbors': 21, 'weights': 'uniform'}\n",
            "0.811457 (0.038750) with: {'metric': 'euclidean', 'n_neighbors': 21, 'weights': 'distance'}\n",
            "0.828672 (0.032154) with: {'metric': 'euclidean', 'n_neighbors': 22, 'weights': 'uniform'}\n",
            "0.814449 (0.036905) with: {'metric': 'euclidean', 'n_neighbors': 22, 'weights': 'distance'}\n",
            "0.830533 (0.033555) with: {'metric': 'euclidean', 'n_neighbors': 23, 'weights': 'uniform'}\n",
            "0.815568 (0.036805) with: {'metric': 'euclidean', 'n_neighbors': 23, 'weights': 'distance'}\n",
            "0.827541 (0.031483) with: {'metric': 'euclidean', 'n_neighbors': 24, 'weights': 'uniform'}\n",
            "0.814070 (0.036813) with: {'metric': 'euclidean', 'n_neighbors': 24, 'weights': 'distance'}\n",
            "0.829784 (0.033274) with: {'metric': 'euclidean', 'n_neighbors': 25, 'weights': 'uniform'}\n",
            "0.814819 (0.036817) with: {'metric': 'euclidean', 'n_neighbors': 25, 'weights': 'distance'}\n",
            "0.830162 (0.032680) with: {'metric': 'euclidean', 'n_neighbors': 26, 'weights': 'uniform'}\n",
            "0.814823 (0.035997) with: {'metric': 'euclidean', 'n_neighbors': 26, 'weights': 'distance'}\n",
            "0.829784 (0.035120) with: {'metric': 'euclidean', 'n_neighbors': 27, 'weights': 'uniform'}\n",
            "0.815194 (0.037041) with: {'metric': 'euclidean', 'n_neighbors': 27, 'weights': 'distance'}\n",
            "0.830158 (0.032588) with: {'metric': 'euclidean', 'n_neighbors': 28, 'weights': 'uniform'}\n",
            "0.814074 (0.036227) with: {'metric': 'euclidean', 'n_neighbors': 28, 'weights': 'distance'}\n",
            "0.830533 (0.032794) with: {'metric': 'euclidean', 'n_neighbors': 29, 'weights': 'uniform'}\n",
            "0.815194 (0.036468) with: {'metric': 'euclidean', 'n_neighbors': 29, 'weights': 'distance'}\n",
            "0.828294 (0.032488) with: {'metric': 'euclidean', 'n_neighbors': 30, 'weights': 'uniform'}\n",
            "0.812201 (0.036957) with: {'metric': 'euclidean', 'n_neighbors': 30, 'weights': 'distance'}\n",
            "0.773650 (0.056307) with: {'metric': 'manhattan', 'n_neighbors': 1, 'weights': 'uniform'}\n",
            "0.773650 (0.056307) with: {'metric': 'manhattan', 'n_neighbors': 1, 'weights': 'distance'}\n",
            "0.785639 (0.048000) with: {'metric': 'manhattan', 'n_neighbors': 2, 'weights': 'uniform'}\n",
            "0.790861 (0.049119) with: {'metric': 'manhattan', 'n_neighbors': 2, 'weights': 'distance'}\n",
            "0.800221 (0.044308) with: {'metric': 'manhattan', 'n_neighbors': 3, 'weights': 'uniform'}\n",
            "0.793475 (0.044357) with: {'metric': 'manhattan', 'n_neighbors': 3, 'weights': 'distance'}\n",
            "0.812955 (0.040258) with: {'metric': 'manhattan', 'n_neighbors': 4, 'weights': 'uniform'}\n",
            "0.814802 (0.042723) with: {'metric': 'manhattan', 'n_neighbors': 4, 'weights': 'distance'}\n",
            "0.818943 (0.045004) with: {'metric': 'manhattan', 'n_neighbors': 5, 'weights': 'uniform'}\n",
            "0.812197 (0.046521) with: {'metric': 'manhattan', 'n_neighbors': 5, 'weights': 'distance'}\n",
            "0.820803 (0.040100) with: {'metric': 'manhattan', 'n_neighbors': 6, 'weights': 'uniform'}\n",
            "0.813691 (0.040948) with: {'metric': 'manhattan', 'n_neighbors': 6, 'weights': 'distance'}\n",
            "0.821573 (0.040587) with: {'metric': 'manhattan', 'n_neighbors': 7, 'weights': 'uniform'}\n",
            "0.814070 (0.041438) with: {'metric': 'manhattan', 'n_neighbors': 7, 'weights': 'distance'}\n",
            "0.821169 (0.038158) with: {'metric': 'manhattan', 'n_neighbors': 8, 'weights': 'uniform'}\n",
            "0.812572 (0.040880) with: {'metric': 'manhattan', 'n_neighbors': 8, 'weights': 'distance'}\n",
            "0.824178 (0.037353) with: {'metric': 'manhattan', 'n_neighbors': 9, 'weights': 'uniform'}\n",
            "0.813700 (0.040588) with: {'metric': 'manhattan', 'n_neighbors': 9, 'weights': 'distance'}\n",
            "0.823779 (0.033788) with: {'metric': 'manhattan', 'n_neighbors': 10, 'weights': 'uniform'}\n",
            "0.813321 (0.040393) with: {'metric': 'manhattan', 'n_neighbors': 10, 'weights': 'distance'}\n",
            "0.821169 (0.035528) with: {'metric': 'manhattan', 'n_neighbors': 11, 'weights': 'uniform'}\n",
            "0.813691 (0.039786) with: {'metric': 'manhattan', 'n_neighbors': 11, 'weights': 'distance'}\n",
            "0.824927 (0.036101) with: {'metric': 'manhattan', 'n_neighbors': 12, 'weights': 'uniform'}\n",
            "0.814449 (0.041502) with: {'metric': 'manhattan', 'n_neighbors': 12, 'weights': 'distance'}\n",
            "0.823421 (0.037207) with: {'metric': 'manhattan', 'n_neighbors': 13, 'weights': 'uniform'}\n",
            "0.812950 (0.041571) with: {'metric': 'manhattan', 'n_neighbors': 13, 'weights': 'distance'}\n",
            "0.825314 (0.034977) with: {'metric': 'manhattan', 'n_neighbors': 14, 'weights': 'uniform'}\n",
            "0.813329 (0.040344) with: {'metric': 'manhattan', 'n_neighbors': 14, 'weights': 'distance'}\n",
            "0.822672 (0.033941) with: {'metric': 'manhattan', 'n_neighbors': 15, 'weights': 'uniform'}\n",
            "0.809958 (0.039885) with: {'metric': 'manhattan', 'n_neighbors': 15, 'weights': 'distance'}\n",
            "0.823429 (0.032991) with: {'metric': 'manhattan', 'n_neighbors': 16, 'weights': 'uniform'}\n",
            "0.811452 (0.038122) with: {'metric': 'manhattan', 'n_neighbors': 16, 'weights': 'distance'}\n",
            "0.826038 (0.032100) with: {'metric': 'manhattan', 'n_neighbors': 17, 'weights': 'uniform'}\n",
            "0.811078 (0.038746) with: {'metric': 'manhattan', 'n_neighbors': 17, 'weights': 'distance'}\n",
            "0.824161 (0.032326) with: {'metric': 'manhattan', 'n_neighbors': 18, 'weights': 'uniform'}\n",
            "0.810699 (0.038405) with: {'metric': 'manhattan', 'n_neighbors': 18, 'weights': 'distance'}\n",
            "0.826779 (0.033756) with: {'metric': 'manhattan', 'n_neighbors': 19, 'weights': 'uniform'}\n",
            "0.812946 (0.040261) with: {'metric': 'manhattan', 'n_neighbors': 19, 'weights': 'distance'}\n",
            "0.832780 (0.031073) with: {'metric': 'manhattan', 'n_neighbors': 20, 'weights': 'uniform'}\n",
            "0.813700 (0.039004) with: {'metric': 'manhattan', 'n_neighbors': 20, 'weights': 'distance'}\n",
            "0.829043 (0.033175) with: {'metric': 'manhattan', 'n_neighbors': 21, 'weights': 'uniform'}\n",
            "0.813704 (0.039405) with: {'metric': 'manhattan', 'n_neighbors': 21, 'weights': 'distance'}\n",
            "0.832780 (0.031208) with: {'metric': 'manhattan', 'n_neighbors': 22, 'weights': 'uniform'}\n",
            "0.815943 (0.037366) with: {'metric': 'manhattan', 'n_neighbors': 22, 'weights': 'distance'}\n",
            "0.834648 (0.033618) with: {'metric': 'manhattan', 'n_neighbors': 23, 'weights': 'uniform'}\n",
            "0.817062 (0.037447) with: {'metric': 'manhattan', 'n_neighbors': 23, 'weights': 'distance'}\n",
            "0.832772 (0.029593) with: {'metric': 'manhattan', 'n_neighbors': 24, 'weights': 'uniform'}\n",
            "0.815564 (0.037403) with: {'metric': 'manhattan', 'n_neighbors': 24, 'weights': 'distance'}\n",
            "0.834644 (0.033652) with: {'metric': 'manhattan', 'n_neighbors': 25, 'weights': 'uniform'}\n",
            "0.816313 (0.037376) with: {'metric': 'manhattan', 'n_neighbors': 25, 'weights': 'distance'}\n",
            "0.834274 (0.032720) with: {'metric': 'manhattan', 'n_neighbors': 26, 'weights': 'uniform'}\n",
            "0.815938 (0.037391) with: {'metric': 'manhattan', 'n_neighbors': 26, 'weights': 'distance'}\n",
            "0.833146 (0.034621) with: {'metric': 'manhattan', 'n_neighbors': 27, 'weights': 'uniform'}\n",
            "0.816313 (0.037376) with: {'metric': 'manhattan', 'n_neighbors': 27, 'weights': 'distance'}\n",
            "0.833150 (0.031287) with: {'metric': 'manhattan', 'n_neighbors': 28, 'weights': 'uniform'}\n",
            "0.815938 (0.037165) with: {'metric': 'manhattan', 'n_neighbors': 28, 'weights': 'distance'}\n",
            "0.834274 (0.032202) with: {'metric': 'manhattan', 'n_neighbors': 29, 'weights': 'uniform'}\n",
            "0.816313 (0.037150) with: {'metric': 'manhattan', 'n_neighbors': 29, 'weights': 'distance'}\n",
            "0.833903 (0.031751) with: {'metric': 'manhattan', 'n_neighbors': 30, 'weights': 'uniform'}\n",
            "0.816313 (0.037150) with: {'metric': 'manhattan', 'n_neighbors': 30, 'weights': 'distance'}\n",
            "0.773275 (0.055580) with: {'metric': 'minkowski', 'n_neighbors': 1, 'weights': 'uniform'}\n",
            "0.773275 (0.055580) with: {'metric': 'minkowski', 'n_neighbors': 1, 'weights': 'distance'}\n",
            "0.784515 (0.047835) with: {'metric': 'minkowski', 'n_neighbors': 2, 'weights': 'uniform'}\n",
            "0.789738 (0.048905) with: {'metric': 'minkowski', 'n_neighbors': 2, 'weights': 'distance'}\n",
            "0.798722 (0.044366) with: {'metric': 'minkowski', 'n_neighbors': 3, 'weights': 'uniform'}\n",
            "0.790104 (0.045270) with: {'metric': 'minkowski', 'n_neighbors': 3, 'weights': 'distance'}\n",
            "0.812206 (0.039053) with: {'metric': 'minkowski', 'n_neighbors': 4, 'weights': 'uniform'}\n",
            "0.812555 (0.041474) with: {'metric': 'minkowski', 'n_neighbors': 4, 'weights': 'distance'}\n",
            "0.817070 (0.043724) with: {'metric': 'minkowski', 'n_neighbors': 5, 'weights': 'uniform'}\n",
            "0.808456 (0.044781) with: {'metric': 'minkowski', 'n_neighbors': 5, 'weights': 'distance'}\n",
            "0.816696 (0.039293) with: {'metric': 'minkowski', 'n_neighbors': 6, 'weights': 'uniform'}\n",
            "0.810695 (0.039513) with: {'metric': 'minkowski', 'n_neighbors': 6, 'weights': 'distance'}\n",
            "0.816334 (0.040498) with: {'metric': 'minkowski', 'n_neighbors': 7, 'weights': 'uniform'}\n",
            "0.809201 (0.041495) with: {'metric': 'minkowski', 'n_neighbors': 7, 'weights': 'distance'}\n",
            "0.815934 (0.038430) with: {'metric': 'minkowski', 'n_neighbors': 8, 'weights': 'uniform'}\n",
            "0.810699 (0.039271) with: {'metric': 'minkowski', 'n_neighbors': 8, 'weights': 'distance'}\n",
            "0.817066 (0.037236) with: {'metric': 'minkowski', 'n_neighbors': 9, 'weights': 'uniform'}\n",
            "0.809954 (0.039487) with: {'metric': 'minkowski', 'n_neighbors': 9, 'weights': 'distance'}\n",
            "0.818556 (0.032937) with: {'metric': 'minkowski', 'n_neighbors': 10, 'weights': 'uniform'}\n",
            "0.813317 (0.037818) with: {'metric': 'minkowski', 'n_neighbors': 10, 'weights': 'distance'}\n",
            "0.818548 (0.034711) with: {'metric': 'minkowski', 'n_neighbors': 11, 'weights': 'uniform'}\n",
            "0.810695 (0.038852) with: {'metric': 'minkowski', 'n_neighbors': 11, 'weights': 'distance'}\n",
            "0.822680 (0.034166) with: {'metric': 'minkowski', 'n_neighbors': 12, 'weights': 'uniform'}\n",
            "0.812206 (0.040688) with: {'metric': 'minkowski', 'n_neighbors': 12, 'weights': 'distance'}\n",
            "0.820416 (0.036561) with: {'metric': 'minkowski', 'n_neighbors': 13, 'weights': 'uniform'}\n",
            "0.810333 (0.040221) with: {'metric': 'minkowski', 'n_neighbors': 13, 'weights': 'distance'}\n",
            "0.826421 (0.033461) with: {'metric': 'minkowski', 'n_neighbors': 14, 'weights': 'uniform'}\n",
            "0.813333 (0.038391) with: {'metric': 'minkowski', 'n_neighbors': 14, 'weights': 'distance'}\n",
            "0.820799 (0.032956) with: {'metric': 'minkowski', 'n_neighbors': 15, 'weights': 'uniform'}\n",
            "0.808086 (0.038217) with: {'metric': 'minkowski', 'n_neighbors': 15, 'weights': 'distance'}\n",
            "0.823046 (0.030344) with: {'metric': 'minkowski', 'n_neighbors': 16, 'weights': 'uniform'}\n",
            "0.809958 (0.037041) with: {'metric': 'minkowski', 'n_neighbors': 16, 'weights': 'distance'}\n",
            "0.823791 (0.031639) with: {'metric': 'minkowski', 'n_neighbors': 17, 'weights': 'uniform'}\n",
            "0.809580 (0.037698) with: {'metric': 'minkowski', 'n_neighbors': 17, 'weights': 'distance'}\n",
            "0.821914 (0.031200) with: {'metric': 'minkowski', 'n_neighbors': 18, 'weights': 'uniform'}\n",
            "0.808826 (0.037275) with: {'metric': 'minkowski', 'n_neighbors': 18, 'weights': 'distance'}\n",
            "0.823034 (0.034394) with: {'metric': 'minkowski', 'n_neighbors': 19, 'weights': 'uniform'}\n",
            "0.811448 (0.038457) with: {'metric': 'minkowski', 'n_neighbors': 19, 'weights': 'distance'}\n",
            "0.826796 (0.030698) with: {'metric': 'minkowski', 'n_neighbors': 20, 'weights': 'uniform'}\n",
            "0.811457 (0.037982) with: {'metric': 'minkowski', 'n_neighbors': 20, 'weights': 'distance'}\n",
            "0.825302 (0.032285) with: {'metric': 'minkowski', 'n_neighbors': 21, 'weights': 'uniform'}\n",
            "0.811457 (0.038750) with: {'metric': 'minkowski', 'n_neighbors': 21, 'weights': 'distance'}\n",
            "0.828672 (0.032154) with: {'metric': 'minkowski', 'n_neighbors': 22, 'weights': 'uniform'}\n",
            "0.814449 (0.036905) with: {'metric': 'minkowski', 'n_neighbors': 22, 'weights': 'distance'}\n",
            "0.830533 (0.033555) with: {'metric': 'minkowski', 'n_neighbors': 23, 'weights': 'uniform'}\n",
            "0.815568 (0.036805) with: {'metric': 'minkowski', 'n_neighbors': 23, 'weights': 'distance'}\n",
            "0.827541 (0.031483) with: {'metric': 'minkowski', 'n_neighbors': 24, 'weights': 'uniform'}\n",
            "0.814070 (0.036813) with: {'metric': 'minkowski', 'n_neighbors': 24, 'weights': 'distance'}\n",
            "0.829784 (0.033274) with: {'metric': 'minkowski', 'n_neighbors': 25, 'weights': 'uniform'}\n",
            "0.814819 (0.036817) with: {'metric': 'minkowski', 'n_neighbors': 25, 'weights': 'distance'}\n",
            "0.830162 (0.032680) with: {'metric': 'minkowski', 'n_neighbors': 26, 'weights': 'uniform'}\n",
            "0.814823 (0.035997) with: {'metric': 'minkowski', 'n_neighbors': 26, 'weights': 'distance'}\n",
            "0.829784 (0.035120) with: {'metric': 'minkowski', 'n_neighbors': 27, 'weights': 'uniform'}\n",
            "0.815194 (0.037041) with: {'metric': 'minkowski', 'n_neighbors': 27, 'weights': 'distance'}\n",
            "0.830158 (0.032588) with: {'metric': 'minkowski', 'n_neighbors': 28, 'weights': 'uniform'}\n",
            "0.814074 (0.036227) with: {'metric': 'minkowski', 'n_neighbors': 28, 'weights': 'distance'}\n",
            "0.830533 (0.032794) with: {'metric': 'minkowski', 'n_neighbors': 29, 'weights': 'uniform'}\n",
            "0.815194 (0.036468) with: {'metric': 'minkowski', 'n_neighbors': 29, 'weights': 'distance'}\n",
            "0.828294 (0.032488) with: {'metric': 'minkowski', 'n_neighbors': 30, 'weights': 'uniform'}\n",
            "0.812201 (0.036957) with: {'metric': 'minkowski', 'n_neighbors': 30, 'weights': 'distance'}\n"
          ],
          "name": "stdout"
        }
      ]
    },
    {
      "cell_type": "code",
      "metadata": {
        "colab": {
          "base_uri": "https://localhost:8080/"
        },
        "id": "O76VCwXJhqSp",
        "outputId": "9afaa0cd-d154-4764-858a-f7d142bf5e63"
      },
      "source": [
        "from sklearn.model_selection import RepeatedStratifiedKFold\n",
        "from sklearn.model_selection import GridSearchCV\n",
        "from sklearn.svm import SVC\n",
        "model = SVC()\n",
        "kernel = ['poly', 'rbf', 'sigmoid']\n",
        "C = [50, 10, 1.0, 0.1, 0.01]\n",
        "gamma = ['scale']\n",
        "# define grid search\n",
        "grid = dict(kernel=kernel,C=C,gamma=gamma)\n",
        "cv = RepeatedStratifiedKFold(n_splits=10, n_repeats=3, random_state=1)\n",
        "grid_search = GridSearchCV(estimator=model, param_grid=grid, n_jobs=-1, cv=cv, scoring='accuracy',error_score=0)\n",
        "grid_result = grid_search.fit(X, y)\n",
        "# summarize results\n",
        "print(\"Best: %f using %s\" % (grid_result.best_score_, grid_result.best_params_))\n",
        "means = grid_result.cv_results_['mean_test_score']\n",
        "stds = grid_result.cv_results_['std_test_score']\n",
        "params = grid_result.cv_results_['params']\n",
        "for mean, stdev, param in zip(means, stds, params):\n",
        "    print(\"%f (%f) with: %r\" % (mean, stdev, param))\n",
        " "
      ],
      "execution_count": 115,
      "outputs": [
        {
          "output_type": "stream",
          "text": [
            "Best: 0.833895 using {'C': 1.0, 'gamma': 'scale', 'kernel': 'rbf'}\n",
            "0.824931 (0.036632) with: {'C': 50, 'gamma': 'scale', 'kernel': 'poly'}\n",
            "0.826034 (0.040164) with: {'C': 50, 'gamma': 'scale', 'kernel': 'rbf'}\n",
            "0.706696 (0.049006) with: {'C': 50, 'gamma': 'scale', 'kernel': 'sigmoid'}\n",
            "0.829039 (0.036929) with: {'C': 10, 'gamma': 'scale', 'kernel': 'poly'}\n",
            "0.830524 (0.035795) with: {'C': 10, 'gamma': 'scale', 'kernel': 'rbf'}\n",
            "0.705947 (0.048115) with: {'C': 10, 'gamma': 'scale', 'kernel': 'sigmoid'}\n",
            "0.831273 (0.033614) with: {'C': 1.0, 'gamma': 'scale', 'kernel': 'poly'}\n",
            "0.833895 (0.036000) with: {'C': 1.0, 'gamma': 'scale', 'kernel': 'rbf'}\n",
            "0.734016 (0.043376) with: {'C': 1.0, 'gamma': 'scale', 'kernel': 'sigmoid'}\n",
            "0.824166 (0.037963) with: {'C': 0.1, 'gamma': 'scale', 'kernel': 'poly'}\n",
            "0.817428 (0.039668) with: {'C': 0.1, 'gamma': 'scale', 'kernel': 'rbf'}\n",
            "0.758702 (0.045899) with: {'C': 0.1, 'gamma': 'scale', 'kernel': 'sigmoid'}\n",
            "0.621398 (0.008115) with: {'C': 0.01, 'gamma': 'scale', 'kernel': 'poly'}\n",
            "0.616167 (0.003750) with: {'C': 0.01, 'gamma': 'scale', 'kernel': 'rbf'}\n",
            "0.616167 (0.003750) with: {'C': 0.01, 'gamma': 'scale', 'kernel': 'sigmoid'}\n"
          ],
          "name": "stdout"
        }
      ]
    },
    {
      "cell_type": "code",
      "metadata": {
        "colab": {
          "base_uri": "https://localhost:8080/"
        },
        "id": "PwdG7jlEhqSp",
        "outputId": "0e643050-8100-41c0-ae0a-253591a6a667"
      },
      "source": [
        "from sklearn.model_selection import RepeatedStratifiedKFold\n",
        "from sklearn.model_selection import GridSearchCV\n",
        "from sklearn.ensemble import RandomForestClassifier\n",
        "model = RandomForestClassifier()\n",
        "n_estimators = [10, 100, 1000]\n",
        "max_features = ['sqrt', 'log2']\n",
        "# define grid search\n",
        "grid = dict(n_estimators=n_estimators,max_features=max_features)\n",
        "cv = RepeatedStratifiedKFold(n_splits=10, n_repeats=3, random_state=1)\n",
        "grid_search = GridSearchCV(estimator=model, param_grid=grid, n_jobs=-1, cv=cv, scoring='accuracy',error_score=0)\n",
        "grid_result = grid_search.fit(X, y)\n",
        "# summarize results\n",
        "print(\"Best: %f using %s\" % (grid_result.best_score_, grid_result.best_params_))\n",
        "means = grid_result.cv_results_['mean_test_score']\n",
        "stds = grid_result.cv_results_['std_test_score']\n",
        "params = grid_result.cv_results_['params']\n",
        "for mean, stdev, param in zip(means, stds, params):\n",
        "    print(\"%f (%f) with: %r\" % (mean, stdev, param))"
      ],
      "execution_count": 116,
      "outputs": [
        {
          "output_type": "stream",
          "text": [
            "Best: 0.815568 using {'max_features': 'log2', 'n_estimators': 1000}\n",
            "0.811082 (0.035915) with: {'max_features': 'sqrt', 'n_estimators': 10}\n",
            "0.809954 (0.038873) with: {'max_features': 'sqrt', 'n_estimators': 100}\n",
            "0.812206 (0.038728) with: {'max_features': 'sqrt', 'n_estimators': 1000}\n",
            "0.807703 (0.038869) with: {'max_features': 'log2', 'n_estimators': 10}\n",
            "0.812193 (0.038007) with: {'max_features': 'log2', 'n_estimators': 100}\n",
            "0.815568 (0.041027) with: {'max_features': 'log2', 'n_estimators': 1000}\n"
          ],
          "name": "stdout"
        }
      ]
    },
    {
      "cell_type": "code",
      "metadata": {
        "colab": {
          "base_uri": "https://localhost:8080/"
        },
        "id": "FnNqycAmhqSp",
        "outputId": "7ebbda55-b8e0-4eb3-804b-c5dadc360e85"
      },
      "source": [
        "from sklearn.model_selection import RepeatedStratifiedKFold\n",
        "from sklearn.model_selection import GridSearchCV\n",
        "from sklearn.linear_model import LogisticRegression\n",
        "# define models and parameters\n",
        "model = LogisticRegression()\n",
        "solvers = ['newton-cg', 'lbfgs', 'liblinear']\n",
        "penalty = ['l2']\n",
        "c_values = [100, 10, 1.0, 0.1, 0.01]\n",
        "# define grid search\n",
        "grid = dict(solver=solvers,penalty=penalty,C=c_values)\n",
        "cv = RepeatedStratifiedKFold(n_splits=10, n_repeats=3, random_state=1)\n",
        "grid_search = GridSearchCV(estimator=model, param_grid=grid, n_jobs=-1, cv=cv, scoring='accuracy',error_score=0)\n",
        "grid_result = grid_search.fit(X, y)\n",
        "# summarize results\n",
        "print(\"Best: %f using %s\" % (grid_result.best_score_, grid_result.best_params_))\n",
        "means = grid_result.cv_results_['mean_test_score']\n",
        "stds = grid_result.cv_results_['std_test_score']\n",
        "params = grid_result.cv_results_['params']\n",
        "for mean, stdev, param in zip(means, stds, params):\n",
        "    print(\"%f (%f) with: %r\" % (mean, stdev, param))\n",
        "\n",
        "\n"
      ],
      "execution_count": 117,
      "outputs": [
        {
          "output_type": "stream",
          "text": [
            "Best: 0.830129 using {'C': 1.0, 'penalty': 'l2', 'solver': 'newton-cg'}\n",
            "0.827890 (0.036677) with: {'C': 100, 'penalty': 'l2', 'solver': 'newton-cg'}\n",
            "0.827141 (0.036940) with: {'C': 100, 'penalty': 'l2', 'solver': 'lbfgs'}\n",
            "0.827890 (0.036677) with: {'C': 100, 'penalty': 'l2', 'solver': 'liblinear'}\n",
            "0.827141 (0.037617) with: {'C': 10, 'penalty': 'l2', 'solver': 'newton-cg'}\n",
            "0.827516 (0.036811) with: {'C': 10, 'penalty': 'l2', 'solver': 'lbfgs'}\n",
            "0.826767 (0.037178) with: {'C': 10, 'penalty': 'l2', 'solver': 'liblinear'}\n",
            "0.830129 (0.038099) with: {'C': 1.0, 'penalty': 'l2', 'solver': 'newton-cg'}\n",
            "0.830129 (0.038099) with: {'C': 1.0, 'penalty': 'l2', 'solver': 'lbfgs'}\n",
            "0.827882 (0.038395) with: {'C': 1.0, 'penalty': 'l2', 'solver': 'liblinear'}\n",
            "0.824157 (0.042096) with: {'C': 0.1, 'penalty': 'l2', 'solver': 'newton-cg'}\n",
            "0.824157 (0.042096) with: {'C': 0.1, 'penalty': 'l2', 'solver': 'lbfgs'}\n",
            "0.821157 (0.043271) with: {'C': 0.1, 'penalty': 'l2', 'solver': 'liblinear'}\n",
            "0.805077 (0.037243) with: {'C': 0.01, 'penalty': 'l2', 'solver': 'newton-cg'}\n",
            "0.805077 (0.037243) with: {'C': 0.01, 'penalty': 'l2', 'solver': 'lbfgs'}\n",
            "0.805822 (0.037336) with: {'C': 0.01, 'penalty': 'l2', 'solver': 'liblinear'}\n"
          ],
          "name": "stdout"
        }
      ]
    },
    {
      "cell_type": "markdown",
      "metadata": {
        "id": "NTThwF3OhqSq"
      },
      "source": [
        "# Conclusion:"
      ]
    },
    {
      "cell_type": "markdown",
      "metadata": {
        "id": "DZcQ41rkhqSq"
      },
      "source": [
        "# From above processing techqunies we can say that K Nearest Neighbour is the best model for Titanic Dataset."
      ]
    }
  ]
}